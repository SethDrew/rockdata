{
 "cells": [
  {
   "cell_type": "markdown",
   "id": "5334f57d",
   "metadata": {},
   "source": [
    "# Disclaimer\n",
    "\n",
    "This script relies on scraping data due to the deprecation of the mountain project API in 2020.\n",
    "\n",
    "Note that scraping data from websites may be against their terms of service, so it's important to check the site's policies before attempting to scrape data. Additionally, scraping large amounts of data or repeatedly scraping a site can put a strain on their servers and may be considered unethical. Always be respectful of the site's resources and policies when scraping data.\n",
    "\n"
   ]
  },
  {
   "cell_type": "code",
   "execution_count": 21,
   "id": "caef3732",
   "metadata": {},
   "outputs": [],
   "source": [
    "import pandas as pd\n",
    "import plotly.express as px\n",
    "import datetime as dt\n",
    "import requests\n",
    "\n",
    "pd.options.mode.chained_assignment = None  # Disable the warning\n",
    "# I used venv with this command to get jp working\n",
    "# ipython kernel install --user --name=your_env_name\n",
    "\n",
    "\"\"\"\n",
    "(venv) (main) ~/Documents/climb ++ ipython kernel install --user --name=venv\n",
    "Installed kernelspec venv in /Users/me/Library/Jupyter/kernels/venv\n",
    "(venv) (main) ~/Documents/climb ++\n",
    "(venv) (main) ~/Documents/climb ++\n",
    "(venv) (main) ~/Documents/climb ++\n",
    "(venv) (main) ~/Documents/climb ++ jupyter-notebook\n",
    "\"\"\"\n",
    "pass"
   ]
  },
  {
   "cell_type": "code",
   "execution_count": 22,
   "id": "cd984be9",
   "metadata": {},
   "outputs": [],
   "source": [
    "def insert_newlines(string, splitlength=50):\n",
    "    if type(string) != str:\n",
    "        return \"\"\n",
    "    return '\\n'.join([string[i:i+splitlength] for i in range(0, len(string), splitlength)])\n"
   ]
  },
  {
   "cell_type": "code",
   "execution_count": 23,
   "id": "e93728a7",
   "metadata": {},
   "outputs": [],
   "source": [
    "# url = 'https://www.mountainproject.com/user/200169225/seth-drew/tick-export'\n",
    "url = 'https://www.mountainproject.com/user/200452607/emma-kowal/tick-export'\n",
    "response = requests.get(url)\n",
    "df = pd.read_csv(url)\n"
   ]
  },
  {
   "cell_type": "code",
   "execution_count": 24,
   "id": "0f0e768d",
   "metadata": {},
   "outputs": [],
   "source": [
    "df_codes = pd.read_csv(\"grade_codes.csv\", names=[\"Rating Code\", \"Rating Name\"]).set_index(\"Rating Code\")\n",
    "std_rating_names_mapping = df_codes['Rating Name'].to_dict()"
   ]
  },
  {
   "cell_type": "code",
   "execution_count": 25,
   "id": "51ca7bef",
   "metadata": {},
   "outputs": [],
   "source": [
    "df.Rating = df.apply(lambda x: std_rating_names_mapping[x['Rating Code']], axis=1)\n",
    "df['Date'] = pd.to_datetime(df['Date'])\n",
    "today = pd.Timestamp.today()\n",
    "df['Days Ago'] = (today - df['Date']).dt.days\n",
    "df['Months Ago'] = ((today - df['Date']) / pd.Timedelta(days=30))\n"
   ]
  },
  {
   "cell_type": "code",
   "execution_count": 26,
   "id": "75f38b5d",
   "metadata": {},
   "outputs": [],
   "source": [
    "sport_code_range = '950 <= `Rating Code` <= 15000'\n",
    "bouldering_code_range = '20000 <= `Rating Code` <= 22000'"
   ]
  },
  {
   "cell_type": "code",
   "execution_count": 27,
   "id": "9e5de186",
   "metadata": {},
   "outputs": [],
   "source": [
    "redpoint_df = df.loc[(df['Lead Style'] != 'Fell/Hung') & (df['Style'] != 'Fell/Hung')]\n",
    "redpoint_df = redpoint_df.drop_duplicates(subset=['Route'])\n",
    "hungdf = df.loc[(df['Lead Style'] == 'Fell/Hung') | (df['Style'] == 'Fell/Hung')]\n",
    "\n",
    "# Select only the rows where the \"Style\" column is \"Sport\" and the \"Rating Code\" column falls within the sport grade range\n",
    "sportdf = redpoint_df.query(sport_code_range)\n",
    "boulderingdf = redpoint_df.query(bouldering_code_range)\n"
   ]
  },
  {
   "cell_type": "code",
   "execution_count": null,
   "id": "a45bdb8c",
   "metadata": {},
   "outputs": [],
   "source": []
  },
  {
   "cell_type": "code",
   "execution_count": 28,
   "id": "1f0d2618",
   "metadata": {},
   "outputs": [],
   "source": [
    "def plot(df):\n",
    "    df = df.sort_values(['Rating Code', 'Days Ago'])\n",
    "\n",
    "    fig = px.bar(df, x='Rating', color='Months Ago',\n",
    "#                  opacity=1-(df['Days Ago']/(df['Days Ago'].max()))**(1/2),\n",
    "                 barmode='stack', title='Route by Rating, Stacked by Age', \n",
    "#                              color_continuous_scale=[(0, 'gray'), (1, 'gray')],\n",
    "                 hover_data=['Route', \"Days Ago\", \"Notes\"])\n",
    "\n",
    "    fig.update_layout(xaxis={'categoryorder': 'array', 'categoryarray': df['Rating'].tolist()})\n",
    "\n",
    "    fig.show()"
   ]
  },
  {
   "cell_type": "code",
   "execution_count": 212,
   "id": "1644ac8c",
   "metadata": {},
   "outputs": [
    {
     "ename": "SyntaxError",
     "evalue": "keyword argument repeated: barmode (3086574.py, line 4)",
     "output_type": "error",
     "traceback": [
      "\u001b[0;36m  Cell \u001b[0;32mIn[212], line 4\u001b[0;36m\u001b[0m\n\u001b[0;31m    animation_frame=\"Months Ago\", barmode='stack')\u001b[0m\n\u001b[0m                                  ^\u001b[0m\n\u001b[0;31mSyntaxError\u001b[0m\u001b[0;31m:\u001b[0m keyword argument repeated: barmode\n"
     ]
    }
   ],
   "source": [
    "def animate(df):\n",
    "    df['Months Ago'] = df['Months Ago'].apply(int)\n",
    "    fig = px.bar(df, x=\"Rating\",\n",
    "      animation_frame=\"Months Ago\", barmode='stack')\n",
    "    fig.show()"
   ]
  },
  {
   "cell_type": "code",
   "execution_count": 210,
   "id": "6d060125",
   "metadata": {
    "scrolled": false
   },
   "outputs": [
    {
     "data": {
      "application/vnd.plotly.v1+json": {
       "config": {
        "plotlyServerURL": "https://plot.ly"
       },
       "data": [
        {
         "alignmentgroup": "True",
         "hovertemplate": "Months Ago=0<br>Rating=%{x}<br>count=%{y}<extra></extra>",
         "legendgroup": "",
         "marker": {
          "color": "#636efa",
          "pattern": {
           "shape": ""
          }
         },
         "name": "",
         "offsetgroup": "",
         "orientation": "v",
         "showlegend": false,
         "textposition": "auto",
         "type": "bar",
         "x": [
          "5.10d",
          "5.12-",
          "5.12a",
          "5.11d",
          "5.11b/c"
         ],
         "xaxis": "x",
         "y": [
          1,
          1,
          1,
          1,
          1
         ],
         "yaxis": "y"
        }
       ],
       "frames": [
        {
         "data": [
          {
           "alignmentgroup": "True",
           "hovertemplate": "Months Ago=0<br>Rating=%{x}<br>count=%{y}<extra></extra>",
           "legendgroup": "",
           "marker": {
            "color": "#636efa",
            "pattern": {
             "shape": ""
            }
           },
           "name": "",
           "offsetgroup": "",
           "orientation": "v",
           "showlegend": false,
           "textposition": "auto",
           "type": "bar",
           "x": [
            "5.10d",
            "5.12-",
            "5.12a",
            "5.11d",
            "5.11b/c"
           ],
           "xaxis": "x",
           "y": [
            1,
            1,
            1,
            1,
            1
           ],
           "yaxis": "y"
          }
         ],
         "name": "0"
        },
        {
         "data": [
          {
           "alignmentgroup": "True",
           "hovertemplate": "Months Ago=1<br>Rating=%{x}<br>count=%{y}<extra></extra>",
           "legendgroup": "",
           "marker": {
            "color": "#636efa",
            "pattern": {
             "shape": ""
            }
           },
           "name": "",
           "offsetgroup": "",
           "orientation": "v",
           "showlegend": false,
           "textposition": "auto",
           "type": "bar",
           "x": [
            "5.12a",
            "5.12a",
            "5.10c",
            "5.12b",
            "5.12a",
            "5.12a",
            "5.11b",
            "5.12d",
            "5.11c",
            "5.11a",
            "5.11d",
            "5.11b",
            "5.11d",
            "5.12b",
            "5.12c",
            "5.12b",
            "5.13a",
            "5.13a",
            "5.12c",
            "5.10a/b",
            "5.11c",
            "5.12a",
            "5.12c",
            "5.12b",
            "5.12-",
            "5.10b",
            "5.10a",
            "5.11b"
           ],
           "xaxis": "x",
           "y": [
            1,
            1,
            1,
            1,
            1,
            1,
            1,
            1,
            1,
            1,
            1,
            1,
            1,
            1,
            1,
            1,
            1,
            1,
            1,
            1,
            1,
            1,
            1,
            1,
            1,
            1,
            1,
            1
           ],
           "yaxis": "y"
          }
         ],
         "name": "1"
        },
        {
         "data": [
          {
           "alignmentgroup": "True",
           "hovertemplate": "Months Ago=3<br>Rating=%{x}<br>count=%{y}<extra></extra>",
           "legendgroup": "",
           "marker": {
            "color": "#636efa",
            "pattern": {
             "shape": ""
            }
           },
           "name": "",
           "offsetgroup": "",
           "orientation": "v",
           "showlegend": false,
           "textposition": "auto",
           "type": "bar",
           "x": [
            "5.10d",
            "5.10-",
            "5.10d",
            "5.9",
            "5.10c",
            "5.10b",
            "5.9",
            "5.10a",
            "5.10d",
            "5.10c",
            "5.10c",
            "5.12a",
            "5.12a",
            "5.10c",
            "5.10d",
            "5.9",
            "5.10a",
            "5.9",
            "5.8"
           ],
           "xaxis": "x",
           "y": [
            1,
            1,
            1,
            1,
            1,
            1,
            1,
            1,
            1,
            1,
            1,
            1,
            1,
            1,
            1,
            1,
            1,
            1,
            1
           ],
           "yaxis": "y"
          }
         ],
         "name": "3"
        },
        {
         "data": [
          {
           "alignmentgroup": "True",
           "hovertemplate": "Months Ago=4<br>Rating=%{x}<br>count=%{y}<extra></extra>",
           "legendgroup": "",
           "marker": {
            "color": "#636efa",
            "pattern": {
             "shape": ""
            }
           },
           "name": "",
           "offsetgroup": "",
           "orientation": "v",
           "showlegend": false,
           "textposition": "auto",
           "type": "bar",
           "x": [
            "5.10a",
            "5.6",
            "5.11c",
            "5.12b",
            "5.11b",
            "5.11a",
            "5.10a",
            "5.10b",
            "5.6"
           ],
           "xaxis": "x",
           "y": [
            1,
            1,
            1,
            1,
            1,
            1,
            1,
            1,
            1
           ],
           "yaxis": "y"
          }
         ],
         "name": "4"
        },
        {
         "data": [
          {
           "alignmentgroup": "True",
           "hovertemplate": "Months Ago=7<br>Rating=%{x}<br>count=%{y}<extra></extra>",
           "legendgroup": "",
           "marker": {
            "color": "#636efa",
            "pattern": {
             "shape": ""
            }
           },
           "name": "",
           "offsetgroup": "",
           "orientation": "v",
           "showlegend": false,
           "textposition": "auto",
           "type": "bar",
           "x": [
            "5.11b",
            "5.11b",
            "5.11c",
            "5.10a",
            "5.8",
            "5.7",
            "5.6",
            "5.12a",
            "5.10b",
            "5.12d"
           ],
           "xaxis": "x",
           "y": [
            1,
            1,
            1,
            1,
            1,
            1,
            1,
            1,
            1,
            1
           ],
           "yaxis": "y"
          }
         ],
         "name": "7"
        },
        {
         "data": [
          {
           "alignmentgroup": "True",
           "hovertemplate": "Months Ago=14<br>Rating=%{x}<br>count=%{y}<extra></extra>",
           "legendgroup": "",
           "marker": {
            "color": "#636efa",
            "pattern": {
             "shape": ""
            }
           },
           "name": "",
           "offsetgroup": "",
           "orientation": "v",
           "showlegend": false,
           "textposition": "auto",
           "type": "bar",
           "x": [
            "5.9+",
            "5.12-",
            "5.13a",
            "5.10d",
            "5.11c",
            "5.12a"
           ],
           "xaxis": "x",
           "y": [
            1,
            1,
            1,
            1,
            1,
            1
           ],
           "yaxis": "y"
          }
         ],
         "name": "14"
        },
        {
         "data": [
          {
           "alignmentgroup": "True",
           "hovertemplate": "Months Ago=15<br>Rating=%{x}<br>count=%{y}<extra></extra>",
           "legendgroup": "",
           "marker": {
            "color": "#636efa",
            "pattern": {
             "shape": ""
            }
           },
           "name": "",
           "offsetgroup": "",
           "orientation": "v",
           "showlegend": false,
           "textposition": "auto",
           "type": "bar",
           "x": [
            "5.8"
           ],
           "xaxis": "x",
           "y": [
            1
           ],
           "yaxis": "y"
          }
         ],
         "name": "15"
        },
        {
         "data": [
          {
           "alignmentgroup": "True",
           "hovertemplate": "Months Ago=17<br>Rating=%{x}<br>count=%{y}<extra></extra>",
           "legendgroup": "",
           "marker": {
            "color": "#636efa",
            "pattern": {
             "shape": ""
            }
           },
           "name": "",
           "offsetgroup": "",
           "orientation": "v",
           "showlegend": false,
           "textposition": "auto",
           "type": "bar",
           "x": [
            "5.12c"
           ],
           "xaxis": "x",
           "y": [
            1
           ],
           "yaxis": "y"
          }
         ],
         "name": "17"
        },
        {
         "data": [
          {
           "alignmentgroup": "True",
           "hovertemplate": "Months Ago=23<br>Rating=%{x}<br>count=%{y}<extra></extra>",
           "legendgroup": "",
           "marker": {
            "color": "#636efa",
            "pattern": {
             "shape": ""
            }
           },
           "name": "",
           "offsetgroup": "",
           "orientation": "v",
           "showlegend": false,
           "textposition": "auto",
           "type": "bar",
           "x": [
            "5.12a"
           ],
           "xaxis": "x",
           "y": [
            1
           ],
           "yaxis": "y"
          }
         ],
         "name": "23"
        },
        {
         "data": [
          {
           "alignmentgroup": "True",
           "hovertemplate": "Months Ago=27<br>Rating=%{x}<br>count=%{y}<extra></extra>",
           "legendgroup": "",
           "marker": {
            "color": "#636efa",
            "pattern": {
             "shape": ""
            }
           },
           "name": "",
           "offsetgroup": "",
           "orientation": "v",
           "showlegend": false,
           "textposition": "auto",
           "type": "bar",
           "x": [
            "5.12c",
            "5.12a/b",
            "5.10c",
            "5.12a",
            "5.11d"
           ],
           "xaxis": "x",
           "y": [
            1,
            1,
            1,
            1,
            1
           ],
           "yaxis": "y"
          }
         ],
         "name": "27"
        },
        {
         "data": [
          {
           "alignmentgroup": "True",
           "hovertemplate": "Months Ago=32<br>Rating=%{x}<br>count=%{y}<extra></extra>",
           "legendgroup": "",
           "marker": {
            "color": "#636efa",
            "pattern": {
             "shape": ""
            }
           },
           "name": "",
           "offsetgroup": "",
           "orientation": "v",
           "showlegend": false,
           "textposition": "auto",
           "type": "bar",
           "x": [
            "5.10c",
            "5.9"
           ],
           "xaxis": "x",
           "y": [
            1,
            1
           ],
           "yaxis": "y"
          }
         ],
         "name": "32"
        },
        {
         "data": [
          {
           "alignmentgroup": "True",
           "hovertemplate": "Months Ago=38<br>Rating=%{x}<br>count=%{y}<extra></extra>",
           "legendgroup": "",
           "marker": {
            "color": "#636efa",
            "pattern": {
             "shape": ""
            }
           },
           "name": "",
           "offsetgroup": "",
           "orientation": "v",
           "showlegend": false,
           "textposition": "auto",
           "type": "bar",
           "x": [
            "5.12a",
            "5.11c",
            "5.11c",
            "5.11c",
            "5.11b",
            "5.11a",
            "5.11d",
            "5.11c",
            "5.12a",
            "5.11a"
           ],
           "xaxis": "x",
           "y": [
            1,
            1,
            1,
            1,
            1,
            1,
            1,
            1,
            1,
            1
           ],
           "yaxis": "y"
          }
         ],
         "name": "38"
        },
        {
         "data": [
          {
           "alignmentgroup": "True",
           "hovertemplate": "Months Ago=57<br>Rating=%{x}<br>count=%{y}<extra></extra>",
           "legendgroup": "",
           "marker": {
            "color": "#636efa",
            "pattern": {
             "shape": ""
            }
           },
           "name": "",
           "offsetgroup": "",
           "orientation": "v",
           "showlegend": false,
           "textposition": "auto",
           "type": "bar",
           "x": [
            "5.10a"
           ],
           "xaxis": "x",
           "y": [
            1
           ],
           "yaxis": "y"
          }
         ],
         "name": "57"
        },
        {
         "data": [
          {
           "alignmentgroup": "True",
           "hovertemplate": "Months Ago=60<br>Rating=%{x}<br>count=%{y}<extra></extra>",
           "legendgroup": "",
           "marker": {
            "color": "#636efa",
            "pattern": {
             "shape": ""
            }
           },
           "name": "",
           "offsetgroup": "",
           "orientation": "v",
           "showlegend": false,
           "textposition": "auto",
           "type": "bar",
           "x": [
            "5.11d",
            "5.11a",
            "5.11b",
            "5.11b",
            "5.11b",
            "5.10-"
           ],
           "xaxis": "x",
           "y": [
            1,
            1,
            1,
            1,
            1,
            1
           ],
           "yaxis": "y"
          }
         ],
         "name": "60"
        }
       ],
       "layout": {
        "barmode": "stack",
        "legend": {
         "tracegroupgap": 0
        },
        "margin": {
         "t": 60
        },
        "sliders": [
         {
          "active": 0,
          "currentvalue": {
           "prefix": "Months Ago="
          },
          "len": 0.9,
          "pad": {
           "b": 10,
           "t": 60
          },
          "steps": [
           {
            "args": [
             [
              "0"
             ],
             {
              "frame": {
               "duration": 0,
               "redraw": true
              },
              "fromcurrent": true,
              "mode": "immediate",
              "transition": {
               "duration": 0,
               "easing": "linear"
              }
             }
            ],
            "label": "0",
            "method": "animate"
           },
           {
            "args": [
             [
              "1"
             ],
             {
              "frame": {
               "duration": 0,
               "redraw": true
              },
              "fromcurrent": true,
              "mode": "immediate",
              "transition": {
               "duration": 0,
               "easing": "linear"
              }
             }
            ],
            "label": "1",
            "method": "animate"
           },
           {
            "args": [
             [
              "3"
             ],
             {
              "frame": {
               "duration": 0,
               "redraw": true
              },
              "fromcurrent": true,
              "mode": "immediate",
              "transition": {
               "duration": 0,
               "easing": "linear"
              }
             }
            ],
            "label": "3",
            "method": "animate"
           },
           {
            "args": [
             [
              "4"
             ],
             {
              "frame": {
               "duration": 0,
               "redraw": true
              },
              "fromcurrent": true,
              "mode": "immediate",
              "transition": {
               "duration": 0,
               "easing": "linear"
              }
             }
            ],
            "label": "4",
            "method": "animate"
           },
           {
            "args": [
             [
              "7"
             ],
             {
              "frame": {
               "duration": 0,
               "redraw": true
              },
              "fromcurrent": true,
              "mode": "immediate",
              "transition": {
               "duration": 0,
               "easing": "linear"
              }
             }
            ],
            "label": "7",
            "method": "animate"
           },
           {
            "args": [
             [
              "14"
             ],
             {
              "frame": {
               "duration": 0,
               "redraw": true
              },
              "fromcurrent": true,
              "mode": "immediate",
              "transition": {
               "duration": 0,
               "easing": "linear"
              }
             }
            ],
            "label": "14",
            "method": "animate"
           },
           {
            "args": [
             [
              "15"
             ],
             {
              "frame": {
               "duration": 0,
               "redraw": true
              },
              "fromcurrent": true,
              "mode": "immediate",
              "transition": {
               "duration": 0,
               "easing": "linear"
              }
             }
            ],
            "label": "15",
            "method": "animate"
           },
           {
            "args": [
             [
              "17"
             ],
             {
              "frame": {
               "duration": 0,
               "redraw": true
              },
              "fromcurrent": true,
              "mode": "immediate",
              "transition": {
               "duration": 0,
               "easing": "linear"
              }
             }
            ],
            "label": "17",
            "method": "animate"
           },
           {
            "args": [
             [
              "23"
             ],
             {
              "frame": {
               "duration": 0,
               "redraw": true
              },
              "fromcurrent": true,
              "mode": "immediate",
              "transition": {
               "duration": 0,
               "easing": "linear"
              }
             }
            ],
            "label": "23",
            "method": "animate"
           },
           {
            "args": [
             [
              "27"
             ],
             {
              "frame": {
               "duration": 0,
               "redraw": true
              },
              "fromcurrent": true,
              "mode": "immediate",
              "transition": {
               "duration": 0,
               "easing": "linear"
              }
             }
            ],
            "label": "27",
            "method": "animate"
           },
           {
            "args": [
             [
              "32"
             ],
             {
              "frame": {
               "duration": 0,
               "redraw": true
              },
              "fromcurrent": true,
              "mode": "immediate",
              "transition": {
               "duration": 0,
               "easing": "linear"
              }
             }
            ],
            "label": "32",
            "method": "animate"
           },
           {
            "args": [
             [
              "38"
             ],
             {
              "frame": {
               "duration": 0,
               "redraw": true
              },
              "fromcurrent": true,
              "mode": "immediate",
              "transition": {
               "duration": 0,
               "easing": "linear"
              }
             }
            ],
            "label": "38",
            "method": "animate"
           },
           {
            "args": [
             [
              "57"
             ],
             {
              "frame": {
               "duration": 0,
               "redraw": true
              },
              "fromcurrent": true,
              "mode": "immediate",
              "transition": {
               "duration": 0,
               "easing": "linear"
              }
             }
            ],
            "label": "57",
            "method": "animate"
           },
           {
            "args": [
             [
              "60"
             ],
             {
              "frame": {
               "duration": 0,
               "redraw": true
              },
              "fromcurrent": true,
              "mode": "immediate",
              "transition": {
               "duration": 0,
               "easing": "linear"
              }
             }
            ],
            "label": "60",
            "method": "animate"
           }
          ],
          "x": 0.1,
          "xanchor": "left",
          "y": 0,
          "yanchor": "top"
         }
        ],
        "template": {
         "data": {
          "bar": [
           {
            "error_x": {
             "color": "#2a3f5f"
            },
            "error_y": {
             "color": "#2a3f5f"
            },
            "marker": {
             "line": {
              "color": "#E5ECF6",
              "width": 0.5
             },
             "pattern": {
              "fillmode": "overlay",
              "size": 10,
              "solidity": 0.2
             }
            },
            "type": "bar"
           }
          ],
          "barpolar": [
           {
            "marker": {
             "line": {
              "color": "#E5ECF6",
              "width": 0.5
             },
             "pattern": {
              "fillmode": "overlay",
              "size": 10,
              "solidity": 0.2
             }
            },
            "type": "barpolar"
           }
          ],
          "carpet": [
           {
            "aaxis": {
             "endlinecolor": "#2a3f5f",
             "gridcolor": "white",
             "linecolor": "white",
             "minorgridcolor": "white",
             "startlinecolor": "#2a3f5f"
            },
            "baxis": {
             "endlinecolor": "#2a3f5f",
             "gridcolor": "white",
             "linecolor": "white",
             "minorgridcolor": "white",
             "startlinecolor": "#2a3f5f"
            },
            "type": "carpet"
           }
          ],
          "choropleth": [
           {
            "colorbar": {
             "outlinewidth": 0,
             "ticks": ""
            },
            "type": "choropleth"
           }
          ],
          "contour": [
           {
            "colorbar": {
             "outlinewidth": 0,
             "ticks": ""
            },
            "colorscale": [
             [
              0,
              "#0d0887"
             ],
             [
              0.1111111111111111,
              "#46039f"
             ],
             [
              0.2222222222222222,
              "#7201a8"
             ],
             [
              0.3333333333333333,
              "#9c179e"
             ],
             [
              0.4444444444444444,
              "#bd3786"
             ],
             [
              0.5555555555555556,
              "#d8576b"
             ],
             [
              0.6666666666666666,
              "#ed7953"
             ],
             [
              0.7777777777777778,
              "#fb9f3a"
             ],
             [
              0.8888888888888888,
              "#fdca26"
             ],
             [
              1,
              "#f0f921"
             ]
            ],
            "type": "contour"
           }
          ],
          "contourcarpet": [
           {
            "colorbar": {
             "outlinewidth": 0,
             "ticks": ""
            },
            "type": "contourcarpet"
           }
          ],
          "heatmap": [
           {
            "colorbar": {
             "outlinewidth": 0,
             "ticks": ""
            },
            "colorscale": [
             [
              0,
              "#0d0887"
             ],
             [
              0.1111111111111111,
              "#46039f"
             ],
             [
              0.2222222222222222,
              "#7201a8"
             ],
             [
              0.3333333333333333,
              "#9c179e"
             ],
             [
              0.4444444444444444,
              "#bd3786"
             ],
             [
              0.5555555555555556,
              "#d8576b"
             ],
             [
              0.6666666666666666,
              "#ed7953"
             ],
             [
              0.7777777777777778,
              "#fb9f3a"
             ],
             [
              0.8888888888888888,
              "#fdca26"
             ],
             [
              1,
              "#f0f921"
             ]
            ],
            "type": "heatmap"
           }
          ],
          "heatmapgl": [
           {
            "colorbar": {
             "outlinewidth": 0,
             "ticks": ""
            },
            "colorscale": [
             [
              0,
              "#0d0887"
             ],
             [
              0.1111111111111111,
              "#46039f"
             ],
             [
              0.2222222222222222,
              "#7201a8"
             ],
             [
              0.3333333333333333,
              "#9c179e"
             ],
             [
              0.4444444444444444,
              "#bd3786"
             ],
             [
              0.5555555555555556,
              "#d8576b"
             ],
             [
              0.6666666666666666,
              "#ed7953"
             ],
             [
              0.7777777777777778,
              "#fb9f3a"
             ],
             [
              0.8888888888888888,
              "#fdca26"
             ],
             [
              1,
              "#f0f921"
             ]
            ],
            "type": "heatmapgl"
           }
          ],
          "histogram": [
           {
            "marker": {
             "pattern": {
              "fillmode": "overlay",
              "size": 10,
              "solidity": 0.2
             }
            },
            "type": "histogram"
           }
          ],
          "histogram2d": [
           {
            "colorbar": {
             "outlinewidth": 0,
             "ticks": ""
            },
            "colorscale": [
             [
              0,
              "#0d0887"
             ],
             [
              0.1111111111111111,
              "#46039f"
             ],
             [
              0.2222222222222222,
              "#7201a8"
             ],
             [
              0.3333333333333333,
              "#9c179e"
             ],
             [
              0.4444444444444444,
              "#bd3786"
             ],
             [
              0.5555555555555556,
              "#d8576b"
             ],
             [
              0.6666666666666666,
              "#ed7953"
             ],
             [
              0.7777777777777778,
              "#fb9f3a"
             ],
             [
              0.8888888888888888,
              "#fdca26"
             ],
             [
              1,
              "#f0f921"
             ]
            ],
            "type": "histogram2d"
           }
          ],
          "histogram2dcontour": [
           {
            "colorbar": {
             "outlinewidth": 0,
             "ticks": ""
            },
            "colorscale": [
             [
              0,
              "#0d0887"
             ],
             [
              0.1111111111111111,
              "#46039f"
             ],
             [
              0.2222222222222222,
              "#7201a8"
             ],
             [
              0.3333333333333333,
              "#9c179e"
             ],
             [
              0.4444444444444444,
              "#bd3786"
             ],
             [
              0.5555555555555556,
              "#d8576b"
             ],
             [
              0.6666666666666666,
              "#ed7953"
             ],
             [
              0.7777777777777778,
              "#fb9f3a"
             ],
             [
              0.8888888888888888,
              "#fdca26"
             ],
             [
              1,
              "#f0f921"
             ]
            ],
            "type": "histogram2dcontour"
           }
          ],
          "mesh3d": [
           {
            "colorbar": {
             "outlinewidth": 0,
             "ticks": ""
            },
            "type": "mesh3d"
           }
          ],
          "parcoords": [
           {
            "line": {
             "colorbar": {
              "outlinewidth": 0,
              "ticks": ""
             }
            },
            "type": "parcoords"
           }
          ],
          "pie": [
           {
            "automargin": true,
            "type": "pie"
           }
          ],
          "scatter": [
           {
            "fillpattern": {
             "fillmode": "overlay",
             "size": 10,
             "solidity": 0.2
            },
            "type": "scatter"
           }
          ],
          "scatter3d": [
           {
            "line": {
             "colorbar": {
              "outlinewidth": 0,
              "ticks": ""
             }
            },
            "marker": {
             "colorbar": {
              "outlinewidth": 0,
              "ticks": ""
             }
            },
            "type": "scatter3d"
           }
          ],
          "scattercarpet": [
           {
            "marker": {
             "colorbar": {
              "outlinewidth": 0,
              "ticks": ""
             }
            },
            "type": "scattercarpet"
           }
          ],
          "scattergeo": [
           {
            "marker": {
             "colorbar": {
              "outlinewidth": 0,
              "ticks": ""
             }
            },
            "type": "scattergeo"
           }
          ],
          "scattergl": [
           {
            "marker": {
             "colorbar": {
              "outlinewidth": 0,
              "ticks": ""
             }
            },
            "type": "scattergl"
           }
          ],
          "scattermapbox": [
           {
            "marker": {
             "colorbar": {
              "outlinewidth": 0,
              "ticks": ""
             }
            },
            "type": "scattermapbox"
           }
          ],
          "scatterpolar": [
           {
            "marker": {
             "colorbar": {
              "outlinewidth": 0,
              "ticks": ""
             }
            },
            "type": "scatterpolar"
           }
          ],
          "scatterpolargl": [
           {
            "marker": {
             "colorbar": {
              "outlinewidth": 0,
              "ticks": ""
             }
            },
            "type": "scatterpolargl"
           }
          ],
          "scatterternary": [
           {
            "marker": {
             "colorbar": {
              "outlinewidth": 0,
              "ticks": ""
             }
            },
            "type": "scatterternary"
           }
          ],
          "surface": [
           {
            "colorbar": {
             "outlinewidth": 0,
             "ticks": ""
            },
            "colorscale": [
             [
              0,
              "#0d0887"
             ],
             [
              0.1111111111111111,
              "#46039f"
             ],
             [
              0.2222222222222222,
              "#7201a8"
             ],
             [
              0.3333333333333333,
              "#9c179e"
             ],
             [
              0.4444444444444444,
              "#bd3786"
             ],
             [
              0.5555555555555556,
              "#d8576b"
             ],
             [
              0.6666666666666666,
              "#ed7953"
             ],
             [
              0.7777777777777778,
              "#fb9f3a"
             ],
             [
              0.8888888888888888,
              "#fdca26"
             ],
             [
              1,
              "#f0f921"
             ]
            ],
            "type": "surface"
           }
          ],
          "table": [
           {
            "cells": {
             "fill": {
              "color": "#EBF0F8"
             },
             "line": {
              "color": "white"
             }
            },
            "header": {
             "fill": {
              "color": "#C8D4E3"
             },
             "line": {
              "color": "white"
             }
            },
            "type": "table"
           }
          ]
         },
         "layout": {
          "annotationdefaults": {
           "arrowcolor": "#2a3f5f",
           "arrowhead": 0,
           "arrowwidth": 1
          },
          "autotypenumbers": "strict",
          "coloraxis": {
           "colorbar": {
            "outlinewidth": 0,
            "ticks": ""
           }
          },
          "colorscale": {
           "diverging": [
            [
             0,
             "#8e0152"
            ],
            [
             0.1,
             "#c51b7d"
            ],
            [
             0.2,
             "#de77ae"
            ],
            [
             0.3,
             "#f1b6da"
            ],
            [
             0.4,
             "#fde0ef"
            ],
            [
             0.5,
             "#f7f7f7"
            ],
            [
             0.6,
             "#e6f5d0"
            ],
            [
             0.7,
             "#b8e186"
            ],
            [
             0.8,
             "#7fbc41"
            ],
            [
             0.9,
             "#4d9221"
            ],
            [
             1,
             "#276419"
            ]
           ],
           "sequential": [
            [
             0,
             "#0d0887"
            ],
            [
             0.1111111111111111,
             "#46039f"
            ],
            [
             0.2222222222222222,
             "#7201a8"
            ],
            [
             0.3333333333333333,
             "#9c179e"
            ],
            [
             0.4444444444444444,
             "#bd3786"
            ],
            [
             0.5555555555555556,
             "#d8576b"
            ],
            [
             0.6666666666666666,
             "#ed7953"
            ],
            [
             0.7777777777777778,
             "#fb9f3a"
            ],
            [
             0.8888888888888888,
             "#fdca26"
            ],
            [
             1,
             "#f0f921"
            ]
           ],
           "sequentialminus": [
            [
             0,
             "#0d0887"
            ],
            [
             0.1111111111111111,
             "#46039f"
            ],
            [
             0.2222222222222222,
             "#7201a8"
            ],
            [
             0.3333333333333333,
             "#9c179e"
            ],
            [
             0.4444444444444444,
             "#bd3786"
            ],
            [
             0.5555555555555556,
             "#d8576b"
            ],
            [
             0.6666666666666666,
             "#ed7953"
            ],
            [
             0.7777777777777778,
             "#fb9f3a"
            ],
            [
             0.8888888888888888,
             "#fdca26"
            ],
            [
             1,
             "#f0f921"
            ]
           ]
          },
          "colorway": [
           "#636efa",
           "#EF553B",
           "#00cc96",
           "#ab63fa",
           "#FFA15A",
           "#19d3f3",
           "#FF6692",
           "#B6E880",
           "#FF97FF",
           "#FECB52"
          ],
          "font": {
           "color": "#2a3f5f"
          },
          "geo": {
           "bgcolor": "white",
           "lakecolor": "white",
           "landcolor": "#E5ECF6",
           "showlakes": true,
           "showland": true,
           "subunitcolor": "white"
          },
          "hoverlabel": {
           "align": "left"
          },
          "hovermode": "closest",
          "mapbox": {
           "style": "light"
          },
          "paper_bgcolor": "white",
          "plot_bgcolor": "#E5ECF6",
          "polar": {
           "angularaxis": {
            "gridcolor": "white",
            "linecolor": "white",
            "ticks": ""
           },
           "bgcolor": "#E5ECF6",
           "radialaxis": {
            "gridcolor": "white",
            "linecolor": "white",
            "ticks": ""
           }
          },
          "scene": {
           "xaxis": {
            "backgroundcolor": "#E5ECF6",
            "gridcolor": "white",
            "gridwidth": 2,
            "linecolor": "white",
            "showbackground": true,
            "ticks": "",
            "zerolinecolor": "white"
           },
           "yaxis": {
            "backgroundcolor": "#E5ECF6",
            "gridcolor": "white",
            "gridwidth": 2,
            "linecolor": "white",
            "showbackground": true,
            "ticks": "",
            "zerolinecolor": "white"
           },
           "zaxis": {
            "backgroundcolor": "#E5ECF6",
            "gridcolor": "white",
            "gridwidth": 2,
            "linecolor": "white",
            "showbackground": true,
            "ticks": "",
            "zerolinecolor": "white"
           }
          },
          "shapedefaults": {
           "line": {
            "color": "#2a3f5f"
           }
          },
          "ternary": {
           "aaxis": {
            "gridcolor": "white",
            "linecolor": "white",
            "ticks": ""
           },
           "baxis": {
            "gridcolor": "white",
            "linecolor": "white",
            "ticks": ""
           },
           "bgcolor": "#E5ECF6",
           "caxis": {
            "gridcolor": "white",
            "linecolor": "white",
            "ticks": ""
           }
          },
          "title": {
           "x": 0.05
          },
          "xaxis": {
           "automargin": true,
           "gridcolor": "white",
           "linecolor": "white",
           "ticks": "",
           "title": {
            "standoff": 15
           },
           "zerolinecolor": "white",
           "zerolinewidth": 2
          },
          "yaxis": {
           "automargin": true,
           "gridcolor": "white",
           "linecolor": "white",
           "ticks": "",
           "title": {
            "standoff": 15
           },
           "zerolinecolor": "white",
           "zerolinewidth": 2
          }
         }
        },
        "updatemenus": [
         {
          "buttons": [
           {
            "args": [
             null,
             {
              "frame": {
               "duration": 500,
               "redraw": true
              },
              "fromcurrent": true,
              "mode": "immediate",
              "transition": {
               "duration": 500,
               "easing": "linear"
              }
             }
            ],
            "label": "&#9654;",
            "method": "animate"
           },
           {
            "args": [
             [
              null
             ],
             {
              "frame": {
               "duration": 0,
               "redraw": true
              },
              "fromcurrent": true,
              "mode": "immediate",
              "transition": {
               "duration": 0,
               "easing": "linear"
              }
             }
            ],
            "label": "&#9724;",
            "method": "animate"
           }
          ],
          "direction": "left",
          "pad": {
           "r": 10,
           "t": 70
          },
          "showactive": false,
          "type": "buttons",
          "x": 0.1,
          "xanchor": "right",
          "y": 0,
          "yanchor": "top"
         }
        ],
        "xaxis": {
         "anchor": "y",
         "domain": [
          0,
          1
         ],
         "title": {
          "text": "Rating"
         }
        },
        "yaxis": {
         "anchor": "x",
         "domain": [
          0,
          1
         ],
         "title": {
          "text": "count"
         }
        }
       }
      },
      "text/html": [
       "<div>                            <div id=\"f959faf0-2277-46aa-95dd-82978c5465f4\" class=\"plotly-graph-div\" style=\"height:525px; width:100%;\"></div>            <script type=\"text/javascript\">                require([\"plotly\"], function(Plotly) {                    window.PLOTLYENV=window.PLOTLYENV || {};                                    if (document.getElementById(\"f959faf0-2277-46aa-95dd-82978c5465f4\")) {                    Plotly.newPlot(                        \"f959faf0-2277-46aa-95dd-82978c5465f4\",                        [{\"alignmentgroup\":\"True\",\"hovertemplate\":\"Months Ago=0<br>Rating=%{x}<br>count=%{y}<extra></extra>\",\"legendgroup\":\"\",\"marker\":{\"color\":\"#636efa\",\"pattern\":{\"shape\":\"\"}},\"name\":\"\",\"offsetgroup\":\"\",\"orientation\":\"v\",\"showlegend\":false,\"textposition\":\"auto\",\"x\":[\"5.10d\",\"5.12-\",\"5.12a\",\"5.11d\",\"5.11b/c\"],\"xaxis\":\"x\",\"y\":[1,1,1,1,1],\"yaxis\":\"y\",\"type\":\"bar\"}],                        {\"template\":{\"data\":{\"histogram2dcontour\":[{\"type\":\"histogram2dcontour\",\"colorbar\":{\"outlinewidth\":0,\"ticks\":\"\"},\"colorscale\":[[0.0,\"#0d0887\"],[0.1111111111111111,\"#46039f\"],[0.2222222222222222,\"#7201a8\"],[0.3333333333333333,\"#9c179e\"],[0.4444444444444444,\"#bd3786\"],[0.5555555555555556,\"#d8576b\"],[0.6666666666666666,\"#ed7953\"],[0.7777777777777778,\"#fb9f3a\"],[0.8888888888888888,\"#fdca26\"],[1.0,\"#f0f921\"]]}],\"choropleth\":[{\"type\":\"choropleth\",\"colorbar\":{\"outlinewidth\":0,\"ticks\":\"\"}}],\"histogram2d\":[{\"type\":\"histogram2d\",\"colorbar\":{\"outlinewidth\":0,\"ticks\":\"\"},\"colorscale\":[[0.0,\"#0d0887\"],[0.1111111111111111,\"#46039f\"],[0.2222222222222222,\"#7201a8\"],[0.3333333333333333,\"#9c179e\"],[0.4444444444444444,\"#bd3786\"],[0.5555555555555556,\"#d8576b\"],[0.6666666666666666,\"#ed7953\"],[0.7777777777777778,\"#fb9f3a\"],[0.8888888888888888,\"#fdca26\"],[1.0,\"#f0f921\"]]}],\"heatmap\":[{\"type\":\"heatmap\",\"colorbar\":{\"outlinewidth\":0,\"ticks\":\"\"},\"colorscale\":[[0.0,\"#0d0887\"],[0.1111111111111111,\"#46039f\"],[0.2222222222222222,\"#7201a8\"],[0.3333333333333333,\"#9c179e\"],[0.4444444444444444,\"#bd3786\"],[0.5555555555555556,\"#d8576b\"],[0.6666666666666666,\"#ed7953\"],[0.7777777777777778,\"#fb9f3a\"],[0.8888888888888888,\"#fdca26\"],[1.0,\"#f0f921\"]]}],\"heatmapgl\":[{\"type\":\"heatmapgl\",\"colorbar\":{\"outlinewidth\":0,\"ticks\":\"\"},\"colorscale\":[[0.0,\"#0d0887\"],[0.1111111111111111,\"#46039f\"],[0.2222222222222222,\"#7201a8\"],[0.3333333333333333,\"#9c179e\"],[0.4444444444444444,\"#bd3786\"],[0.5555555555555556,\"#d8576b\"],[0.6666666666666666,\"#ed7953\"],[0.7777777777777778,\"#fb9f3a\"],[0.8888888888888888,\"#fdca26\"],[1.0,\"#f0f921\"]]}],\"contourcarpet\":[{\"type\":\"contourcarpet\",\"colorbar\":{\"outlinewidth\":0,\"ticks\":\"\"}}],\"contour\":[{\"type\":\"contour\",\"colorbar\":{\"outlinewidth\":0,\"ticks\":\"\"},\"colorscale\":[[0.0,\"#0d0887\"],[0.1111111111111111,\"#46039f\"],[0.2222222222222222,\"#7201a8\"],[0.3333333333333333,\"#9c179e\"],[0.4444444444444444,\"#bd3786\"],[0.5555555555555556,\"#d8576b\"],[0.6666666666666666,\"#ed7953\"],[0.7777777777777778,\"#fb9f3a\"],[0.8888888888888888,\"#fdca26\"],[1.0,\"#f0f921\"]]}],\"surface\":[{\"type\":\"surface\",\"colorbar\":{\"outlinewidth\":0,\"ticks\":\"\"},\"colorscale\":[[0.0,\"#0d0887\"],[0.1111111111111111,\"#46039f\"],[0.2222222222222222,\"#7201a8\"],[0.3333333333333333,\"#9c179e\"],[0.4444444444444444,\"#bd3786\"],[0.5555555555555556,\"#d8576b\"],[0.6666666666666666,\"#ed7953\"],[0.7777777777777778,\"#fb9f3a\"],[0.8888888888888888,\"#fdca26\"],[1.0,\"#f0f921\"]]}],\"mesh3d\":[{\"type\":\"mesh3d\",\"colorbar\":{\"outlinewidth\":0,\"ticks\":\"\"}}],\"scatter\":[{\"fillpattern\":{\"fillmode\":\"overlay\",\"size\":10,\"solidity\":0.2},\"type\":\"scatter\"}],\"parcoords\":[{\"type\":\"parcoords\",\"line\":{\"colorbar\":{\"outlinewidth\":0,\"ticks\":\"\"}}}],\"scatterpolargl\":[{\"type\":\"scatterpolargl\",\"marker\":{\"colorbar\":{\"outlinewidth\":0,\"ticks\":\"\"}}}],\"bar\":[{\"error_x\":{\"color\":\"#2a3f5f\"},\"error_y\":{\"color\":\"#2a3f5f\"},\"marker\":{\"line\":{\"color\":\"#E5ECF6\",\"width\":0.5},\"pattern\":{\"fillmode\":\"overlay\",\"size\":10,\"solidity\":0.2}},\"type\":\"bar\"}],\"scattergeo\":[{\"type\":\"scattergeo\",\"marker\":{\"colorbar\":{\"outlinewidth\":0,\"ticks\":\"\"}}}],\"scatterpolar\":[{\"type\":\"scatterpolar\",\"marker\":{\"colorbar\":{\"outlinewidth\":0,\"ticks\":\"\"}}}],\"histogram\":[{\"marker\":{\"pattern\":{\"fillmode\":\"overlay\",\"size\":10,\"solidity\":0.2}},\"type\":\"histogram\"}],\"scattergl\":[{\"type\":\"scattergl\",\"marker\":{\"colorbar\":{\"outlinewidth\":0,\"ticks\":\"\"}}}],\"scatter3d\":[{\"type\":\"scatter3d\",\"line\":{\"colorbar\":{\"outlinewidth\":0,\"ticks\":\"\"}},\"marker\":{\"colorbar\":{\"outlinewidth\":0,\"ticks\":\"\"}}}],\"scattermapbox\":[{\"type\":\"scattermapbox\",\"marker\":{\"colorbar\":{\"outlinewidth\":0,\"ticks\":\"\"}}}],\"scatterternary\":[{\"type\":\"scatterternary\",\"marker\":{\"colorbar\":{\"outlinewidth\":0,\"ticks\":\"\"}}}],\"scattercarpet\":[{\"type\":\"scattercarpet\",\"marker\":{\"colorbar\":{\"outlinewidth\":0,\"ticks\":\"\"}}}],\"carpet\":[{\"aaxis\":{\"endlinecolor\":\"#2a3f5f\",\"gridcolor\":\"white\",\"linecolor\":\"white\",\"minorgridcolor\":\"white\",\"startlinecolor\":\"#2a3f5f\"},\"baxis\":{\"endlinecolor\":\"#2a3f5f\",\"gridcolor\":\"white\",\"linecolor\":\"white\",\"minorgridcolor\":\"white\",\"startlinecolor\":\"#2a3f5f\"},\"type\":\"carpet\"}],\"table\":[{\"cells\":{\"fill\":{\"color\":\"#EBF0F8\"},\"line\":{\"color\":\"white\"}},\"header\":{\"fill\":{\"color\":\"#C8D4E3\"},\"line\":{\"color\":\"white\"}},\"type\":\"table\"}],\"barpolar\":[{\"marker\":{\"line\":{\"color\":\"#E5ECF6\",\"width\":0.5},\"pattern\":{\"fillmode\":\"overlay\",\"size\":10,\"solidity\":0.2}},\"type\":\"barpolar\"}],\"pie\":[{\"automargin\":true,\"type\":\"pie\"}]},\"layout\":{\"autotypenumbers\":\"strict\",\"colorway\":[\"#636efa\",\"#EF553B\",\"#00cc96\",\"#ab63fa\",\"#FFA15A\",\"#19d3f3\",\"#FF6692\",\"#B6E880\",\"#FF97FF\",\"#FECB52\"],\"font\":{\"color\":\"#2a3f5f\"},\"hovermode\":\"closest\",\"hoverlabel\":{\"align\":\"left\"},\"paper_bgcolor\":\"white\",\"plot_bgcolor\":\"#E5ECF6\",\"polar\":{\"bgcolor\":\"#E5ECF6\",\"angularaxis\":{\"gridcolor\":\"white\",\"linecolor\":\"white\",\"ticks\":\"\"},\"radialaxis\":{\"gridcolor\":\"white\",\"linecolor\":\"white\",\"ticks\":\"\"}},\"ternary\":{\"bgcolor\":\"#E5ECF6\",\"aaxis\":{\"gridcolor\":\"white\",\"linecolor\":\"white\",\"ticks\":\"\"},\"baxis\":{\"gridcolor\":\"white\",\"linecolor\":\"white\",\"ticks\":\"\"},\"caxis\":{\"gridcolor\":\"white\",\"linecolor\":\"white\",\"ticks\":\"\"}},\"coloraxis\":{\"colorbar\":{\"outlinewidth\":0,\"ticks\":\"\"}},\"colorscale\":{\"sequential\":[[0.0,\"#0d0887\"],[0.1111111111111111,\"#46039f\"],[0.2222222222222222,\"#7201a8\"],[0.3333333333333333,\"#9c179e\"],[0.4444444444444444,\"#bd3786\"],[0.5555555555555556,\"#d8576b\"],[0.6666666666666666,\"#ed7953\"],[0.7777777777777778,\"#fb9f3a\"],[0.8888888888888888,\"#fdca26\"],[1.0,\"#f0f921\"]],\"sequentialminus\":[[0.0,\"#0d0887\"],[0.1111111111111111,\"#46039f\"],[0.2222222222222222,\"#7201a8\"],[0.3333333333333333,\"#9c179e\"],[0.4444444444444444,\"#bd3786\"],[0.5555555555555556,\"#d8576b\"],[0.6666666666666666,\"#ed7953\"],[0.7777777777777778,\"#fb9f3a\"],[0.8888888888888888,\"#fdca26\"],[1.0,\"#f0f921\"]],\"diverging\":[[0,\"#8e0152\"],[0.1,\"#c51b7d\"],[0.2,\"#de77ae\"],[0.3,\"#f1b6da\"],[0.4,\"#fde0ef\"],[0.5,\"#f7f7f7\"],[0.6,\"#e6f5d0\"],[0.7,\"#b8e186\"],[0.8,\"#7fbc41\"],[0.9,\"#4d9221\"],[1,\"#276419\"]]},\"xaxis\":{\"gridcolor\":\"white\",\"linecolor\":\"white\",\"ticks\":\"\",\"title\":{\"standoff\":15},\"zerolinecolor\":\"white\",\"automargin\":true,\"zerolinewidth\":2},\"yaxis\":{\"gridcolor\":\"white\",\"linecolor\":\"white\",\"ticks\":\"\",\"title\":{\"standoff\":15},\"zerolinecolor\":\"white\",\"automargin\":true,\"zerolinewidth\":2},\"scene\":{\"xaxis\":{\"backgroundcolor\":\"#E5ECF6\",\"gridcolor\":\"white\",\"linecolor\":\"white\",\"showbackground\":true,\"ticks\":\"\",\"zerolinecolor\":\"white\",\"gridwidth\":2},\"yaxis\":{\"backgroundcolor\":\"#E5ECF6\",\"gridcolor\":\"white\",\"linecolor\":\"white\",\"showbackground\":true,\"ticks\":\"\",\"zerolinecolor\":\"white\",\"gridwidth\":2},\"zaxis\":{\"backgroundcolor\":\"#E5ECF6\",\"gridcolor\":\"white\",\"linecolor\":\"white\",\"showbackground\":true,\"ticks\":\"\",\"zerolinecolor\":\"white\",\"gridwidth\":2}},\"shapedefaults\":{\"line\":{\"color\":\"#2a3f5f\"}},\"annotationdefaults\":{\"arrowcolor\":\"#2a3f5f\",\"arrowhead\":0,\"arrowwidth\":1},\"geo\":{\"bgcolor\":\"white\",\"landcolor\":\"#E5ECF6\",\"subunitcolor\":\"white\",\"showland\":true,\"showlakes\":true,\"lakecolor\":\"white\"},\"title\":{\"x\":0.05},\"mapbox\":{\"style\":\"light\"}}},\"xaxis\":{\"anchor\":\"y\",\"domain\":[0.0,1.0],\"title\":{\"text\":\"Rating\"}},\"yaxis\":{\"anchor\":\"x\",\"domain\":[0.0,1.0],\"title\":{\"text\":\"count\"}},\"legend\":{\"tracegroupgap\":0},\"margin\":{\"t\":60},\"barmode\":\"stack\",\"updatemenus\":[{\"buttons\":[{\"args\":[null,{\"frame\":{\"duration\":500,\"redraw\":true},\"mode\":\"immediate\",\"fromcurrent\":true,\"transition\":{\"duration\":500,\"easing\":\"linear\"}}],\"label\":\"&#9654;\",\"method\":\"animate\"},{\"args\":[[null],{\"frame\":{\"duration\":0,\"redraw\":true},\"mode\":\"immediate\",\"fromcurrent\":true,\"transition\":{\"duration\":0,\"easing\":\"linear\"}}],\"label\":\"&#9724;\",\"method\":\"animate\"}],\"direction\":\"left\",\"pad\":{\"r\":10,\"t\":70},\"showactive\":false,\"type\":\"buttons\",\"x\":0.1,\"xanchor\":\"right\",\"y\":0,\"yanchor\":\"top\"}],\"sliders\":[{\"active\":0,\"currentvalue\":{\"prefix\":\"Months Ago=\"},\"len\":0.9,\"pad\":{\"b\":10,\"t\":60},\"steps\":[{\"args\":[[\"0\"],{\"frame\":{\"duration\":0,\"redraw\":true},\"mode\":\"immediate\",\"fromcurrent\":true,\"transition\":{\"duration\":0,\"easing\":\"linear\"}}],\"label\":\"0\",\"method\":\"animate\"},{\"args\":[[\"1\"],{\"frame\":{\"duration\":0,\"redraw\":true},\"mode\":\"immediate\",\"fromcurrent\":true,\"transition\":{\"duration\":0,\"easing\":\"linear\"}}],\"label\":\"1\",\"method\":\"animate\"},{\"args\":[[\"3\"],{\"frame\":{\"duration\":0,\"redraw\":true},\"mode\":\"immediate\",\"fromcurrent\":true,\"transition\":{\"duration\":0,\"easing\":\"linear\"}}],\"label\":\"3\",\"method\":\"animate\"},{\"args\":[[\"4\"],{\"frame\":{\"duration\":0,\"redraw\":true},\"mode\":\"immediate\",\"fromcurrent\":true,\"transition\":{\"duration\":0,\"easing\":\"linear\"}}],\"label\":\"4\",\"method\":\"animate\"},{\"args\":[[\"7\"],{\"frame\":{\"duration\":0,\"redraw\":true},\"mode\":\"immediate\",\"fromcurrent\":true,\"transition\":{\"duration\":0,\"easing\":\"linear\"}}],\"label\":\"7\",\"method\":\"animate\"},{\"args\":[[\"14\"],{\"frame\":{\"duration\":0,\"redraw\":true},\"mode\":\"immediate\",\"fromcurrent\":true,\"transition\":{\"duration\":0,\"easing\":\"linear\"}}],\"label\":\"14\",\"method\":\"animate\"},{\"args\":[[\"15\"],{\"frame\":{\"duration\":0,\"redraw\":true},\"mode\":\"immediate\",\"fromcurrent\":true,\"transition\":{\"duration\":0,\"easing\":\"linear\"}}],\"label\":\"15\",\"method\":\"animate\"},{\"args\":[[\"17\"],{\"frame\":{\"duration\":0,\"redraw\":true},\"mode\":\"immediate\",\"fromcurrent\":true,\"transition\":{\"duration\":0,\"easing\":\"linear\"}}],\"label\":\"17\",\"method\":\"animate\"},{\"args\":[[\"23\"],{\"frame\":{\"duration\":0,\"redraw\":true},\"mode\":\"immediate\",\"fromcurrent\":true,\"transition\":{\"duration\":0,\"easing\":\"linear\"}}],\"label\":\"23\",\"method\":\"animate\"},{\"args\":[[\"27\"],{\"frame\":{\"duration\":0,\"redraw\":true},\"mode\":\"immediate\",\"fromcurrent\":true,\"transition\":{\"duration\":0,\"easing\":\"linear\"}}],\"label\":\"27\",\"method\":\"animate\"},{\"args\":[[\"32\"],{\"frame\":{\"duration\":0,\"redraw\":true},\"mode\":\"immediate\",\"fromcurrent\":true,\"transition\":{\"duration\":0,\"easing\":\"linear\"}}],\"label\":\"32\",\"method\":\"animate\"},{\"args\":[[\"38\"],{\"frame\":{\"duration\":0,\"redraw\":true},\"mode\":\"immediate\",\"fromcurrent\":true,\"transition\":{\"duration\":0,\"easing\":\"linear\"}}],\"label\":\"38\",\"method\":\"animate\"},{\"args\":[[\"57\"],{\"frame\":{\"duration\":0,\"redraw\":true},\"mode\":\"immediate\",\"fromcurrent\":true,\"transition\":{\"duration\":0,\"easing\":\"linear\"}}],\"label\":\"57\",\"method\":\"animate\"},{\"args\":[[\"60\"],{\"frame\":{\"duration\":0,\"redraw\":true},\"mode\":\"immediate\",\"fromcurrent\":true,\"transition\":{\"duration\":0,\"easing\":\"linear\"}}],\"label\":\"60\",\"method\":\"animate\"}],\"x\":0.1,\"xanchor\":\"left\",\"y\":0,\"yanchor\":\"top\"}]},                        {\"responsive\": true}                    ).then(function(){\n",
       "                            Plotly.addFrames('f959faf0-2277-46aa-95dd-82978c5465f4', [{\"data\":[{\"alignmentgroup\":\"True\",\"hovertemplate\":\"Months Ago=0<br>Rating=%{x}<br>count=%{y}<extra></extra>\",\"legendgroup\":\"\",\"marker\":{\"color\":\"#636efa\",\"pattern\":{\"shape\":\"\"}},\"name\":\"\",\"offsetgroup\":\"\",\"orientation\":\"v\",\"showlegend\":false,\"textposition\":\"auto\",\"x\":[\"5.10d\",\"5.12-\",\"5.12a\",\"5.11d\",\"5.11b/c\"],\"xaxis\":\"x\",\"y\":[1,1,1,1,1],\"yaxis\":\"y\",\"type\":\"bar\"}],\"name\":\"0\"},{\"data\":[{\"alignmentgroup\":\"True\",\"hovertemplate\":\"Months Ago=1<br>Rating=%{x}<br>count=%{y}<extra></extra>\",\"legendgroup\":\"\",\"marker\":{\"color\":\"#636efa\",\"pattern\":{\"shape\":\"\"}},\"name\":\"\",\"offsetgroup\":\"\",\"orientation\":\"v\",\"showlegend\":false,\"textposition\":\"auto\",\"x\":[\"5.12a\",\"5.12a\",\"5.10c\",\"5.12b\",\"5.12a\",\"5.12a\",\"5.11b\",\"5.12d\",\"5.11c\",\"5.11a\",\"5.11d\",\"5.11b\",\"5.11d\",\"5.12b\",\"5.12c\",\"5.12b\",\"5.13a\",\"5.13a\",\"5.12c\",\"5.10a/b\",\"5.11c\",\"5.12a\",\"5.12c\",\"5.12b\",\"5.12-\",\"5.10b\",\"5.10a\",\"5.11b\"],\"xaxis\":\"x\",\"y\":[1,1,1,1,1,1,1,1,1,1,1,1,1,1,1,1,1,1,1,1,1,1,1,1,1,1,1,1],\"yaxis\":\"y\",\"type\":\"bar\"}],\"name\":\"1\"},{\"data\":[{\"alignmentgroup\":\"True\",\"hovertemplate\":\"Months Ago=3<br>Rating=%{x}<br>count=%{y}<extra></extra>\",\"legendgroup\":\"\",\"marker\":{\"color\":\"#636efa\",\"pattern\":{\"shape\":\"\"}},\"name\":\"\",\"offsetgroup\":\"\",\"orientation\":\"v\",\"showlegend\":false,\"textposition\":\"auto\",\"x\":[\"5.10d\",\"5.10-\",\"5.10d\",\"5.9\",\"5.10c\",\"5.10b\",\"5.9\",\"5.10a\",\"5.10d\",\"5.10c\",\"5.10c\",\"5.12a\",\"5.12a\",\"5.10c\",\"5.10d\",\"5.9\",\"5.10a\",\"5.9\",\"5.8\"],\"xaxis\":\"x\",\"y\":[1,1,1,1,1,1,1,1,1,1,1,1,1,1,1,1,1,1,1],\"yaxis\":\"y\",\"type\":\"bar\"}],\"name\":\"3\"},{\"data\":[{\"alignmentgroup\":\"True\",\"hovertemplate\":\"Months Ago=4<br>Rating=%{x}<br>count=%{y}<extra></extra>\",\"legendgroup\":\"\",\"marker\":{\"color\":\"#636efa\",\"pattern\":{\"shape\":\"\"}},\"name\":\"\",\"offsetgroup\":\"\",\"orientation\":\"v\",\"showlegend\":false,\"textposition\":\"auto\",\"x\":[\"5.10a\",\"5.6\",\"5.11c\",\"5.12b\",\"5.11b\",\"5.11a\",\"5.10a\",\"5.10b\",\"5.6\"],\"xaxis\":\"x\",\"y\":[1,1,1,1,1,1,1,1,1],\"yaxis\":\"y\",\"type\":\"bar\"}],\"name\":\"4\"},{\"data\":[{\"alignmentgroup\":\"True\",\"hovertemplate\":\"Months Ago=7<br>Rating=%{x}<br>count=%{y}<extra></extra>\",\"legendgroup\":\"\",\"marker\":{\"color\":\"#636efa\",\"pattern\":{\"shape\":\"\"}},\"name\":\"\",\"offsetgroup\":\"\",\"orientation\":\"v\",\"showlegend\":false,\"textposition\":\"auto\",\"x\":[\"5.11b\",\"5.11b\",\"5.11c\",\"5.10a\",\"5.8\",\"5.7\",\"5.6\",\"5.12a\",\"5.10b\",\"5.12d\"],\"xaxis\":\"x\",\"y\":[1,1,1,1,1,1,1,1,1,1],\"yaxis\":\"y\",\"type\":\"bar\"}],\"name\":\"7\"},{\"data\":[{\"alignmentgroup\":\"True\",\"hovertemplate\":\"Months Ago=14<br>Rating=%{x}<br>count=%{y}<extra></extra>\",\"legendgroup\":\"\",\"marker\":{\"color\":\"#636efa\",\"pattern\":{\"shape\":\"\"}},\"name\":\"\",\"offsetgroup\":\"\",\"orientation\":\"v\",\"showlegend\":false,\"textposition\":\"auto\",\"x\":[\"5.9+\",\"5.12-\",\"5.13a\",\"5.10d\",\"5.11c\",\"5.12a\"],\"xaxis\":\"x\",\"y\":[1,1,1,1,1,1],\"yaxis\":\"y\",\"type\":\"bar\"}],\"name\":\"14\"},{\"data\":[{\"alignmentgroup\":\"True\",\"hovertemplate\":\"Months Ago=15<br>Rating=%{x}<br>count=%{y}<extra></extra>\",\"legendgroup\":\"\",\"marker\":{\"color\":\"#636efa\",\"pattern\":{\"shape\":\"\"}},\"name\":\"\",\"offsetgroup\":\"\",\"orientation\":\"v\",\"showlegend\":false,\"textposition\":\"auto\",\"x\":[\"5.8\"],\"xaxis\":\"x\",\"y\":[1],\"yaxis\":\"y\",\"type\":\"bar\"}],\"name\":\"15\"},{\"data\":[{\"alignmentgroup\":\"True\",\"hovertemplate\":\"Months Ago=17<br>Rating=%{x}<br>count=%{y}<extra></extra>\",\"legendgroup\":\"\",\"marker\":{\"color\":\"#636efa\",\"pattern\":{\"shape\":\"\"}},\"name\":\"\",\"offsetgroup\":\"\",\"orientation\":\"v\",\"showlegend\":false,\"textposition\":\"auto\",\"x\":[\"5.12c\"],\"xaxis\":\"x\",\"y\":[1],\"yaxis\":\"y\",\"type\":\"bar\"}],\"name\":\"17\"},{\"data\":[{\"alignmentgroup\":\"True\",\"hovertemplate\":\"Months Ago=23<br>Rating=%{x}<br>count=%{y}<extra></extra>\",\"legendgroup\":\"\",\"marker\":{\"color\":\"#636efa\",\"pattern\":{\"shape\":\"\"}},\"name\":\"\",\"offsetgroup\":\"\",\"orientation\":\"v\",\"showlegend\":false,\"textposition\":\"auto\",\"x\":[\"5.12a\"],\"xaxis\":\"x\",\"y\":[1],\"yaxis\":\"y\",\"type\":\"bar\"}],\"name\":\"23\"},{\"data\":[{\"alignmentgroup\":\"True\",\"hovertemplate\":\"Months Ago=27<br>Rating=%{x}<br>count=%{y}<extra></extra>\",\"legendgroup\":\"\",\"marker\":{\"color\":\"#636efa\",\"pattern\":{\"shape\":\"\"}},\"name\":\"\",\"offsetgroup\":\"\",\"orientation\":\"v\",\"showlegend\":false,\"textposition\":\"auto\",\"x\":[\"5.12c\",\"5.12a/b\",\"5.10c\",\"5.12a\",\"5.11d\"],\"xaxis\":\"x\",\"y\":[1,1,1,1,1],\"yaxis\":\"y\",\"type\":\"bar\"}],\"name\":\"27\"},{\"data\":[{\"alignmentgroup\":\"True\",\"hovertemplate\":\"Months Ago=32<br>Rating=%{x}<br>count=%{y}<extra></extra>\",\"legendgroup\":\"\",\"marker\":{\"color\":\"#636efa\",\"pattern\":{\"shape\":\"\"}},\"name\":\"\",\"offsetgroup\":\"\",\"orientation\":\"v\",\"showlegend\":false,\"textposition\":\"auto\",\"x\":[\"5.10c\",\"5.9\"],\"xaxis\":\"x\",\"y\":[1,1],\"yaxis\":\"y\",\"type\":\"bar\"}],\"name\":\"32\"},{\"data\":[{\"alignmentgroup\":\"True\",\"hovertemplate\":\"Months Ago=38<br>Rating=%{x}<br>count=%{y}<extra></extra>\",\"legendgroup\":\"\",\"marker\":{\"color\":\"#636efa\",\"pattern\":{\"shape\":\"\"}},\"name\":\"\",\"offsetgroup\":\"\",\"orientation\":\"v\",\"showlegend\":false,\"textposition\":\"auto\",\"x\":[\"5.12a\",\"5.11c\",\"5.11c\",\"5.11c\",\"5.11b\",\"5.11a\",\"5.11d\",\"5.11c\",\"5.12a\",\"5.11a\"],\"xaxis\":\"x\",\"y\":[1,1,1,1,1,1,1,1,1,1],\"yaxis\":\"y\",\"type\":\"bar\"}],\"name\":\"38\"},{\"data\":[{\"alignmentgroup\":\"True\",\"hovertemplate\":\"Months Ago=57<br>Rating=%{x}<br>count=%{y}<extra></extra>\",\"legendgroup\":\"\",\"marker\":{\"color\":\"#636efa\",\"pattern\":{\"shape\":\"\"}},\"name\":\"\",\"offsetgroup\":\"\",\"orientation\":\"v\",\"showlegend\":false,\"textposition\":\"auto\",\"x\":[\"5.10a\"],\"xaxis\":\"x\",\"y\":[1],\"yaxis\":\"y\",\"type\":\"bar\"}],\"name\":\"57\"},{\"data\":[{\"alignmentgroup\":\"True\",\"hovertemplate\":\"Months Ago=60<br>Rating=%{x}<br>count=%{y}<extra></extra>\",\"legendgroup\":\"\",\"marker\":{\"color\":\"#636efa\",\"pattern\":{\"shape\":\"\"}},\"name\":\"\",\"offsetgroup\":\"\",\"orientation\":\"v\",\"showlegend\":false,\"textposition\":\"auto\",\"x\":[\"5.11d\",\"5.11a\",\"5.11b\",\"5.11b\",\"5.11b\",\"5.10-\"],\"xaxis\":\"x\",\"y\":[1,1,1,1,1,1],\"yaxis\":\"y\",\"type\":\"bar\"}],\"name\":\"60\"}]);\n",
       "                        }).then(function(){\n",
       "                            \n",
       "var gd = document.getElementById('f959faf0-2277-46aa-95dd-82978c5465f4');\n",
       "var x = new MutationObserver(function (mutations, observer) {{\n",
       "        var display = window.getComputedStyle(gd).display;\n",
       "        if (!display || display === 'none') {{\n",
       "            console.log([gd, 'removed!']);\n",
       "            Plotly.purge(gd);\n",
       "            observer.disconnect();\n",
       "        }}\n",
       "}});\n",
       "\n",
       "// Listen for the removal of the full notebook cells\n",
       "var notebookContainer = gd.closest('#notebook-container');\n",
       "if (notebookContainer) {{\n",
       "    x.observe(notebookContainer, {childList: true});\n",
       "}}\n",
       "\n",
       "// Listen for the clearing of the current output cell\n",
       "var outputEl = gd.closest('.output');\n",
       "if (outputEl) {{\n",
       "    x.observe(outputEl, {childList: true});\n",
       "}}\n",
       "\n",
       "                        })                };                });            </script>        </div>"
      ]
     },
     "metadata": {},
     "output_type": "display_data"
    }
   ],
   "source": [
    "animate(sportdf)"
   ]
  },
  {
   "cell_type": "code",
   "execution_count": 30,
   "id": "cfbaa85d",
   "metadata": {
    "collapsed": true
   },
   "outputs": [
    {
     "data": {
      "text/html": [
       "<div>\n",
       "<style scoped>\n",
       "    .dataframe tbody tr th:only-of-type {\n",
       "        vertical-align: middle;\n",
       "    }\n",
       "\n",
       "    .dataframe tbody tr th {\n",
       "        vertical-align: top;\n",
       "    }\n",
       "\n",
       "    .dataframe thead th {\n",
       "        text-align: right;\n",
       "    }\n",
       "</style>\n",
       "<table border=\"1\" class=\"dataframe\">\n",
       "  <thead>\n",
       "    <tr style=\"text-align: right;\">\n",
       "      <th></th>\n",
       "      <th>Date</th>\n",
       "      <th>Route</th>\n",
       "      <th>Rating</th>\n",
       "      <th>Notes</th>\n",
       "      <th>URL</th>\n",
       "      <th>Pitches</th>\n",
       "      <th>Location</th>\n",
       "      <th>Avg Stars</th>\n",
       "      <th>Your Stars</th>\n",
       "      <th>Style</th>\n",
       "      <th>Lead Style</th>\n",
       "      <th>Route Type</th>\n",
       "      <th>Your Rating</th>\n",
       "      <th>Length</th>\n",
       "      <th>Rating Code</th>\n",
       "      <th>Days Ago</th>\n",
       "      <th>Months Ago</th>\n",
       "    </tr>\n",
       "  </thead>\n",
       "  <tbody>\n",
       "    <tr>\n",
       "      <th>1</th>\n",
       "      <td>2023-08-01</td>\n",
       "      <td>Predator</td>\n",
       "      <td>5.13b</td>\n",
       "      <td>put it down first go today. everything came to...</td>\n",
       "      <td>https://www.mountainproject.com/route/10588455...</td>\n",
       "      <td>1</td>\n",
       "      <td>New Hampshire &gt; *Rumney &gt; Orange Crush</td>\n",
       "      <td>4.0</td>\n",
       "      <td>4</td>\n",
       "      <td>Lead</td>\n",
       "      <td>Redpoint</td>\n",
       "      <td>Sport</td>\n",
       "      <td>NaN</td>\n",
       "      <td>NaN</td>\n",
       "      <td>8900</td>\n",
       "      <td>20</td>\n",
       "      <td>0.683061</td>\n",
       "    </tr>\n",
       "    <tr>\n",
       "      <th>2</th>\n",
       "      <td>2023-07-31</td>\n",
       "      <td>F* *king the Dog</td>\n",
       "      <td>5.11a</td>\n",
       "      <td>w Serena, great climb!</td>\n",
       "      <td>https://www.mountainproject.com/route/10595169...</td>\n",
       "      <td>1</td>\n",
       "      <td>New Hampshire &gt; *Rumney &gt; Kennel Wall</td>\n",
       "      <td>3.0</td>\n",
       "      <td>3</td>\n",
       "      <td>Lead</td>\n",
       "      <td>Flash</td>\n",
       "      <td>Sport</td>\n",
       "      <td>NaN</td>\n",
       "      <td>50.0</td>\n",
       "      <td>4600</td>\n",
       "      <td>21</td>\n",
       "      <td>0.716395</td>\n",
       "    </tr>\n",
       "    <tr>\n",
       "      <th>3</th>\n",
       "      <td>2023-07-30</td>\n",
       "      <td>Orange Crush (retro-bolted)</td>\n",
       "      <td>5.9</td>\n",
       "      <td>delightful actually. can't believe I've never ...</td>\n",
       "      <td>https://www.mountainproject.com/route/10677579...</td>\n",
       "      <td>1</td>\n",
       "      <td>New Hampshire &gt; *Rumney &gt; Orange Crush</td>\n",
       "      <td>2.3</td>\n",
       "      <td>-1</td>\n",
       "      <td>Lead</td>\n",
       "      <td>Onsight</td>\n",
       "      <td>Sport</td>\n",
       "      <td>NaN</td>\n",
       "      <td>50.0</td>\n",
       "      <td>2400</td>\n",
       "      <td>22</td>\n",
       "      <td>0.749728</td>\n",
       "    </tr>\n",
       "    <tr>\n",
       "      <th>5</th>\n",
       "      <td>2023-07-21</td>\n",
       "      <td>Boardwalk</td>\n",
       "      <td>5.5</td>\n",
       "      <td>wet! but still fun. great views at the top. wi...</td>\n",
       "      <td>https://www.mountainproject.com/route/10590550...</td>\n",
       "      <td>1</td>\n",
       "      <td>Massachusetts &gt; Central, MA &gt; Crow Hill and Le...</td>\n",
       "      <td>2.4</td>\n",
       "      <td>-1</td>\n",
       "      <td>TR</td>\n",
       "      <td>NaN</td>\n",
       "      <td>Trad, TR</td>\n",
       "      <td>NaN</td>\n",
       "      <td>80.0</td>\n",
       "      <td>1500</td>\n",
       "      <td>31</td>\n",
       "      <td>1.049728</td>\n",
       "    </tr>\n",
       "    <tr>\n",
       "      <th>6</th>\n",
       "      <td>2023-07-21</td>\n",
       "      <td>Outersite</td>\n",
       "      <td>5.7</td>\n",
       "      <td>first pitch only. delightful! \"like candy\". wi...</td>\n",
       "      <td>https://www.mountainproject.com/route/10660417...</td>\n",
       "      <td>2</td>\n",
       "      <td>Massachusetts &gt; Central, MA &gt; Crow Hill and Le...</td>\n",
       "      <td>2.2</td>\n",
       "      <td>-1</td>\n",
       "      <td>Lead</td>\n",
       "      <td>Onsight</td>\n",
       "      <td>Trad</td>\n",
       "      <td>NaN</td>\n",
       "      <td>55.0</td>\n",
       "      <td>1800</td>\n",
       "      <td>31</td>\n",
       "      <td>1.049728</td>\n",
       "    </tr>\n",
       "    <tr>\n",
       "      <th>...</th>\n",
       "      <td>...</td>\n",
       "      <td>...</td>\n",
       "      <td>...</td>\n",
       "      <td>...</td>\n",
       "      <td>...</td>\n",
       "      <td>...</td>\n",
       "      <td>...</td>\n",
       "      <td>...</td>\n",
       "      <td>...</td>\n",
       "      <td>...</td>\n",
       "      <td>...</td>\n",
       "      <td>...</td>\n",
       "      <td>...</td>\n",
       "      <td>...</td>\n",
       "      <td>...</td>\n",
       "      <td>...</td>\n",
       "      <td>...</td>\n",
       "    </tr>\n",
       "    <tr>\n",
       "      <th>505</th>\n",
       "      <td>2019-04-07</td>\n",
       "      <td>Cardiac Arete (aka route  8)</td>\n",
       "      <td>5.10c</td>\n",
       "      <td>NaN</td>\n",
       "      <td>https://www.mountainproject.com/route/11141660...</td>\n",
       "      <td>1</td>\n",
       "      <td>Massachusetts &gt; Western MA &gt; Mormon Hollow</td>\n",
       "      <td>2.5</td>\n",
       "      <td>-1</td>\n",
       "      <td>Lead</td>\n",
       "      <td>Flash</td>\n",
       "      <td>Sport</td>\n",
       "      <td>NaN</td>\n",
       "      <td>40.0</td>\n",
       "      <td>3200</td>\n",
       "      <td>1597</td>\n",
       "      <td>53.249728</td>\n",
       "    </tr>\n",
       "    <tr>\n",
       "      <th>506</th>\n",
       "      <td>2018-09-03</td>\n",
       "      <td>Gemini</td>\n",
       "      <td>5.6</td>\n",
       "      <td>second trad lead!</td>\n",
       "      <td>https://www.mountainproject.com/route/10649764...</td>\n",
       "      <td>1</td>\n",
       "      <td>New Hampshire &gt; WM: Kancamagus (Eastern) &gt; Woo...</td>\n",
       "      <td>1.8</td>\n",
       "      <td>-1</td>\n",
       "      <td>Lead</td>\n",
       "      <td>Onsight</td>\n",
       "      <td>Trad</td>\n",
       "      <td>NaN</td>\n",
       "      <td>40.0</td>\n",
       "      <td>1600</td>\n",
       "      <td>1813</td>\n",
       "      <td>60.449728</td>\n",
       "    </tr>\n",
       "    <tr>\n",
       "      <th>507</th>\n",
       "      <td>2018-09-03</td>\n",
       "      <td>Zig Zag Crack</td>\n",
       "      <td>5.7</td>\n",
       "      <td>first trad lead!</td>\n",
       "      <td>https://www.mountainproject.com/route/10683718...</td>\n",
       "      <td>1</td>\n",
       "      <td>New Hampshire &gt; WM: Kancamagus (Eastern) &gt; Woo...</td>\n",
       "      <td>1.9</td>\n",
       "      <td>-1</td>\n",
       "      <td>Lead</td>\n",
       "      <td>Onsight</td>\n",
       "      <td>Trad</td>\n",
       "      <td>NaN</td>\n",
       "      <td>40.0</td>\n",
       "      <td>1800</td>\n",
       "      <td>1813</td>\n",
       "      <td>60.449728</td>\n",
       "    </tr>\n",
       "    <tr>\n",
       "      <th>508</th>\n",
       "      <td>2018-09-03</td>\n",
       "      <td>Screaming Yellow Zonkers Crack</td>\n",
       "      <td>5.11c</td>\n",
       "      <td>tried the moves, didn't get very far</td>\n",
       "      <td>https://www.mountainproject.com/route/10672753...</td>\n",
       "      <td>1</td>\n",
       "      <td>New Hampshire &gt; WM: Kancamagus (Eastern) &gt; Woo...</td>\n",
       "      <td>3.9</td>\n",
       "      <td>-1</td>\n",
       "      <td>TR</td>\n",
       "      <td>NaN</td>\n",
       "      <td>Trad</td>\n",
       "      <td>NaN</td>\n",
       "      <td>90.0</td>\n",
       "      <td>5200</td>\n",
       "      <td>1813</td>\n",
       "      <td>60.449728</td>\n",
       "    </tr>\n",
       "    <tr>\n",
       "      <th>509</th>\n",
       "      <td>2018-08-01</td>\n",
       "      <td>Pinnacle Direct (Rock Climb)</td>\n",
       "      <td>5.9-</td>\n",
       "      <td>NaN</td>\n",
       "      <td>https://www.mountainproject.com/route/10660160...</td>\n",
       "      <td>4</td>\n",
       "      <td>New Hampshire &gt; WM: Pinkham / Presidentials &gt; ...</td>\n",
       "      <td>3.7</td>\n",
       "      <td>4</td>\n",
       "      <td>Follow</td>\n",
       "      <td>NaN</td>\n",
       "      <td>Trad</td>\n",
       "      <td>NaN</td>\n",
       "      <td>400.0</td>\n",
       "      <td>2300</td>\n",
       "      <td>1846</td>\n",
       "      <td>61.549728</td>\n",
       "    </tr>\n",
       "  </tbody>\n",
       "</table>\n",
       "<p>216 rows × 17 columns</p>\n",
       "</div>"
      ],
      "text/plain": [
       "          Date                           Route Rating  \\\n",
       "1   2023-08-01                        Predator  5.13b   \n",
       "2   2023-07-31                F* *king the Dog  5.11a   \n",
       "3   2023-07-30     Orange Crush (retro-bolted)    5.9   \n",
       "5   2023-07-21                       Boardwalk    5.5   \n",
       "6   2023-07-21                       Outersite    5.7   \n",
       "..         ...                             ...    ...   \n",
       "505 2019-04-07    Cardiac Arete (aka route  8)  5.10c   \n",
       "506 2018-09-03                          Gemini    5.6   \n",
       "507 2018-09-03                   Zig Zag Crack    5.7   \n",
       "508 2018-09-03  Screaming Yellow Zonkers Crack  5.11c   \n",
       "509 2018-08-01    Pinnacle Direct (Rock Climb)   5.9-   \n",
       "\n",
       "                                                 Notes  \\\n",
       "1    put it down first go today. everything came to...   \n",
       "2                               w Serena, great climb!   \n",
       "3    delightful actually. can't believe I've never ...   \n",
       "5    wet! but still fun. great views at the top. wi...   \n",
       "6    first pitch only. delightful! \"like candy\". wi...   \n",
       "..                                                 ...   \n",
       "505                                                NaN   \n",
       "506                                 second trad lead!    \n",
       "507                                  first trad lead!    \n",
       "508               tried the moves, didn't get very far   \n",
       "509                                                NaN   \n",
       "\n",
       "                                                   URL  Pitches  \\\n",
       "1    https://www.mountainproject.com/route/10588455...        1   \n",
       "2    https://www.mountainproject.com/route/10595169...        1   \n",
       "3    https://www.mountainproject.com/route/10677579...        1   \n",
       "5    https://www.mountainproject.com/route/10590550...        1   \n",
       "6    https://www.mountainproject.com/route/10660417...        2   \n",
       "..                                                 ...      ...   \n",
       "505  https://www.mountainproject.com/route/11141660...        1   \n",
       "506  https://www.mountainproject.com/route/10649764...        1   \n",
       "507  https://www.mountainproject.com/route/10683718...        1   \n",
       "508  https://www.mountainproject.com/route/10672753...        1   \n",
       "509  https://www.mountainproject.com/route/10660160...        4   \n",
       "\n",
       "                                              Location  Avg Stars  Your Stars  \\\n",
       "1               New Hampshire > *Rumney > Orange Crush        4.0           4   \n",
       "2                New Hampshire > *Rumney > Kennel Wall        3.0           3   \n",
       "3               New Hampshire > *Rumney > Orange Crush        2.3          -1   \n",
       "5    Massachusetts > Central, MA > Crow Hill and Le...        2.4          -1   \n",
       "6    Massachusetts > Central, MA > Crow Hill and Le...        2.2          -1   \n",
       "..                                                 ...        ...         ...   \n",
       "505         Massachusetts > Western MA > Mormon Hollow        2.5          -1   \n",
       "506  New Hampshire > WM: Kancamagus (Eastern) > Woo...        1.8          -1   \n",
       "507  New Hampshire > WM: Kancamagus (Eastern) > Woo...        1.9          -1   \n",
       "508  New Hampshire > WM: Kancamagus (Eastern) > Woo...        3.9          -1   \n",
       "509  New Hampshire > WM: Pinkham / Presidentials > ...        3.7           4   \n",
       "\n",
       "      Style Lead Style Route Type Your Rating  Length  Rating Code  Days Ago  \\\n",
       "1      Lead   Redpoint      Sport         NaN     NaN         8900        20   \n",
       "2      Lead      Flash      Sport         NaN    50.0         4600        21   \n",
       "3      Lead    Onsight      Sport         NaN    50.0         2400        22   \n",
       "5        TR        NaN   Trad, TR         NaN    80.0         1500        31   \n",
       "6      Lead    Onsight       Trad         NaN    55.0         1800        31   \n",
       "..      ...        ...        ...         ...     ...          ...       ...   \n",
       "505    Lead      Flash      Sport         NaN    40.0         3200      1597   \n",
       "506    Lead    Onsight       Trad         NaN    40.0         1600      1813   \n",
       "507    Lead    Onsight       Trad         NaN    40.0         1800      1813   \n",
       "508      TR        NaN       Trad         NaN    90.0         5200      1813   \n",
       "509  Follow        NaN       Trad         NaN   400.0         2300      1846   \n",
       "\n",
       "     Months Ago  \n",
       "1      0.683061  \n",
       "2      0.716395  \n",
       "3      0.749728  \n",
       "5      1.049728  \n",
       "6      1.049728  \n",
       "..          ...  \n",
       "505   53.249728  \n",
       "506   60.449728  \n",
       "507   60.449728  \n",
       "508   60.449728  \n",
       "509   61.549728  \n",
       "\n",
       "[216 rows x 17 columns]"
      ]
     },
     "execution_count": 30,
     "metadata": {},
     "output_type": "execute_result"
    }
   ],
   "source": [
    "sportdf"
   ]
  },
  {
   "cell_type": "code",
   "execution_count": 31,
   "id": "209dfda4",
   "metadata": {
    "scrolled": false
   },
   "outputs": [
    {
     "data": {
      "application/vnd.plotly.v1+json": {
       "config": {
        "plotlyServerURL": "https://plot.ly"
       },
       "data": [
        {
         "alignmentgroup": "True",
         "customdata": [
          [
           "Rock Garden",
           1079,
           "placement practice w/blox & isaac. first time w tricams and horizonal nut"
          ],
          [
           "Boardwalk",
           31,
           "wet! but still fun. great views at the top. with the lab"
          ],
          [
           "Bloomenmädchen",
           408,
           "tried to do no hands but gave up lol"
          ],
          [
           "Jackie",
           808,
           "first climb in the gunks :) led on Asha's pre placed gear and practiced my own placements between hers "
          ],
          [
           "Madame Grunnebaum's Wulst",
           736,
           "w Marian ❤️ she led p1 then I linked p2-3. so sweet!!"
          ],
          [
           "High Exposure",
           807,
           "just incredible!!!!"
          ],
          [
           "Thin Air",
           1080,
           "w/isaac. super fun! got 3 pieces in on the first pitch (.4, nut, something else) & linked w/ second"
          ],
          [
           "Gemini",
           1813,
           "second trad lead! "
          ],
          [
           "Outersite",
           31,
           "first pitch only. delightful! \"like candy\". with the lab"
          ],
          [
           "Bunny Face",
           123,
           "pure delight "
          ],
          [
           "Does Your Boyfriend Drive Too",
           366,
           "fun, harder than expected, did low start"
          ],
          [
           "Lavender Dreams",
           408,
           null
          ],
          [
           "Easily Amused",
           777,
           "barefoot"
          ],
          [
           "Classic",
           808,
           "got flustered placing gear before the roof but actual climbing was all super chill"
          ],
          [
           "Twin Power",
           877,
           "taught scout to lead!"
          ],
          [
           "Stealing Candy from a Baby",
           1079,
           "went left at second roof. cool moves, run out if u don&#39;t save a .5"
          ],
          [
           "Layback",
           1177,
           "tronsight. slippery down low as expected but cruiser at top."
          ],
          [
           "Sweets to the Sweet",
           1364,
           null
          ],
          [
           "Triple vires",
           1426,
           null
          ],
          [
           "Zig Zag Crack",
           1813,
           "first trad lead! "
          ],
          [
           "Double Cross",
           269,
           null
          ],
          [
           "Something Interesting",
           808,
           "linked P1&2 then belayed Asha up to GT. strenuous in the sun, hard to find the flow. amazing views though."
          ],
          [
           "Punk Rock",
           1079,
           "got off route to the right going over roof bulge but still fun - followed blox"
          ],
          [
           "Sail Away",
           267,
           "delightful!!!"
          ],
          [
           "Spaghetti & Chili",
           269,
           "flake moves off the ledge honestly kind of spicy!!"
          ],
          [
           "Intertwine",
           31,
           "wicked fun! with the lab :)"
          ],
          [
           "Gerry Gerbil",
           366,
           "Matthew and Kali's first lead! :)"
          ],
          [
           "Birthday Girl",
           667,
           "I think it's this climb? lovely warm up!"
          ],
          [
           "Air and Pleasant Danger",
           709,
           null
          ],
          [
           "Snake Skin Slab",
           758,
           "fun!"
          ],
          [
           "Cool Katz",
           879,
           "start moves are very serious for a 5.7 especially if short"
          ],
          [
           "The Saigons",
           1080,
           null
          ],
          [
           "Outside Corner",
           1177,
           "tronsight. fun! did different variations on a few laps."
          ],
          [
           "Queue de Lion",
           1479,
           null
          ],
          [
           "Star Chek",
           306,
           "spectacular. led P1 to intermediate anchors halfway up P2, then Austin went to the big ledge, I led 10c variation to final pitch. an absolutely blissful day."
          ],
          [
           "Son of Sammy",
           708,
           "warm up"
          ],
          [
           "Tarzan",
           1143,
           "fun climb, confusing topout - really great exposed juggy section right before dirty part @ top - practiced placing gear, save the #4 for high up! "
          ],
          [
           "The Sand People",
           1416,
           null
          ],
          [
           "Long Walk Off Of a Short Pier",
           873,
           "delightful"
          ],
          [
           "Pinnacle Direct (Rock Climb)",
           1846,
           null
          ],
          [
           "Orange Crush (retro-bolted)",
           22,
           "delightful actually. can't believe I've never done this before."
          ],
          [
           "Rat-A-Puss",
           52,
           "w Matthew "
          ],
          [
           "Western Saga",
           267,
           "loved this climb!! beautiful and exciting. belayed Austin up to ledge after roof crux to avoid drag (gear anchor: bomber #3,2,1 in pods) and then he led fote hog top out as a short 2nd pitch. walked off south side. got a red tricam stuck on P1 at the cruxy bit before the dihedral ledge... oops. did not take #4 and did not feel that i needed it. crux for me was starting up the dihedral, good jams but smeary feet and heady bc of potential ledge fall."
          ],
          [
           "Hammy Hamster",
           366,
           null
          ],
          [
           "Ants' Line",
           808,
           "hell yeah :) got gear beta from the dudes in front of us then crushed it. sweaty but shady. still felt stiff compared to sport grades but with placements planned out ahead of time much better flow."
          ],
          [
           "Rochambeau",
           870,
           "first creek lead yay!"
          ],
          [
           "Tomahawk",
           876,
           "in blazing sun. yeehaw"
          ],
          [
           "Perky's Playground",
           877,
           "short but lovely"
          ],
          [
           "Lamenites",
           879,
           "was expecting a 12a from the guidebook but didn't know to avoid the arete lol... would be pretty contrived. fun and easy with arete."
          ],
          [
           "Dead Man Walking",
           1306,
           "so fun!!! was super nervous about this one as a non crack climber but fought my way to the chains!"
          ],
          [
           "31-foot smurf",
           1311,
           null
          ],
          [
           "Couch Potato",
           1402,
           "super fun also!"
          ],
          [
           "La Grande Traversée",
           1426,
           "beautiful climb!"
          ],
          [
           "Tall Cool One",
           1554,
           "spicy!!"
          ],
          [
           "Creature Feature",
           1555,
           null
          ],
          [
           "Space Donkey",
           408,
           "wicked fun"
          ],
          [
           "Lazy Day",
           445,
           null
          ],
          [
           "Mr. Fluffer's Wild Ride",
           600,
           null
          ],
          [
           "Flight of the Gumby",
           672,
           null
          ],
          [
           "Smokestack",
           709,
           "in approach shoes. honestly a trip lmao"
          ],
          [
           "Rock Du Jours Direct",
           759,
           "wicked fun except for hornets in flake by last bolt on p2"
          ],
          [
           "B-B-Buttress",
           855,
           "more fun than I recalled"
          ],
          [
           "Tensile Strength",
           1177,
           "tronsight. also fun! curious to try original line since bolts traverse across pins & needles"
          ],
          [
           "Oby-won Ryobi",
           1416,
           "great warm up"
          ],
          [
           "Netizen Hacktivist",
           1554,
           "spicy start"
          ],
          [
           "Mullah",
           52,
           "gorgeous climb, awesome exposure and views, very hot in the sun"
          ],
          [
           "Aguja Celo Rey",
           226,
           "led P2 from the notch, sooooooooooo good"
          ],
          [
           "Sin Soul",
           230,
           "delightful cool down at the end of the day"
          ],
          [
           "Venus Envy",
           330,
           null
          ],
          [
           "What's Eating You",
           522,
           null
          ],
          [
           "Lonesome Dove",
           841,
           "a dream! & so different from any other rumney 10 I've done!"
          ],
          [
           "Jolt",
           855,
           "fun climbing but holy crap that was sketchy. would not do again."
          ],
          [
           "Raindance",
           876,
           "2 laps, wicked fun"
          ],
          [
           "Puppet Strings",
           877,
           "so much fun!!! big juicy jugs with heady bulge start and finish! 2 laps, w/ scout and jose"
          ],
          [
           "Masterpiece",
           1107,
           "lovely"
          ],
          [
           "Underdog",
           1108,
           "so much chalk"
          ],
          [
           "Earth, Moon, and Planets",
           1304,
           "yikes!!!!!"
          ],
          [
           "Will the Wolf Survive?",
           1310,
           "great fun! pitch 1 was spicier than expected, pitches 2 and 3 were dope, pitch 4 was wild!"
          ],
          [
           "DNA",
           1311,
           null
          ],
          [
           "Edward Silverhands",
           1360,
           null
          ],
          [
           "Oh Yeah",
           1363,
           null
          ],
          [
           "Old Pine",
           1363,
           "super cool but SOOO COLD"
          ],
          [
           "Plat-A-Pussy",
           52,
           "w Matthew"
          ],
          [
           "Zion",
           118,
           "with Alana - amazing!! i led zebra seam as P1 (hung all over it, bad warm up in the sun turns out) she led P2 i led 3+4 (clean). P3 traverse def heady. P4 was fucking spectacular. def the steepest thing I've led on gear, incredible position incredible jugs, lived up to the hype. so awesome."
          ],
          [
           "Illusion Dweller",
           267,
           "fucking outstanding rock climb. oh and fwiw cleaned on lower with a chopped 60m (not sure but maybe 56m) and reached ground with no shenanigans."
          ],
          [
           "Mic's Master",
           518,
           null
          ],
          [
           "The Last In Line",
           526,
           null
          ],
          [
           "Pump First, Pay Later",
           527,
           null
          ],
          [
           "Black Dog Crack",
           661,
           null
          ],
          [
           "Flight Path",
           669,
           null
          ],
          [
           "Springer",
           671,
           "fun heady warm up!"
          ],
          [
           "Glass Onion",
           673,
           "first route of trip with Claire! lovely!"
          ],
          [
           "Misdemeanor",
           777,
           "fun!!! chossy at top. big rock came down after Marian lowered. yikes."
          ],
          [
           "Holderness Arete",
           777,
           "warm up"
          ],
          [
           "Armed and Dangerous, and Off My Medication",
           854,
           null
          ],
          [
           "Crescent Crack",
           869,
           "day 2 in the creek. cried because my hands hurt again. still got to the top tho."
          ],
          [
           "Nice Land",
           1045,
           "warm up"
          ],
          [
           "El Funko",
           1121,
           null
          ],
          [
           "Path of the Righteous",
           1122,
           "SICK views, exposed easy climbing w a few cruxy points, def height dependent"
          ],
          [
           "Flying Scorpion",
           1311,
           null
          ],
          [
           "Mind if I do a J?",
           1364,
           null
          ],
          [
           "Purple Microdot",
           1395,
           null
          ],
          [
           "FIGJAM",
           1477,
           "this is where we came after lions head"
          ],
          [
           "Bad Company",
           1554,
           null
          ],
          [
           "Spanky Spangler",
           526,
           null
          ],
          [
           "The Popsicle Kings",
           597,
           "hauling practice w Alana "
          ],
          [
           "Incredible Hand Crack",
           868,
           "at night. fell a few times at roof (gotta get hands very deep) otherwise cruised and felt awesome! would lead next time!"
          ],
          [
           "Cro-Magnon",
           1143,
           "pumpy af but really fun. started after dark and didn't make it to top. gotta work on tr and then lead one day!!! "
          ],
          [
           "Rubicon",
           776,
           "barefoot"
          ],
          [
           "Tall Man Simplex",
           52,
           "wicked fun first move, bolts a little confusing after that but it's basically over. probably makes more sense as a boulder "
          ],
          [
           "Nine Gallon Buckets",
           127,
           "so delightful!! a little tricky and heady just after the first set of anchors, enough to keep it interesting. awesome awesome climb."
          ],
          [
           "Baked Fresh Daily",
           230,
           "w serena on a very windy day. lovely!"
          ],
          [
           "Indus",
           231,
           "delightful! first lead on shrooms :)"
          ],
          [
           "Running Amuck",
           527,
           null
          ],
          [
           "Millenium Falcon",
           546,
           "yum"
          ],
          [
           "Almost Heaven",
           671,
           null
          ],
          [
           "Romancing the Stone",
           758,
           null
          ],
          [
           "Citrasolve",
           776,
           "warm up. stayed dry in rain!"
          ],
          [
           "Hell Yeah",
           1363,
           null
          ],
          [
           "Roto Hammer",
           1364,
           null
          ],
          [
           "Making Waves",
           1479,
           null
          ],
          [
           "Crazy Fingers",
           1553,
           "i think i did this one, maybe one of the adjacent ones"
          ],
          [
           "Don't Take Yer Guns to Town",
           1556,
           null
          ],
          [
           "Cardiac Arete (aka route  8)",
           1597,
           null
          ],
          [
           "Morning Sky",
           125,
           "warm up w c&g. still spicy! also just realized today that this is not the official finish of Gumby "
          ],
          [
           "Pain in the Cass!",
           879,
           "2 laps big fun. w/scout, becca, pallav "
          ],
          [
           "Pitch Black",
           234,
           "with austib :) an absolute delight!!! i led P1 and P3+4 link. heinous drag even with skipping bolts lol phew. otherwise just sublimely joyful. every pitch is great."
          ],
          [
           "Mugre Mugre",
           235,
           "straight from the airport"
          ],
          [
           "Gray Cell Green",
           269,
           null
          ],
          [
           "Peer Pressure",
           468,
           "always great"
          ],
          [
           "Swedish Girls",
           842,
           "nice warm up"
          ],
          [
           "Ladder Line",
           1177,
           "slipped once low otherwise could have sent. great movement!!! started left to avoid graffiti. "
          ],
          [
           "Purple Haze I",
           1364,
           null
          ],
          [
           "Centerpiece",
           1416,
           "dope climb!!"
          ],
          [
           "F* *king the Dog",
           21,
           "w Serena, great climb!"
          ],
          [
           "Uber Machismo",
           226,
           "very proud to have followed clean w a big ass backpack"
          ],
          [
           "Tropicana",
           394,
           "very hard with a gallon jug of water in a backpack lol"
          ],
          [
           "Half Shell Heros",
           408,
           null
          ],
          [
           "Free Willie",
           445,
           "lovely!!"
          ],
          [
           "Know Ethics",
           638,
           "yay"
          ],
          [
           "Under the Boardwalk",
           873,
           null
          ],
          [
           "Two Pumped Chump",
           1303,
           "just did first pitch so we wouldn&#39;t miss our flight. loved the thoughtful first pitch!"
          ],
          [
           "Leap of Faith",
           1307,
           "lead pitches 1 and 3. cracky!!"
          ],
          [
           "Super Nova",
           1309,
           "super fun multipitch!! took twice on the spicy first pitch but sent the rest clean. linked pitches with Claire and simulrapped down in 5h total. bolt spacing was wild. view from the top was RAD!"
          ],
          [
           "Ent Line",
           807,
           "2 goes no tredpoint. crux is tricky, high rf on chalky nub of hold under roof and bump shitty rh crimp to ledge."
          ],
          [
           "The Preacher's Daughter",
           436,
           "cool down after working zen"
          ],
          [
           "Satisfaction Guaranteed",
           1021,
           "2nd go. crux is managing pump on the headwall. great route"
          ],
          [
           "Vomit Launch",
           115,
           "delightful romp with a spicy little finish! didn't feel stiff for the grade, lots of good feet and not too steep, you can shake on almost any hold. wicked fun."
          ],
          [
           "Cool Ranch Flavor",
           128,
           "first route of the trip! had to crimp hard on some small stuff at the top. declined to do extension since i was feeling a little gripped."
          ],
          [
           "No Habla Espanol",
           230,
           "great pitch. feels easy in the first half but the pump just builds and builds and the top sequence is not obvious. super fun! w serena on a very windy day"
          ],
          [
           "Flying Hawaiian",
           331,
           "2nd go. really cool but the top is dumb"
          ],
          [
           "Buried Treasure",
           428,
           "followed clean even tho wet"
          ],
          [
           "Believer",
           435,
           null
          ],
          [
           "Paralyzed",
           521,
           null
          ],
          [
           "Gringo Disco",
           595,
           "tr flash, long and cool but sharp"
          ],
          [
           "Discombobulated",
           673,
           "sick!!! crux is def between bolt 1 and 2"
          ],
          [
           "Lions and Tigers and Bears",
           1394,
           "GOT IT!! leaned out from start to clip the first perma before I started, then sent it clean! what an awesome line!"
          ],
          [
           "Oh My! finish",
           43,
           "always a joy"
          ],
          [
           "Never on Friday",
           225,
           "tricky! good warmup"
          ],
          [
           "El Sendero Diablo (The Devil's Path)",
           228,
           "SOOOO GOOOOOOOOOD!!!! w Serena the love of my life and a mothafuckin baddie. i led 2&4 serenie linked 5&6. started 8ish topped 12ish down 2ish. sun blasted us from 9:30 onward but breeze kept it real. good times at P4 anchor with grace and isabella.  titties out for the rap. 5 raps total w a 70 directionals made it easy. amazing exposure especially on p5. "
          ],
          [
           "Animal Magnetism",
           445,
           "wicked fun and beautiful! had to work for it at the last moves!"
          ],
          [
           "Moondance",
           514,
           "flashed but at what cost???? feet were stupid pumped  from stemming lol this took absolutely everything i had"
          ],
          [
           "Yaak Crack",
           527,
           "2nd go today after working out top sequence weeww"
          ],
          [
           "Send it Pink Pocket Express",
           600,
           null
          ],
          [
           "Aesthetica",
           668,
           "warm up OS! proud of this one. great climb and so pretty!"
          ],
          [
           "Barking Spiders",
           709,
           "2nd go"
          ],
          [
           "Basement",
           873,
           "2nd go"
          ],
          [
           "Screaming Yellow Zonkers Crack",
           1813,
           "tried the moves, didn't get very far"
          ],
          [
           "Native Son",
           526,
           "Dyno start took 6ish tries but flashed from first time sticking it :)"
          ],
          [
           "Zebra Seam",
           115,
           "3rd go. surprised myself! felt like i was barely hanging on after each clip but somehow took it to the chains. such an excellent line, much better in the shade lol. w seth"
          ],
          [
           "Mitosis",
           289,
           "this is honestly a great warm up for Venus "
          ],
          [
           "Nicky's Crack",
           323,
           "2nd go, w Anthony "
          ],
          [
           "Golden Stripe",
           408,
           "fantastic rig!!! got off route a little at the bottom going left and had to backtrack lol but kept it together! back  cleaned every slab bolt"
          ],
          [
           "Machine Head",
           506,
           "2 hang figuring out beta, decided to use right knee bar at the top, sent 2nd go. knee bar is bomber lets u get the final rh pinch static"
          ],
          [
           "Don Quixote",
           598,
           "booyah. burly as hell in the corner but made it happen hanging the draws"
          ],
          [
           "Toxic Hueco",
           667,
           "so rad!!! in your face right away!! sent 2nd go w the big try hard yeeww"
          ],
          [
           "The Crusher",
           716,
           null
          ],
          [
           "Under the Milky Way",
           1021,
           "2nd go! such a striking line, great flow, wicked fun"
          ],
          [
           "The Sword",
           1304,
           null
          ],
          [
           "Center Route",
           52,
           "this is, in fact, pretty hard"
          ],
          [
           "Weevil Knievil",
           65,
           "first go with beta from AAA (anthony adam alejandro) yewwww"
          ],
          [
           "Five Easy Pieces (start)",
           114,
           "sieged with Alana over the course of about 16 hours (1 evening sesh + 1 sunrise sesh). really had to fight for it which made it soOOoo good. phenomenal climb! required crafty heel hooks and transference of rage. send was foretold by us catching the exact moment the giant log in the river got unstuck from the rock. truly excellent stuff."
          ],
          [
           "Dreamin'",
           115,
           "first go today, in the sun! at 7am with a breeze tho the crimps felt perfect. stayed calm and it flowed like a dream. absolutely gorgeous climb."
          ],
          [
           "The Golden Ratio",
           408,
           "stoked to get the OS of this beautiful climb :) plus a lil victory whip!!"
          ],
          [
           "Stoned Temple Pilot",
           485,
           "warm up for premium"
          ],
          [
           "Peanut Man",
           546,
           "finally!! with Anthony's left crimp first tall boi beta :) fuck yeah "
          ],
          [
           "Fear of Flying",
           600,
           "yeehaw"
          ],
          [
           "Lost Souls",
           672,
           "yeee boiiii. 3rd go today"
          ],
          [
           "Vallee Daze",
           709,
           "2nd go :) beautiful"
          ],
          [
           "Social Outcast",
           830,
           "oh yeah she goes :) 2nd burn today 6th overall. yay!!"
          ],
          [
           "Things As They Are Now",
           841,
           "bouldery and fun! 3rd go if you only count the goes where I stuck the first move lol. stick clipped 2nd bolt and falls were all chill."
          ],
          [
           "Salty Dog",
           1310,
           "first outdoor 12! and I flashed! could have been an onsight maybe but some french dude sprayed about the crux. oh well. yay!!!"
          ],
          [
           "Too Many Puppies",
           1555,
           "tough but super cool!"
          ],
          [
           "Aspire",
           594,
           "by headlamp, following Seth, just to midway anchors to help clean. still sick tho. would come back for the whole thing"
          ],
          [
           "Sting",
           869,
           "my fav route of this trip. flashed the opening boulder via my first ever ring lock! then hard laybacking then super fun top. would be a dream to lead one day."
          ],
          [
           "Reckless Abandon",
           669,
           "3rd go today. went slightly left at 4th bolt using RH undercling, felt great, crux was pump. yay!"
          ],
          [
           "Social Distortion",
           786,
           "2nd go! ALMOST got the flash but slipped off the final hold before I could mantle, damn! cool crux. felt easier than outcast"
          ],
          [
           "Bullet the New Sky",
           1018,
           "4th go! so beautiful!! needed a few tries to figure out the crux seq but then it flowed perfectly!"
          ],
          [
           "Latest Rage",
           125,
           "2nd go today! 1st go was close, whipped when i couldn't hold the last big move, frustrating. send go was not as smooth but i kept it together. hell yeah."
          ],
          [
           "Technosurfing",
           297,
           "absolutely stellar"
          ],
          [
           "Habanero",
           595,
           "free the nipple send the rig"
          ],
          [
           "Thunderstruck",
           672,
           "moves felt much better today! linked from 3f crimp to jugs under top crux"
          ],
          [
           "Fission aka Ken T'ank",
           442,
           "3rd go! so pretty! :)"
          ],
          [
           "Karate Wall (aka Powerline)",
           125,
           "fell at b4 crux and again from pump at the top, just under final bolt. feeling pretty good about it...!"
          ],
          [
           "Venus on a Halfshell",
           289,
           "ooh so good!! 2nd go today maybe 9th overall? last move still felt way hard but I bore down and got er done. fuck yes"
          ],
          [
           "Flying Monkeys",
           429,
           "OHHH YEEEAAAAHHHHH"
          ],
          [
           "The Half Premium",
           485,
           "sent 2nd go today 4th overall :) and then promptly unsent cleaning lol. gotta be precise!! tried the first few moves of the full but it was wet. "
          ],
          [
           "Sound of Power",
           518,
           "5th or 6th go after blowing it once at chains, first of the grade!! :)"
          ],
          [
           "New Wave Hookers",
           522,
           "lol this thing is fucking hard"
          ],
          [
           "Mescallana",
           527,
           "tried moves, very cool, seems like a good proj"
          ],
          [
           "Nephites",
           879,
           "managed to link 3 moves aka stand up into chalky crimp undercling w much thrutching after about 20 tries"
          ],
          [
           "Tsunami",
           289,
           "let's fuckin go!!! unexpected 2nd burn send today. the first time i stuck the heel move from the ground i made it to the chains even tho i had never pulled the top crux w/o a hang there. so incredibly freakin stoked. 7th go overall. this rig is cool as hell."
          ],
          [
           "Anaconda-Da-Vida",
           331,
           "oh man just the perfect flow. 2nd go after one hang sussing moves. felt amazing. i love this climb!!!!"
          ],
          [
           "Darkness At Noon",
           122,
           "worked on beta up to b4, gotta find something new for moving off b2... stuck the mail slot move first try with the far Rh side pull and high LF, hell yeah. moves past that are still nails lol"
          ],
          [
           "Black Rider (aka Pocket Route)",
           1018,
           "fooled around on TR up to the second roof"
          ],
          [
           "Predator",
           20,
           "put it down first go today. everything came together and it felt easy. I was so confident after getting so close last time, and feeling the cool temps, and the great vibes with Conor on belay, felt like I was floating. still can't believe it. such a wild and glorious climb. all the training and dreaming and studying every detail was worth it. really fucking proud of myself for this one."
          ]
         ],
         "hovertemplate": "Rating=%{x}<br>count=%{y}<br>Route=%{customdata[0]}<br>Days Ago=%{customdata[1]}<br>Notes=%{customdata[2]}<br>Months Ago=%{marker.color}<extra></extra>",
         "legendgroup": "",
         "marker": {
          "color": [
           35.98306119747338,
           1.0497278641400463,
           13.616394530806714,
           26.949727864140048,
           24.549727864140046,
           26.916394530806713,
           36.016394530806714,
           60.44972786414005,
           1.0497278641400463,
           4.116394530806713,
           12.216394530806713,
           13.616394530806714,
           25.916394530806713,
           26.949727864140048,
           29.24972786414005,
           35.98306119747338,
           39.24972786414005,
           45.48306119747338,
           47.54972786414005,
           60.44972786414005,
           8.98306119747338,
           26.949727864140048,
           35.98306119747338,
           8.916394530806713,
           8.98306119747338,
           1.0497278641400463,
           12.216394530806713,
           22.249727864140045,
           23.649727864140047,
           25.28306119747338,
           29.316394530806715,
           36.016394530806714,
           39.24972786414005,
           49.31639453080672,
           10.216394530806713,
           23.616394530806712,
           38.116394530806716,
           47.21639453080672,
           29.116394530806716,
           61.54972786414005,
           0.7497278641400463,
           1.7497278641400462,
           8.916394530806713,
           12.216394530806713,
           26.949727864140048,
           29.016394530806718,
           29.216394530806717,
           29.24972786414005,
           29.316394530806715,
           43.54972786414005,
           43.71639453080672,
           46.74972786414005,
           47.54972786414005,
           51.81639453080672,
           51.84972786414005,
           13.616394530806714,
           14.849727864140046,
           20.016394530806714,
           22.416394530806713,
           23.649727864140047,
           25.31639453080671,
           28.516394530806718,
           39.24972786414005,
           47.21639453080672,
           51.81639453080672,
           1.7497278641400462,
           7.5497278641400465,
           7.683061197473379,
           11.016394530806712,
           17.416394530806713,
           28.04972786414005,
           28.516394530806718,
           29.216394530806717,
           29.24972786414005,
           36.91639453080671,
           36.94972786414005,
           43.48306119747338,
           43.683061197473386,
           43.71639453080672,
           45.34972786414005,
           45.44972786414005,
           45.44972786414005,
           1.7497278641400462,
           3.9497278641400464,
           8.916394530806713,
           17.28306119747338,
           17.549727864140046,
           17.58306119747338,
           22.049727864140046,
           22.31639453080671,
           22.38306119747338,
           22.449727864140048,
           25.916394530806713,
           25.916394530806713,
           28.483061197473383,
           28.983061197473383,
           34.84972786414005,
           37.38306119747338,
           37.41639453080671,
           43.71639453080672,
           45.48306119747338,
           46.516394530806714,
           49.24972786414005,
           51.81639453080672,
           17.549727864140046,
           19.916394530806713,
           28.949727864140048,
           38.116394530806716,
           25.88306119747338,
           1.7497278641400462,
           4.249727864140047,
           7.683061197473379,
           7.716394530806713,
           17.58306119747338,
           18.216394530806713,
           22.38306119747338,
           25.28306119747338,
           25.88306119747338,
           45.44972786414005,
           45.48306119747338,
           49.31639453080672,
           51.78306119747338,
           51.88306119747338,
           53.24972786414005,
           4.183061197473379,
           29.316394530806715,
           7.816394530806713,
           7.849727864140046,
           8.98306119747338,
           15.616394530806714,
           28.083061197473384,
           39.24972786414005,
           45.48306119747338,
           47.21639453080672,
           0.716394530806713,
           7.5497278641400465,
           13.149727864140047,
           13.616394530806714,
           14.849727864140046,
           21.28306119747338,
           29.116394530806716,
           43.44972786414005,
           43.583061197473384,
           43.64972786414005,
           26.916394530806713,
           14.549727864140046,
           34.04972786414005,
           3.8497278641400463,
           4.28306119747338,
           7.683061197473379,
           11.049727864140046,
           14.28306119747338,
           14.516394530806712,
           17.38306119747338,
           19.849727864140046,
           22.449727864140048,
           46.48306119747338,
           1.4497278641400464,
           7.516394530806713,
           7.616394530806713,
           14.849727864140046,
           17.149727864140047,
           17.58306119747338,
           20.016394530806714,
           22.28306119747338,
           23.649727864140047,
           29.116394530806716,
           60.44972786414005,
           17.549727864140046,
           3.8497278641400463,
           9.649727864140047,
           10.78306119747338,
           13.616394530806714,
           16.88306119747338,
           19.949727864140048,
           22.249727864140045,
           23.88306119747338,
           34.04972786414005,
           43.48306119747338,
           1.7497278641400462,
           2.18306119747338,
           3.816394530806713,
           3.8497278641400463,
           13.616394530806714,
           16.18306119747338,
           18.216394530806713,
           20.016394530806714,
           22.416394530806713,
           23.649727864140047,
           27.68306119747338,
           28.04972786414005,
           43.683061197473386,
           51.84972786414005,
           19.81639453080671,
           28.983061197473383,
           22.31639453080671,
           26.216394530806713,
           33.94972786414005,
           4.183061197473379,
           9.916394530806713,
           19.849727864140046,
           22.416394530806713,
           14.749727864140047,
           4.183061197473379,
           9.649727864140047,
           14.316394530806713,
           16.18306119747338,
           17.28306119747338,
           17.416394530806713,
           17.58306119747338,
           29.316394530806715,
           9.649727864140047,
           11.049727864140046,
           4.08306119747338,
           33.94972786414005,
           0.6830611974733797
          ],
          "coloraxis": "coloraxis",
          "pattern": {
           "shape": ""
          }
         },
         "name": "",
         "offsetgroup": "",
         "orientation": "v",
         "showlegend": false,
         "textposition": "auto",
         "type": "bar",
         "x": [
          "5.4",
          "5.5",
          "5.5",
          "5.5",
          "5.6",
          "5.6",
          "5.6",
          "5.6",
          "5.7",
          "5.7",
          "5.7",
          "5.7",
          "5.7",
          "5.7",
          "5.7",
          "5.7",
          "5.7",
          "5.7",
          "5.7",
          "5.7",
          "5.7+",
          "5.7+",
          "5.7+",
          "5.8-",
          "5.8-",
          "5.8",
          "5.8",
          "5.8",
          "5.8",
          "5.8",
          "5.8",
          "5.8",
          "5.8",
          "5.8",
          "5.8+",
          "5.8+",
          "5.8+",
          "5.8+",
          "5.9-",
          "5.9-",
          "5.9",
          "5.9",
          "5.9",
          "5.9",
          "5.9",
          "5.9",
          "5.9",
          "5.9",
          "5.9",
          "5.9",
          "5.9",
          "5.9",
          "5.9",
          "5.9",
          "5.9",
          "5.9+",
          "5.9+",
          "5.9+",
          "5.9+",
          "5.9+",
          "5.9+",
          "5.9+",
          "5.9+",
          "5.9+",
          "5.9+",
          "5.10a",
          "5.10a",
          "5.10a",
          "5.10a",
          "5.10a",
          "5.10a",
          "5.10a",
          "5.10a",
          "5.10a",
          "5.10a",
          "5.10a",
          "5.10a",
          "5.10a",
          "5.10a",
          "5.10a",
          "5.10a",
          "5.10a",
          "5.10a/b",
          "5.10a/b",
          "5.10b",
          "5.10b",
          "5.10b",
          "5.10b",
          "5.10b",
          "5.10b",
          "5.10b",
          "5.10b",
          "5.10b",
          "5.10b",
          "5.10b",
          "5.10b",
          "5.10b",
          "5.10b",
          "5.10b",
          "5.10b",
          "5.10b",
          "5.10b",
          "5.10b",
          "5.10b",
          "5.10",
          "5.10",
          "5.10",
          "5.10",
          "5.10b/c",
          "5.10c",
          "5.10c",
          "5.10c",
          "5.10c",
          "5.10c",
          "5.10c",
          "5.10c",
          "5.10c",
          "5.10c",
          "5.10c",
          "5.10c",
          "5.10c",
          "5.10c",
          "5.10c",
          "5.10c",
          "5.10+",
          "5.10c/d",
          "5.10d",
          "5.10d",
          "5.10d",
          "5.10d",
          "5.10d",
          "5.10d",
          "5.10d",
          "5.10d",
          "5.11a",
          "5.11a",
          "5.11a",
          "5.11a",
          "5.11a",
          "5.11a",
          "5.11a",
          "5.11a",
          "5.11a",
          "5.11a",
          "5.11-",
          "5.11a/b",
          "5.11a/b",
          "5.11b",
          "5.11b",
          "5.11b",
          "5.11b",
          "5.11b",
          "5.11b",
          "5.11b",
          "5.11b",
          "5.11b",
          "5.11b",
          "5.11b/c",
          "5.11c",
          "5.11c",
          "5.11c",
          "5.11c",
          "5.11c",
          "5.11c",
          "5.11c",
          "5.11c",
          "5.11c",
          "5.11c",
          "5.11c/d",
          "5.11d",
          "5.11d",
          "5.11d",
          "5.11d",
          "5.11d",
          "5.11d",
          "5.11d",
          "5.11d",
          "5.11d",
          "5.11d",
          "5.12a",
          "5.12a",
          "5.12a",
          "5.12a",
          "5.12a",
          "5.12a",
          "5.12a",
          "5.12a",
          "5.12a",
          "5.12a",
          "5.12a",
          "5.12a",
          "5.12a",
          "5.12a",
          "5.12-",
          "5.12-",
          "5.12a/b",
          "5.12a/b",
          "5.12a/b",
          "5.12b",
          "5.12b",
          "5.12b",
          "5.12b",
          "5.12b/c",
          "5.12c",
          "5.12c",
          "5.12c",
          "5.12c",
          "5.12c",
          "5.12c",
          "5.12c",
          "5.12c",
          "5.12d",
          "5.12d",
          "5.13a",
          "5.13a",
          "5.13b"
         ],
         "xaxis": "x",
         "y": [
          1,
          1,
          1,
          1,
          1,
          1,
          1,
          1,
          1,
          1,
          1,
          1,
          1,
          1,
          1,
          1,
          1,
          1,
          1,
          1,
          1,
          1,
          1,
          1,
          1,
          1,
          1,
          1,
          1,
          1,
          1,
          1,
          1,
          1,
          1,
          1,
          1,
          1,
          1,
          1,
          1,
          1,
          1,
          1,
          1,
          1,
          1,
          1,
          1,
          1,
          1,
          1,
          1,
          1,
          1,
          1,
          1,
          1,
          1,
          1,
          1,
          1,
          1,
          1,
          1,
          1,
          1,
          1,
          1,
          1,
          1,
          1,
          1,
          1,
          1,
          1,
          1,
          1,
          1,
          1,
          1,
          1,
          1,
          1,
          1,
          1,
          1,
          1,
          1,
          1,
          1,
          1,
          1,
          1,
          1,
          1,
          1,
          1,
          1,
          1,
          1,
          1,
          1,
          1,
          1,
          1,
          1,
          1,
          1,
          1,
          1,
          1,
          1,
          1,
          1,
          1,
          1,
          1,
          1,
          1,
          1,
          1,
          1,
          1,
          1,
          1,
          1,
          1,
          1,
          1,
          1,
          1,
          1,
          1,
          1,
          1,
          1,
          1,
          1,
          1,
          1,
          1,
          1,
          1,
          1,
          1,
          1,
          1,
          1,
          1,
          1,
          1,
          1,
          1,
          1,
          1,
          1,
          1,
          1,
          1,
          1,
          1,
          1,
          1,
          1,
          1,
          1,
          1,
          1,
          1,
          1,
          1,
          1,
          1,
          1,
          1,
          1,
          1,
          1,
          1,
          1,
          1,
          1,
          1,
          1,
          1,
          1,
          1,
          1,
          1,
          1,
          1,
          1,
          1,
          1,
          1,
          1,
          1,
          1,
          1,
          1,
          1,
          1,
          1,
          1,
          1,
          1,
          1,
          1,
          1,
          1,
          1,
          1,
          1,
          1,
          1
         ],
         "yaxis": "y"
        }
       ],
       "layout": {
        "barmode": "stack",
        "coloraxis": {
         "colorbar": {
          "title": {
           "text": "Months Ago"
          }
         },
         "colorscale": [
          [
           0,
           "#0d0887"
          ],
          [
           0.1111111111111111,
           "#46039f"
          ],
          [
           0.2222222222222222,
           "#7201a8"
          ],
          [
           0.3333333333333333,
           "#9c179e"
          ],
          [
           0.4444444444444444,
           "#bd3786"
          ],
          [
           0.5555555555555556,
           "#d8576b"
          ],
          [
           0.6666666666666666,
           "#ed7953"
          ],
          [
           0.7777777777777778,
           "#fb9f3a"
          ],
          [
           0.8888888888888888,
           "#fdca26"
          ],
          [
           1,
           "#f0f921"
          ]
         ]
        },
        "legend": {
         "tracegroupgap": 0
        },
        "template": {
         "data": {
          "bar": [
           {
            "error_x": {
             "color": "#2a3f5f"
            },
            "error_y": {
             "color": "#2a3f5f"
            },
            "marker": {
             "line": {
              "color": "#E5ECF6",
              "width": 0.5
             },
             "pattern": {
              "fillmode": "overlay",
              "size": 10,
              "solidity": 0.2
             }
            },
            "type": "bar"
           }
          ],
          "barpolar": [
           {
            "marker": {
             "line": {
              "color": "#E5ECF6",
              "width": 0.5
             },
             "pattern": {
              "fillmode": "overlay",
              "size": 10,
              "solidity": 0.2
             }
            },
            "type": "barpolar"
           }
          ],
          "carpet": [
           {
            "aaxis": {
             "endlinecolor": "#2a3f5f",
             "gridcolor": "white",
             "linecolor": "white",
             "minorgridcolor": "white",
             "startlinecolor": "#2a3f5f"
            },
            "baxis": {
             "endlinecolor": "#2a3f5f",
             "gridcolor": "white",
             "linecolor": "white",
             "minorgridcolor": "white",
             "startlinecolor": "#2a3f5f"
            },
            "type": "carpet"
           }
          ],
          "choropleth": [
           {
            "colorbar": {
             "outlinewidth": 0,
             "ticks": ""
            },
            "type": "choropleth"
           }
          ],
          "contour": [
           {
            "colorbar": {
             "outlinewidth": 0,
             "ticks": ""
            },
            "colorscale": [
             [
              0,
              "#0d0887"
             ],
             [
              0.1111111111111111,
              "#46039f"
             ],
             [
              0.2222222222222222,
              "#7201a8"
             ],
             [
              0.3333333333333333,
              "#9c179e"
             ],
             [
              0.4444444444444444,
              "#bd3786"
             ],
             [
              0.5555555555555556,
              "#d8576b"
             ],
             [
              0.6666666666666666,
              "#ed7953"
             ],
             [
              0.7777777777777778,
              "#fb9f3a"
             ],
             [
              0.8888888888888888,
              "#fdca26"
             ],
             [
              1,
              "#f0f921"
             ]
            ],
            "type": "contour"
           }
          ],
          "contourcarpet": [
           {
            "colorbar": {
             "outlinewidth": 0,
             "ticks": ""
            },
            "type": "contourcarpet"
           }
          ],
          "heatmap": [
           {
            "colorbar": {
             "outlinewidth": 0,
             "ticks": ""
            },
            "colorscale": [
             [
              0,
              "#0d0887"
             ],
             [
              0.1111111111111111,
              "#46039f"
             ],
             [
              0.2222222222222222,
              "#7201a8"
             ],
             [
              0.3333333333333333,
              "#9c179e"
             ],
             [
              0.4444444444444444,
              "#bd3786"
             ],
             [
              0.5555555555555556,
              "#d8576b"
             ],
             [
              0.6666666666666666,
              "#ed7953"
             ],
             [
              0.7777777777777778,
              "#fb9f3a"
             ],
             [
              0.8888888888888888,
              "#fdca26"
             ],
             [
              1,
              "#f0f921"
             ]
            ],
            "type": "heatmap"
           }
          ],
          "heatmapgl": [
           {
            "colorbar": {
             "outlinewidth": 0,
             "ticks": ""
            },
            "colorscale": [
             [
              0,
              "#0d0887"
             ],
             [
              0.1111111111111111,
              "#46039f"
             ],
             [
              0.2222222222222222,
              "#7201a8"
             ],
             [
              0.3333333333333333,
              "#9c179e"
             ],
             [
              0.4444444444444444,
              "#bd3786"
             ],
             [
              0.5555555555555556,
              "#d8576b"
             ],
             [
              0.6666666666666666,
              "#ed7953"
             ],
             [
              0.7777777777777778,
              "#fb9f3a"
             ],
             [
              0.8888888888888888,
              "#fdca26"
             ],
             [
              1,
              "#f0f921"
             ]
            ],
            "type": "heatmapgl"
           }
          ],
          "histogram": [
           {
            "marker": {
             "pattern": {
              "fillmode": "overlay",
              "size": 10,
              "solidity": 0.2
             }
            },
            "type": "histogram"
           }
          ],
          "histogram2d": [
           {
            "colorbar": {
             "outlinewidth": 0,
             "ticks": ""
            },
            "colorscale": [
             [
              0,
              "#0d0887"
             ],
             [
              0.1111111111111111,
              "#46039f"
             ],
             [
              0.2222222222222222,
              "#7201a8"
             ],
             [
              0.3333333333333333,
              "#9c179e"
             ],
             [
              0.4444444444444444,
              "#bd3786"
             ],
             [
              0.5555555555555556,
              "#d8576b"
             ],
             [
              0.6666666666666666,
              "#ed7953"
             ],
             [
              0.7777777777777778,
              "#fb9f3a"
             ],
             [
              0.8888888888888888,
              "#fdca26"
             ],
             [
              1,
              "#f0f921"
             ]
            ],
            "type": "histogram2d"
           }
          ],
          "histogram2dcontour": [
           {
            "colorbar": {
             "outlinewidth": 0,
             "ticks": ""
            },
            "colorscale": [
             [
              0,
              "#0d0887"
             ],
             [
              0.1111111111111111,
              "#46039f"
             ],
             [
              0.2222222222222222,
              "#7201a8"
             ],
             [
              0.3333333333333333,
              "#9c179e"
             ],
             [
              0.4444444444444444,
              "#bd3786"
             ],
             [
              0.5555555555555556,
              "#d8576b"
             ],
             [
              0.6666666666666666,
              "#ed7953"
             ],
             [
              0.7777777777777778,
              "#fb9f3a"
             ],
             [
              0.8888888888888888,
              "#fdca26"
             ],
             [
              1,
              "#f0f921"
             ]
            ],
            "type": "histogram2dcontour"
           }
          ],
          "mesh3d": [
           {
            "colorbar": {
             "outlinewidth": 0,
             "ticks": ""
            },
            "type": "mesh3d"
           }
          ],
          "parcoords": [
           {
            "line": {
             "colorbar": {
              "outlinewidth": 0,
              "ticks": ""
             }
            },
            "type": "parcoords"
           }
          ],
          "pie": [
           {
            "automargin": true,
            "type": "pie"
           }
          ],
          "scatter": [
           {
            "fillpattern": {
             "fillmode": "overlay",
             "size": 10,
             "solidity": 0.2
            },
            "type": "scatter"
           }
          ],
          "scatter3d": [
           {
            "line": {
             "colorbar": {
              "outlinewidth": 0,
              "ticks": ""
             }
            },
            "marker": {
             "colorbar": {
              "outlinewidth": 0,
              "ticks": ""
             }
            },
            "type": "scatter3d"
           }
          ],
          "scattercarpet": [
           {
            "marker": {
             "colorbar": {
              "outlinewidth": 0,
              "ticks": ""
             }
            },
            "type": "scattercarpet"
           }
          ],
          "scattergeo": [
           {
            "marker": {
             "colorbar": {
              "outlinewidth": 0,
              "ticks": ""
             }
            },
            "type": "scattergeo"
           }
          ],
          "scattergl": [
           {
            "marker": {
             "colorbar": {
              "outlinewidth": 0,
              "ticks": ""
             }
            },
            "type": "scattergl"
           }
          ],
          "scattermapbox": [
           {
            "marker": {
             "colorbar": {
              "outlinewidth": 0,
              "ticks": ""
             }
            },
            "type": "scattermapbox"
           }
          ],
          "scatterpolar": [
           {
            "marker": {
             "colorbar": {
              "outlinewidth": 0,
              "ticks": ""
             }
            },
            "type": "scatterpolar"
           }
          ],
          "scatterpolargl": [
           {
            "marker": {
             "colorbar": {
              "outlinewidth": 0,
              "ticks": ""
             }
            },
            "type": "scatterpolargl"
           }
          ],
          "scatterternary": [
           {
            "marker": {
             "colorbar": {
              "outlinewidth": 0,
              "ticks": ""
             }
            },
            "type": "scatterternary"
           }
          ],
          "surface": [
           {
            "colorbar": {
             "outlinewidth": 0,
             "ticks": ""
            },
            "colorscale": [
             [
              0,
              "#0d0887"
             ],
             [
              0.1111111111111111,
              "#46039f"
             ],
             [
              0.2222222222222222,
              "#7201a8"
             ],
             [
              0.3333333333333333,
              "#9c179e"
             ],
             [
              0.4444444444444444,
              "#bd3786"
             ],
             [
              0.5555555555555556,
              "#d8576b"
             ],
             [
              0.6666666666666666,
              "#ed7953"
             ],
             [
              0.7777777777777778,
              "#fb9f3a"
             ],
             [
              0.8888888888888888,
              "#fdca26"
             ],
             [
              1,
              "#f0f921"
             ]
            ],
            "type": "surface"
           }
          ],
          "table": [
           {
            "cells": {
             "fill": {
              "color": "#EBF0F8"
             },
             "line": {
              "color": "white"
             }
            },
            "header": {
             "fill": {
              "color": "#C8D4E3"
             },
             "line": {
              "color": "white"
             }
            },
            "type": "table"
           }
          ]
         },
         "layout": {
          "annotationdefaults": {
           "arrowcolor": "#2a3f5f",
           "arrowhead": 0,
           "arrowwidth": 1
          },
          "autotypenumbers": "strict",
          "coloraxis": {
           "colorbar": {
            "outlinewidth": 0,
            "ticks": ""
           }
          },
          "colorscale": {
           "diverging": [
            [
             0,
             "#8e0152"
            ],
            [
             0.1,
             "#c51b7d"
            ],
            [
             0.2,
             "#de77ae"
            ],
            [
             0.3,
             "#f1b6da"
            ],
            [
             0.4,
             "#fde0ef"
            ],
            [
             0.5,
             "#f7f7f7"
            ],
            [
             0.6,
             "#e6f5d0"
            ],
            [
             0.7,
             "#b8e186"
            ],
            [
             0.8,
             "#7fbc41"
            ],
            [
             0.9,
             "#4d9221"
            ],
            [
             1,
             "#276419"
            ]
           ],
           "sequential": [
            [
             0,
             "#0d0887"
            ],
            [
             0.1111111111111111,
             "#46039f"
            ],
            [
             0.2222222222222222,
             "#7201a8"
            ],
            [
             0.3333333333333333,
             "#9c179e"
            ],
            [
             0.4444444444444444,
             "#bd3786"
            ],
            [
             0.5555555555555556,
             "#d8576b"
            ],
            [
             0.6666666666666666,
             "#ed7953"
            ],
            [
             0.7777777777777778,
             "#fb9f3a"
            ],
            [
             0.8888888888888888,
             "#fdca26"
            ],
            [
             1,
             "#f0f921"
            ]
           ],
           "sequentialminus": [
            [
             0,
             "#0d0887"
            ],
            [
             0.1111111111111111,
             "#46039f"
            ],
            [
             0.2222222222222222,
             "#7201a8"
            ],
            [
             0.3333333333333333,
             "#9c179e"
            ],
            [
             0.4444444444444444,
             "#bd3786"
            ],
            [
             0.5555555555555556,
             "#d8576b"
            ],
            [
             0.6666666666666666,
             "#ed7953"
            ],
            [
             0.7777777777777778,
             "#fb9f3a"
            ],
            [
             0.8888888888888888,
             "#fdca26"
            ],
            [
             1,
             "#f0f921"
            ]
           ]
          },
          "colorway": [
           "#636efa",
           "#EF553B",
           "#00cc96",
           "#ab63fa",
           "#FFA15A",
           "#19d3f3",
           "#FF6692",
           "#B6E880",
           "#FF97FF",
           "#FECB52"
          ],
          "font": {
           "color": "#2a3f5f"
          },
          "geo": {
           "bgcolor": "white",
           "lakecolor": "white",
           "landcolor": "#E5ECF6",
           "showlakes": true,
           "showland": true,
           "subunitcolor": "white"
          },
          "hoverlabel": {
           "align": "left"
          },
          "hovermode": "closest",
          "mapbox": {
           "style": "light"
          },
          "paper_bgcolor": "white",
          "plot_bgcolor": "#E5ECF6",
          "polar": {
           "angularaxis": {
            "gridcolor": "white",
            "linecolor": "white",
            "ticks": ""
           },
           "bgcolor": "#E5ECF6",
           "radialaxis": {
            "gridcolor": "white",
            "linecolor": "white",
            "ticks": ""
           }
          },
          "scene": {
           "xaxis": {
            "backgroundcolor": "#E5ECF6",
            "gridcolor": "white",
            "gridwidth": 2,
            "linecolor": "white",
            "showbackground": true,
            "ticks": "",
            "zerolinecolor": "white"
           },
           "yaxis": {
            "backgroundcolor": "#E5ECF6",
            "gridcolor": "white",
            "gridwidth": 2,
            "linecolor": "white",
            "showbackground": true,
            "ticks": "",
            "zerolinecolor": "white"
           },
           "zaxis": {
            "backgroundcolor": "#E5ECF6",
            "gridcolor": "white",
            "gridwidth": 2,
            "linecolor": "white",
            "showbackground": true,
            "ticks": "",
            "zerolinecolor": "white"
           }
          },
          "shapedefaults": {
           "line": {
            "color": "#2a3f5f"
           }
          },
          "ternary": {
           "aaxis": {
            "gridcolor": "white",
            "linecolor": "white",
            "ticks": ""
           },
           "baxis": {
            "gridcolor": "white",
            "linecolor": "white",
            "ticks": ""
           },
           "bgcolor": "#E5ECF6",
           "caxis": {
            "gridcolor": "white",
            "linecolor": "white",
            "ticks": ""
           }
          },
          "title": {
           "x": 0.05
          },
          "xaxis": {
           "automargin": true,
           "gridcolor": "white",
           "linecolor": "white",
           "ticks": "",
           "title": {
            "standoff": 15
           },
           "zerolinecolor": "white",
           "zerolinewidth": 2
          },
          "yaxis": {
           "automargin": true,
           "gridcolor": "white",
           "linecolor": "white",
           "ticks": "",
           "title": {
            "standoff": 15
           },
           "zerolinecolor": "white",
           "zerolinewidth": 2
          }
         }
        },
        "title": {
         "text": "Route by Rating, Stacked by Age"
        },
        "xaxis": {
         "anchor": "y",
         "categoryarray": [
          "5.4",
          "5.5",
          "5.5",
          "5.5",
          "5.6",
          "5.6",
          "5.6",
          "5.6",
          "5.7",
          "5.7",
          "5.7",
          "5.7",
          "5.7",
          "5.7",
          "5.7",
          "5.7",
          "5.7",
          "5.7",
          "5.7",
          "5.7",
          "5.7+",
          "5.7+",
          "5.7+",
          "5.8-",
          "5.8-",
          "5.8",
          "5.8",
          "5.8",
          "5.8",
          "5.8",
          "5.8",
          "5.8",
          "5.8",
          "5.8",
          "5.8+",
          "5.8+",
          "5.8+",
          "5.8+",
          "5.9-",
          "5.9-",
          "5.9",
          "5.9",
          "5.9",
          "5.9",
          "5.9",
          "5.9",
          "5.9",
          "5.9",
          "5.9",
          "5.9",
          "5.9",
          "5.9",
          "5.9",
          "5.9",
          "5.9",
          "5.9+",
          "5.9+",
          "5.9+",
          "5.9+",
          "5.9+",
          "5.9+",
          "5.9+",
          "5.9+",
          "5.9+",
          "5.9+",
          "5.10a",
          "5.10a",
          "5.10a",
          "5.10a",
          "5.10a",
          "5.10a",
          "5.10a",
          "5.10a",
          "5.10a",
          "5.10a",
          "5.10a",
          "5.10a",
          "5.10a",
          "5.10a",
          "5.10a",
          "5.10a",
          "5.10a",
          "5.10a/b",
          "5.10a/b",
          "5.10b",
          "5.10b",
          "5.10b",
          "5.10b",
          "5.10b",
          "5.10b",
          "5.10b",
          "5.10b",
          "5.10b",
          "5.10b",
          "5.10b",
          "5.10b",
          "5.10b",
          "5.10b",
          "5.10b",
          "5.10b",
          "5.10b",
          "5.10b",
          "5.10b",
          "5.10b",
          "5.10",
          "5.10",
          "5.10",
          "5.10",
          "5.10b/c",
          "5.10c",
          "5.10c",
          "5.10c",
          "5.10c",
          "5.10c",
          "5.10c",
          "5.10c",
          "5.10c",
          "5.10c",
          "5.10c",
          "5.10c",
          "5.10c",
          "5.10c",
          "5.10c",
          "5.10c",
          "5.10+",
          "5.10c/d",
          "5.10d",
          "5.10d",
          "5.10d",
          "5.10d",
          "5.10d",
          "5.10d",
          "5.10d",
          "5.10d",
          "5.11a",
          "5.11a",
          "5.11a",
          "5.11a",
          "5.11a",
          "5.11a",
          "5.11a",
          "5.11a",
          "5.11a",
          "5.11a",
          "5.11-",
          "5.11a/b",
          "5.11a/b",
          "5.11b",
          "5.11b",
          "5.11b",
          "5.11b",
          "5.11b",
          "5.11b",
          "5.11b",
          "5.11b",
          "5.11b",
          "5.11b",
          "5.11b/c",
          "5.11c",
          "5.11c",
          "5.11c",
          "5.11c",
          "5.11c",
          "5.11c",
          "5.11c",
          "5.11c",
          "5.11c",
          "5.11c",
          "5.11c/d",
          "5.11d",
          "5.11d",
          "5.11d",
          "5.11d",
          "5.11d",
          "5.11d",
          "5.11d",
          "5.11d",
          "5.11d",
          "5.11d",
          "5.12a",
          "5.12a",
          "5.12a",
          "5.12a",
          "5.12a",
          "5.12a",
          "5.12a",
          "5.12a",
          "5.12a",
          "5.12a",
          "5.12a",
          "5.12a",
          "5.12a",
          "5.12a",
          "5.12-",
          "5.12-",
          "5.12a/b",
          "5.12a/b",
          "5.12a/b",
          "5.12b",
          "5.12b",
          "5.12b",
          "5.12b",
          "5.12b/c",
          "5.12c",
          "5.12c",
          "5.12c",
          "5.12c",
          "5.12c",
          "5.12c",
          "5.12c",
          "5.12c",
          "5.12d",
          "5.12d",
          "5.13a",
          "5.13a",
          "5.13b"
         ],
         "categoryorder": "array",
         "domain": [
          0,
          1
         ],
         "title": {
          "text": "Rating"
         }
        },
        "yaxis": {
         "anchor": "x",
         "domain": [
          0,
          1
         ],
         "title": {
          "text": "count"
         }
        }
       }
      },
      "text/html": [
       "<div>                            <div id=\"c56cb144-25b0-4b12-ba07-8d129a9faf31\" class=\"plotly-graph-div\" style=\"height:525px; width:100%;\"></div>            <script type=\"text/javascript\">                require([\"plotly\"], function(Plotly) {                    window.PLOTLYENV=window.PLOTLYENV || {};                                    if (document.getElementById(\"c56cb144-25b0-4b12-ba07-8d129a9faf31\")) {                    Plotly.newPlot(                        \"c56cb144-25b0-4b12-ba07-8d129a9faf31\",                        [{\"alignmentgroup\":\"True\",\"customdata\":[[\"Rock Garden\",1079,\"placement practice w/blox & isaac. first time w tricams and horizonal nut\"],[\"Boardwalk\",31,\"wet! but still fun. great views at the top. with the lab\"],[\"Bloomenm\\u00e4dchen\",408,\"tried to do no hands but gave up lol\"],[\"Jackie\",808,\"first climb in the gunks :) led on Asha's pre placed gear and practiced my own placements between hers \"],[\"Madame Grunnebaum's Wulst\",736,\"w Marian \\u2764\\ufe0f she led p1 then I linked p2-3. so sweet!!\"],[\"High Exposure\",807,\"just incredible!!!!\"],[\"Thin Air\",1080,\"w/isaac. super fun! got 3 pieces in on the first pitch (.4, nut, something else) & linked w/ second\"],[\"Gemini\",1813,\"second trad lead! \"],[\"Outersite\",31,\"first pitch only. delightful! \\\"like candy\\\". with the lab\"],[\"Bunny Face\",123,\"pure delight \"],[\"Does Your Boyfriend Drive Too\",366,\"fun, harder than expected, did low start\"],[\"Lavender Dreams\",408,null],[\"Easily Amused\",777,\"barefoot\"],[\"Classic\",808,\"got flustered placing gear before the roof but actual climbing was all super chill\"],[\"Twin Power\",877,\"taught scout to lead!\"],[\"Stealing Candy from a Baby\",1079,\"went left at second roof. cool moves, run out if u don&#39;t save a .5\"],[\"Layback\",1177,\"tronsight. slippery down low as expected but cruiser at top.\"],[\"Sweets to the Sweet\",1364,null],[\"Triple vires\",1426,null],[\"Zig Zag Crack\",1813,\"first trad lead! \"],[\"Double Cross\",269,null],[\"Something Interesting\",808,\"linked P1&2 then belayed Asha up to GT. strenuous in the sun, hard to find the flow. amazing views though.\"],[\"Punk Rock\",1079,\"got off route to the right going over roof bulge but still fun - followed blox\"],[\"Sail Away\",267,\"delightful!!!\"],[\"Spaghetti & Chili\",269,\"flake moves off the ledge honestly kind of spicy!!\"],[\"Intertwine\",31,\"wicked fun! with the lab :)\"],[\"Gerry Gerbil\",366,\"Matthew and Kali's first lead! :)\"],[\"Birthday Girl\",667,\"I think it's this climb? lovely warm up!\"],[\"Air and Pleasant Danger\",709,null],[\"Snake Skin Slab\",758,\"fun!\"],[\"Cool Katz\",879,\"start moves are very serious for a 5.7 especially if short\"],[\"The Saigons\",1080,null],[\"Outside Corner\",1177,\"tronsight. fun! did different variations on a few laps.\"],[\"Queue de Lion\",1479,null],[\"Star Chek\",306,\"spectacular. led P1 to intermediate anchors halfway up P2, then Austin went to the big ledge, I led 10c variation to final pitch. an absolutely blissful day.\"],[\"Son of Sammy\",708,\"warm up\"],[\"Tarzan\",1143,\"fun climb, confusing topout - really great exposed juggy section right before dirty part @ top - practiced placing gear, save the #4 for high up! \"],[\"The Sand People\",1416,null],[\"Long Walk Off Of a Short Pier\",873,\"delightful\"],[\"Pinnacle Direct (Rock Climb)\",1846,null],[\"Orange Crush (retro-bolted)\",22,\"delightful actually. can't believe I've never done this before.\"],[\"Rat-A-Puss\",52,\"w Matthew \"],[\"Western Saga\",267,\"loved this climb!! beautiful and exciting. belayed Austin up to ledge after roof crux to avoid drag (gear anchor: bomber #3,2,1 in pods) and then he led fote hog top out as a short 2nd pitch. walked off south side. got a red tricam stuck on P1 at the cruxy bit before the dihedral ledge... oops. did not take #4 and did not feel that i needed it. crux for me was starting up the dihedral, good jams but smeary feet and heady bc of potential ledge fall.\"],[\"Hammy Hamster\",366,null],[\"Ants' Line\",808,\"hell yeah :) got gear beta from the dudes in front of us then crushed it. sweaty but shady. still felt stiff compared to sport grades but with placements planned out ahead of time much better flow.\"],[\"Rochambeau\",870,\"first creek lead yay!\"],[\"Tomahawk\",876,\"in blazing sun. yeehaw\"],[\"Perky's Playground\",877,\"short but lovely\"],[\"Lamenites\",879,\"was expecting a 12a from the guidebook but didn't know to avoid the arete lol... would be pretty contrived. fun and easy with arete.\"],[\"Dead Man Walking\",1306,\"so fun!!! was super nervous about this one as a non crack climber but fought my way to the chains!\"],[\"31-foot smurf\",1311,null],[\"Couch Potato\",1402,\"super fun also!\"],[\"La Grande Travers\\u00e9e\",1426,\"beautiful climb!\"],[\"Tall Cool One\",1554,\"spicy!!\"],[\"Creature Feature\",1555,null],[\"Space Donkey\",408,\"wicked fun\"],[\"Lazy Day\",445,null],[\"Mr. Fluffer's Wild Ride\",600,null],[\"Flight of the Gumby\",672,null],[\"Smokestack\",709,\"in approach shoes. honestly a trip lmao\"],[\"Rock Du Jours Direct\",759,\"wicked fun except for hornets in flake by last bolt on p2\"],[\"B-B-Buttress\",855,\"more fun than I recalled\"],[\"Tensile Strength\",1177,\"tronsight. also fun! curious to try original line since bolts traverse across pins & needles\"],[\"Oby-won Ryobi\",1416,\"great warm up\"],[\"Netizen Hacktivist\",1554,\"spicy start\"],[\"Mullah\",52,\"gorgeous climb, awesome exposure and views, very hot in the sun\"],[\"Aguja Celo Rey\",226,\"led P2 from the notch, sooooooooooo good\"],[\"Sin Soul\",230,\"delightful cool down at the end of the day\"],[\"Venus Envy\",330,null],[\"What's Eating You\",522,null],[\"Lonesome Dove\",841,\"a dream! & so different from any other rumney 10 I've done!\"],[\"Jolt\",855,\"fun climbing but holy crap that was sketchy. would not do again.\"],[\"Raindance\",876,\"2 laps, wicked fun\"],[\"Puppet Strings\",877,\"so much fun!!! big juicy jugs with heady bulge start and finish! 2 laps, w/ scout and jose\"],[\"Masterpiece\",1107,\"lovely\"],[\"Underdog\",1108,\"so much chalk\"],[\"Earth, Moon, and Planets\",1304,\"yikes!!!!!\"],[\"Will the Wolf Survive?\",1310,\"great fun! pitch 1 was spicier than expected, pitches 2 and 3 were dope, pitch 4 was wild!\"],[\"DNA\",1311,null],[\"Edward Silverhands\",1360,null],[\"Oh Yeah\",1363,null],[\"Old Pine\",1363,\"super cool but SOOO COLD\"],[\"Plat-A-Pussy\",52,\"w Matthew\"],[\"Zion\",118,\"with Alana - amazing!! i led zebra seam as P1 (hung all over it, bad warm up in the sun turns out) she led P2 i led 3+4 (clean). P3 traverse def heady. P4 was fucking spectacular. def the steepest thing I've led on gear, incredible position incredible jugs, lived up to the hype. so awesome.\"],[\"Illusion Dweller\",267,\"fucking outstanding rock climb. oh and fwiw cleaned on lower with a chopped 60m (not sure but maybe 56m) and reached ground with no shenanigans.\"],[\"Mic's Master\",518,null],[\"The Last In Line\",526,null],[\"Pump First, Pay Later\",527,null],[\"Black Dog Crack\",661,null],[\"Flight Path\",669,null],[\"Springer\",671,\"fun heady warm up!\"],[\"Glass Onion\",673,\"first route of trip with Claire! lovely!\"],[\"Misdemeanor\",777,\"fun!!! chossy at top. big rock came down after Marian lowered. yikes.\"],[\"Holderness Arete\",777,\"warm up\"],[\"Armed and Dangerous, and Off My Medication\",854,null],[\"Crescent Crack\",869,\"day 2 in the creek. cried because my hands hurt again. still got to the top tho.\"],[\"Nice Land\",1045,\"warm up\"],[\"El Funko\",1121,null],[\"Path of the Righteous\",1122,\"SICK views, exposed easy climbing w a few cruxy points, def height dependent\"],[\"Flying Scorpion\",1311,null],[\"Mind if I do a J?\",1364,null],[\"Purple Microdot\",1395,null],[\"FIGJAM\",1477,\"this is where we came after lions head\"],[\"Bad Company\",1554,null],[\"Spanky Spangler\",526,null],[\"The Popsicle Kings\",597,\"hauling practice w Alana \"],[\"Incredible Hand Crack\",868,\"at night. fell a few times at roof (gotta get hands very deep) otherwise cruised and felt awesome! would lead next time!\"],[\"Cro-Magnon\",1143,\"pumpy af but really fun. started after dark and didn't make it to top. gotta work on tr and then lead one day!!! \"],[\"Rubicon\",776,\"barefoot\"],[\"Tall Man Simplex\",52,\"wicked fun first move, bolts a little confusing after that but it's basically over. probably makes more sense as a boulder \"],[\"Nine Gallon Buckets\",127,\"so delightful!! a little tricky and heady just after the first set of anchors, enough to keep it interesting. awesome awesome climb.\"],[\"Baked Fresh Daily\",230,\"w serena on a very windy day. lovely!\"],[\"Indus\",231,\"delightful! first lead on shrooms :)\"],[\"Running Amuck\",527,null],[\"Millenium Falcon\",546,\"yum\"],[\"Almost Heaven\",671,null],[\"Romancing the Stone\",758,null],[\"Citrasolve\",776,\"warm up. stayed dry in rain!\"],[\"Hell Yeah\",1363,null],[\"Roto Hammer\",1364,null],[\"Making Waves\",1479,null],[\"Crazy Fingers\",1553,\"i think i did this one, maybe one of the adjacent ones\"],[\"Don't Take Yer Guns to Town\",1556,null],[\"Cardiac Arete (aka route  8)\",1597,null],[\"Morning Sky\",125,\"warm up w c&g. still spicy! also just realized today that this is not the official finish of Gumby \"],[\"Pain in the Cass!\",879,\"2 laps big fun. w/scout, becca, pallav \"],[\"Pitch Black\",234,\"with austib :) an absolute delight!!! i led P1 and P3+4 link. heinous drag even with skipping bolts lol phew. otherwise just sublimely joyful. every pitch is great.\"],[\"Mugre Mugre\",235,\"straight from the airport\"],[\"Gray Cell Green\",269,null],[\"Peer Pressure\",468,\"always great\"],[\"Swedish Girls\",842,\"nice warm up\"],[\"Ladder Line\",1177,\"slipped once low otherwise could have sent. great movement!!! started left to avoid graffiti. \"],[\"Purple Haze I\",1364,null],[\"Centerpiece\",1416,\"dope climb!!\"],[\"F* *king the Dog\",21,\"w Serena, great climb!\"],[\"Uber Machismo\",226,\"very proud to have followed clean w a big ass backpack\"],[\"Tropicana\",394,\"very hard with a gallon jug of water in a backpack lol\"],[\"Half Shell Heros\",408,null],[\"Free Willie\",445,\"lovely!!\"],[\"Know Ethics\",638,\"yay\"],[\"Under the Boardwalk\",873,null],[\"Two Pumped Chump\",1303,\"just did first pitch so we wouldn&#39;t miss our flight. loved the thoughtful first pitch!\"],[\"Leap of Faith\",1307,\"lead pitches 1 and 3. cracky!!\"],[\"Super Nova\",1309,\"super fun multipitch!! took twice on the spicy first pitch but sent the rest clean. linked pitches with Claire and simulrapped down in 5h total. bolt spacing was wild. view from the top was RAD!\"],[\"Ent Line\",807,\"2 goes no tredpoint. crux is tricky, high rf on chalky nub of hold under roof and bump shitty rh crimp to ledge.\"],[\"The Preacher's Daughter\",436,\"cool down after working zen\"],[\"Satisfaction Guaranteed\",1021,\"2nd go. crux is managing pump on the headwall. great route\"],[\"Vomit Launch\",115,\"delightful romp with a spicy little finish! didn't feel stiff for the grade, lots of good feet and not too steep, you can shake on almost any hold. wicked fun.\"],[\"Cool Ranch Flavor\",128,\"first route of the trip! had to crimp hard on some small stuff at the top. declined to do extension since i was feeling a little gripped.\"],[\"No Habla Espanol\",230,\"great pitch. feels easy in the first half but the pump just builds and builds and the top sequence is not obvious. super fun! w serena on a very windy day\"],[\"Flying Hawaiian\",331,\"2nd go. really cool but the top is dumb\"],[\"Buried Treasure\",428,\"followed clean even tho wet\"],[\"Believer\",435,null],[\"Paralyzed\",521,null],[\"Gringo Disco\",595,\"tr flash, long and cool but sharp\"],[\"Discombobulated\",673,\"sick!!! crux is def between bolt 1 and 2\"],[\"Lions and Tigers and Bears\",1394,\"GOT IT!! leaned out from start to clip the first perma before I started, then sent it clean! what an awesome line!\"],[\"Oh My! finish\",43,\"always a joy\"],[\"Never on Friday\",225,\"tricky! good warmup\"],[\"El Sendero Diablo (The Devil's Path)\",228,\"SOOOO GOOOOOOOOOD!!!! w Serena the love of my life and a mothafuckin baddie. i led 2&4 serenie linked 5&6. started 8ish topped 12ish down 2ish. sun blasted us from 9:30 onward but breeze kept it real. good times at P4 anchor with grace and isabella.  titties out for the rap. 5 raps total w a 70 directionals made it easy. amazing exposure especially on p5. \"],[\"Animal Magnetism\",445,\"wicked fun and beautiful! had to work for it at the last moves!\"],[\"Moondance\",514,\"flashed but at what cost???? feet were stupid pumped  from stemming lol this took absolutely everything i had\"],[\"Yaak Crack\",527,\"2nd go today after working out top sequence weeww\"],[\"Send it Pink Pocket Express\",600,null],[\"Aesthetica\",668,\"warm up OS! proud of this one. great climb and so pretty!\"],[\"Barking Spiders\",709,\"2nd go\"],[\"Basement\",873,\"2nd go\"],[\"Screaming Yellow Zonkers Crack\",1813,\"tried the moves, didn't get very far\"],[\"Native Son\",526,\"Dyno start took 6ish tries but flashed from first time sticking it :)\"],[\"Zebra Seam\",115,\"3rd go. surprised myself! felt like i was barely hanging on after each clip but somehow took it to the chains. such an excellent line, much better in the shade lol. w seth\"],[\"Mitosis\",289,\"this is honestly a great warm up for Venus \"],[\"Nicky's Crack\",323,\"2nd go, w Anthony \"],[\"Golden Stripe\",408,\"fantastic rig!!! got off route a little at the bottom going left and had to backtrack lol but kept it together! back  cleaned every slab bolt\"],[\"Machine Head\",506,\"2 hang figuring out beta, decided to use right knee bar at the top, sent 2nd go. knee bar is bomber lets u get the final rh pinch static\"],[\"Don Quixote\",598,\"booyah. burly as hell in the corner but made it happen hanging the draws\"],[\"Toxic Hueco\",667,\"so rad!!! in your face right away!! sent 2nd go w the big try hard yeeww\"],[\"The Crusher\",716,null],[\"Under the Milky Way\",1021,\"2nd go! such a striking line, great flow, wicked fun\"],[\"The Sword\",1304,null],[\"Center Route\",52,\"this is, in fact, pretty hard\"],[\"Weevil Knievil\",65,\"first go with beta from AAA (anthony adam alejandro) yewwww\"],[\"Five Easy Pieces (start)\",114,\"sieged with Alana over the course of about 16 hours (1 evening sesh + 1 sunrise sesh). really had to fight for it which made it soOOoo good. phenomenal climb! required crafty heel hooks and transference of rage. send was foretold by us catching the exact moment the giant log in the river got unstuck from the rock. truly excellent stuff.\"],[\"Dreamin'\",115,\"first go today, in the sun! at 7am with a breeze tho the crimps felt perfect. stayed calm and it flowed like a dream. absolutely gorgeous climb.\"],[\"The Golden Ratio\",408,\"stoked to get the OS of this beautiful climb :) plus a lil victory whip!!\"],[\"Stoned Temple Pilot\",485,\"warm up for premium\"],[\"Peanut Man\",546,\"finally!! with Anthony's left crimp first tall boi beta :) fuck yeah \"],[\"Fear of Flying\",600,\"yeehaw\"],[\"Lost Souls\",672,\"yeee boiiii. 3rd go today\"],[\"Vallee Daze\",709,\"2nd go :) beautiful\"],[\"Social Outcast\",830,\"oh yeah she goes :) 2nd burn today 6th overall. yay!!\"],[\"Things As They Are Now\",841,\"bouldery and fun! 3rd go if you only count the goes where I stuck the first move lol. stick clipped 2nd bolt and falls were all chill.\"],[\"Salty Dog\",1310,\"first outdoor 12! and I flashed! could have been an onsight maybe but some french dude sprayed about the crux. oh well. yay!!!\"],[\"Too Many Puppies\",1555,\"tough but super cool!\"],[\"Aspire\",594,\"by headlamp, following Seth, just to midway anchors to help clean. still sick tho. would come back for the whole thing\"],[\"Sting\",869,\"my fav route of this trip. flashed the opening boulder via my first ever ring lock! then hard laybacking then super fun top. would be a dream to lead one day.\"],[\"Reckless Abandon\",669,\"3rd go today. went slightly left at 4th bolt using RH undercling, felt great, crux was pump. yay!\"],[\"Social Distortion\",786,\"2nd go! ALMOST got the flash but slipped off the final hold before I could mantle, damn! cool crux. felt easier than outcast\"],[\"Bullet the New Sky\",1018,\"4th go! so beautiful!! needed a few tries to figure out the crux seq but then it flowed perfectly!\"],[\"Latest Rage\",125,\"2nd go today! 1st go was close, whipped when i couldn't hold the last big move, frustrating. send go was not as smooth but i kept it together. hell yeah.\"],[\"Technosurfing\",297,\"absolutely stellar\"],[\"Habanero\",595,\"free the nipple send the rig\"],[\"Thunderstruck\",672,\"moves felt much better today! linked from 3f crimp to jugs under top crux\"],[\"Fission aka Ken T'ank\",442,\"3rd go! so pretty! :)\"],[\"Karate Wall (aka Powerline)\",125,\"fell at b4 crux and again from pump at the top, just under final bolt. feeling pretty good about it...!\"],[\"Venus on a Halfshell\",289,\"ooh so good!! 2nd go today maybe 9th overall? last move still felt way hard but I bore down and got er done. fuck yes\"],[\"Flying Monkeys\",429,\"OHHH YEEEAAAAHHHHH\"],[\"The Half Premium\",485,\"sent 2nd go today 4th overall :) and then promptly unsent cleaning lol. gotta be precise!! tried the first few moves of the full but it was wet. \"],[\"Sound of Power\",518,\"5th or 6th go after blowing it once at chains, first of the grade!! :)\"],[\"New Wave Hookers\",522,\"lol this thing is fucking hard\"],[\"Mescallana\",527,\"tried moves, very cool, seems like a good proj\"],[\"Nephites\",879,\"managed to link 3 moves aka stand up into chalky crimp undercling w much thrutching after about 20 tries\"],[\"Tsunami\",289,\"let's fuckin go!!! unexpected 2nd burn send today. the first time i stuck the heel move from the ground i made it to the chains even tho i had never pulled the top crux w/o a hang there. so incredibly freakin stoked. 7th go overall. this rig is cool as hell.\"],[\"Anaconda-Da-Vida\",331,\"oh man just the perfect flow. 2nd go after one hang sussing moves. felt amazing. i love this climb!!!!\"],[\"Darkness At Noon\",122,\"worked on beta up to b4, gotta find something new for moving off b2... stuck the mail slot move first try with the far Rh side pull and high LF, hell yeah. moves past that are still nails lol\"],[\"Black Rider (aka Pocket Route)\",1018,\"fooled around on TR up to the second roof\"],[\"Predator\",20,\"put it down first go today. everything came together and it felt easy. I was so confident after getting so close last time, and feeling the cool temps, and the great vibes with Conor on belay, felt like I was floating. still can't believe it. such a wild and glorious climb. all the training and dreaming and studying every detail was worth it. really fucking proud of myself for this one.\"]],\"hovertemplate\":\"Rating=%{x}<br>count=%{y}<br>Route=%{customdata[0]}<br>Days Ago=%{customdata[1]}<br>Notes=%{customdata[2]}<br>Months Ago=%{marker.color}<extra></extra>\",\"legendgroup\":\"\",\"marker\":{\"color\":[35.98306119747338,1.0497278641400463,13.616394530806714,26.949727864140048,24.549727864140046,26.916394530806713,36.016394530806714,60.44972786414005,1.0497278641400463,4.116394530806713,12.216394530806713,13.616394530806714,25.916394530806713,26.949727864140048,29.24972786414005,35.98306119747338,39.24972786414005,45.48306119747338,47.54972786414005,60.44972786414005,8.98306119747338,26.949727864140048,35.98306119747338,8.916394530806713,8.98306119747338,1.0497278641400463,12.216394530806713,22.249727864140045,23.649727864140047,25.28306119747338,29.316394530806715,36.016394530806714,39.24972786414005,49.31639453080672,10.216394530806713,23.616394530806712,38.116394530806716,47.21639453080672,29.116394530806716,61.54972786414005,0.7497278641400463,1.7497278641400462,8.916394530806713,12.216394530806713,26.949727864140048,29.016394530806718,29.216394530806717,29.24972786414005,29.316394530806715,43.54972786414005,43.71639453080672,46.74972786414005,47.54972786414005,51.81639453080672,51.84972786414005,13.616394530806714,14.849727864140046,20.016394530806714,22.416394530806713,23.649727864140047,25.31639453080671,28.516394530806718,39.24972786414005,47.21639453080672,51.81639453080672,1.7497278641400462,7.5497278641400465,7.683061197473379,11.016394530806712,17.416394530806713,28.04972786414005,28.516394530806718,29.216394530806717,29.24972786414005,36.91639453080671,36.94972786414005,43.48306119747338,43.683061197473386,43.71639453080672,45.34972786414005,45.44972786414005,45.44972786414005,1.7497278641400462,3.9497278641400464,8.916394530806713,17.28306119747338,17.549727864140046,17.58306119747338,22.049727864140046,22.31639453080671,22.38306119747338,22.449727864140048,25.916394530806713,25.916394530806713,28.483061197473383,28.983061197473383,34.84972786414005,37.38306119747338,37.41639453080671,43.71639453080672,45.48306119747338,46.516394530806714,49.24972786414005,51.81639453080672,17.549727864140046,19.916394530806713,28.949727864140048,38.116394530806716,25.88306119747338,1.7497278641400462,4.249727864140047,7.683061197473379,7.716394530806713,17.58306119747338,18.216394530806713,22.38306119747338,25.28306119747338,25.88306119747338,45.44972786414005,45.48306119747338,49.31639453080672,51.78306119747338,51.88306119747338,53.24972786414005,4.183061197473379,29.316394530806715,7.816394530806713,7.849727864140046,8.98306119747338,15.616394530806714,28.083061197473384,39.24972786414005,45.48306119747338,47.21639453080672,0.716394530806713,7.5497278641400465,13.149727864140047,13.616394530806714,14.849727864140046,21.28306119747338,29.116394530806716,43.44972786414005,43.583061197473384,43.64972786414005,26.916394530806713,14.549727864140046,34.04972786414005,3.8497278641400463,4.28306119747338,7.683061197473379,11.049727864140046,14.28306119747338,14.516394530806712,17.38306119747338,19.849727864140046,22.449727864140048,46.48306119747338,1.4497278641400464,7.516394530806713,7.616394530806713,14.849727864140046,17.149727864140047,17.58306119747338,20.016394530806714,22.28306119747338,23.649727864140047,29.116394530806716,60.44972786414005,17.549727864140046,3.8497278641400463,9.649727864140047,10.78306119747338,13.616394530806714,16.88306119747338,19.949727864140048,22.249727864140045,23.88306119747338,34.04972786414005,43.48306119747338,1.7497278641400462,2.18306119747338,3.816394530806713,3.8497278641400463,13.616394530806714,16.18306119747338,18.216394530806713,20.016394530806714,22.416394530806713,23.649727864140047,27.68306119747338,28.04972786414005,43.683061197473386,51.84972786414005,19.81639453080671,28.983061197473383,22.31639453080671,26.216394530806713,33.94972786414005,4.183061197473379,9.916394530806713,19.849727864140046,22.416394530806713,14.749727864140047,4.183061197473379,9.649727864140047,14.316394530806713,16.18306119747338,17.28306119747338,17.416394530806713,17.58306119747338,29.316394530806715,9.649727864140047,11.049727864140046,4.08306119747338,33.94972786414005,0.6830611974733797],\"coloraxis\":\"coloraxis\",\"pattern\":{\"shape\":\"\"}},\"name\":\"\",\"offsetgroup\":\"\",\"orientation\":\"v\",\"showlegend\":false,\"textposition\":\"auto\",\"x\":[\"5.4\",\"5.5\",\"5.5\",\"5.5\",\"5.6\",\"5.6\",\"5.6\",\"5.6\",\"5.7\",\"5.7\",\"5.7\",\"5.7\",\"5.7\",\"5.7\",\"5.7\",\"5.7\",\"5.7\",\"5.7\",\"5.7\",\"5.7\",\"5.7+\",\"5.7+\",\"5.7+\",\"5.8-\",\"5.8-\",\"5.8\",\"5.8\",\"5.8\",\"5.8\",\"5.8\",\"5.8\",\"5.8\",\"5.8\",\"5.8\",\"5.8+\",\"5.8+\",\"5.8+\",\"5.8+\",\"5.9-\",\"5.9-\",\"5.9\",\"5.9\",\"5.9\",\"5.9\",\"5.9\",\"5.9\",\"5.9\",\"5.9\",\"5.9\",\"5.9\",\"5.9\",\"5.9\",\"5.9\",\"5.9\",\"5.9\",\"5.9+\",\"5.9+\",\"5.9+\",\"5.9+\",\"5.9+\",\"5.9+\",\"5.9+\",\"5.9+\",\"5.9+\",\"5.9+\",\"5.10a\",\"5.10a\",\"5.10a\",\"5.10a\",\"5.10a\",\"5.10a\",\"5.10a\",\"5.10a\",\"5.10a\",\"5.10a\",\"5.10a\",\"5.10a\",\"5.10a\",\"5.10a\",\"5.10a\",\"5.10a\",\"5.10a\",\"5.10a/b\",\"5.10a/b\",\"5.10b\",\"5.10b\",\"5.10b\",\"5.10b\",\"5.10b\",\"5.10b\",\"5.10b\",\"5.10b\",\"5.10b\",\"5.10b\",\"5.10b\",\"5.10b\",\"5.10b\",\"5.10b\",\"5.10b\",\"5.10b\",\"5.10b\",\"5.10b\",\"5.10b\",\"5.10b\",\"5.10\",\"5.10\",\"5.10\",\"5.10\",\"5.10b/c\",\"5.10c\",\"5.10c\",\"5.10c\",\"5.10c\",\"5.10c\",\"5.10c\",\"5.10c\",\"5.10c\",\"5.10c\",\"5.10c\",\"5.10c\",\"5.10c\",\"5.10c\",\"5.10c\",\"5.10c\",\"5.10+\",\"5.10c/d\",\"5.10d\",\"5.10d\",\"5.10d\",\"5.10d\",\"5.10d\",\"5.10d\",\"5.10d\",\"5.10d\",\"5.11a\",\"5.11a\",\"5.11a\",\"5.11a\",\"5.11a\",\"5.11a\",\"5.11a\",\"5.11a\",\"5.11a\",\"5.11a\",\"5.11-\",\"5.11a/b\",\"5.11a/b\",\"5.11b\",\"5.11b\",\"5.11b\",\"5.11b\",\"5.11b\",\"5.11b\",\"5.11b\",\"5.11b\",\"5.11b\",\"5.11b\",\"5.11b/c\",\"5.11c\",\"5.11c\",\"5.11c\",\"5.11c\",\"5.11c\",\"5.11c\",\"5.11c\",\"5.11c\",\"5.11c\",\"5.11c\",\"5.11c/d\",\"5.11d\",\"5.11d\",\"5.11d\",\"5.11d\",\"5.11d\",\"5.11d\",\"5.11d\",\"5.11d\",\"5.11d\",\"5.11d\",\"5.12a\",\"5.12a\",\"5.12a\",\"5.12a\",\"5.12a\",\"5.12a\",\"5.12a\",\"5.12a\",\"5.12a\",\"5.12a\",\"5.12a\",\"5.12a\",\"5.12a\",\"5.12a\",\"5.12-\",\"5.12-\",\"5.12a/b\",\"5.12a/b\",\"5.12a/b\",\"5.12b\",\"5.12b\",\"5.12b\",\"5.12b\",\"5.12b/c\",\"5.12c\",\"5.12c\",\"5.12c\",\"5.12c\",\"5.12c\",\"5.12c\",\"5.12c\",\"5.12c\",\"5.12d\",\"5.12d\",\"5.13a\",\"5.13a\",\"5.13b\"],\"xaxis\":\"x\",\"y\":[1,1,1,1,1,1,1,1,1,1,1,1,1,1,1,1,1,1,1,1,1,1,1,1,1,1,1,1,1,1,1,1,1,1,1,1,1,1,1,1,1,1,1,1,1,1,1,1,1,1,1,1,1,1,1,1,1,1,1,1,1,1,1,1,1,1,1,1,1,1,1,1,1,1,1,1,1,1,1,1,1,1,1,1,1,1,1,1,1,1,1,1,1,1,1,1,1,1,1,1,1,1,1,1,1,1,1,1,1,1,1,1,1,1,1,1,1,1,1,1,1,1,1,1,1,1,1,1,1,1,1,1,1,1,1,1,1,1,1,1,1,1,1,1,1,1,1,1,1,1,1,1,1,1,1,1,1,1,1,1,1,1,1,1,1,1,1,1,1,1,1,1,1,1,1,1,1,1,1,1,1,1,1,1,1,1,1,1,1,1,1,1,1,1,1,1,1,1,1,1,1,1,1,1,1,1,1,1,1,1,1,1,1,1,1,1],\"yaxis\":\"y\",\"type\":\"bar\"}],                        {\"template\":{\"data\":{\"histogram2dcontour\":[{\"type\":\"histogram2dcontour\",\"colorbar\":{\"outlinewidth\":0,\"ticks\":\"\"},\"colorscale\":[[0.0,\"#0d0887\"],[0.1111111111111111,\"#46039f\"],[0.2222222222222222,\"#7201a8\"],[0.3333333333333333,\"#9c179e\"],[0.4444444444444444,\"#bd3786\"],[0.5555555555555556,\"#d8576b\"],[0.6666666666666666,\"#ed7953\"],[0.7777777777777778,\"#fb9f3a\"],[0.8888888888888888,\"#fdca26\"],[1.0,\"#f0f921\"]]}],\"choropleth\":[{\"type\":\"choropleth\",\"colorbar\":{\"outlinewidth\":0,\"ticks\":\"\"}}],\"histogram2d\":[{\"type\":\"histogram2d\",\"colorbar\":{\"outlinewidth\":0,\"ticks\":\"\"},\"colorscale\":[[0.0,\"#0d0887\"],[0.1111111111111111,\"#46039f\"],[0.2222222222222222,\"#7201a8\"],[0.3333333333333333,\"#9c179e\"],[0.4444444444444444,\"#bd3786\"],[0.5555555555555556,\"#d8576b\"],[0.6666666666666666,\"#ed7953\"],[0.7777777777777778,\"#fb9f3a\"],[0.8888888888888888,\"#fdca26\"],[1.0,\"#f0f921\"]]}],\"heatmap\":[{\"type\":\"heatmap\",\"colorbar\":{\"outlinewidth\":0,\"ticks\":\"\"},\"colorscale\":[[0.0,\"#0d0887\"],[0.1111111111111111,\"#46039f\"],[0.2222222222222222,\"#7201a8\"],[0.3333333333333333,\"#9c179e\"],[0.4444444444444444,\"#bd3786\"],[0.5555555555555556,\"#d8576b\"],[0.6666666666666666,\"#ed7953\"],[0.7777777777777778,\"#fb9f3a\"],[0.8888888888888888,\"#fdca26\"],[1.0,\"#f0f921\"]]}],\"heatmapgl\":[{\"type\":\"heatmapgl\",\"colorbar\":{\"outlinewidth\":0,\"ticks\":\"\"},\"colorscale\":[[0.0,\"#0d0887\"],[0.1111111111111111,\"#46039f\"],[0.2222222222222222,\"#7201a8\"],[0.3333333333333333,\"#9c179e\"],[0.4444444444444444,\"#bd3786\"],[0.5555555555555556,\"#d8576b\"],[0.6666666666666666,\"#ed7953\"],[0.7777777777777778,\"#fb9f3a\"],[0.8888888888888888,\"#fdca26\"],[1.0,\"#f0f921\"]]}],\"contourcarpet\":[{\"type\":\"contourcarpet\",\"colorbar\":{\"outlinewidth\":0,\"ticks\":\"\"}}],\"contour\":[{\"type\":\"contour\",\"colorbar\":{\"outlinewidth\":0,\"ticks\":\"\"},\"colorscale\":[[0.0,\"#0d0887\"],[0.1111111111111111,\"#46039f\"],[0.2222222222222222,\"#7201a8\"],[0.3333333333333333,\"#9c179e\"],[0.4444444444444444,\"#bd3786\"],[0.5555555555555556,\"#d8576b\"],[0.6666666666666666,\"#ed7953\"],[0.7777777777777778,\"#fb9f3a\"],[0.8888888888888888,\"#fdca26\"],[1.0,\"#f0f921\"]]}],\"surface\":[{\"type\":\"surface\",\"colorbar\":{\"outlinewidth\":0,\"ticks\":\"\"},\"colorscale\":[[0.0,\"#0d0887\"],[0.1111111111111111,\"#46039f\"],[0.2222222222222222,\"#7201a8\"],[0.3333333333333333,\"#9c179e\"],[0.4444444444444444,\"#bd3786\"],[0.5555555555555556,\"#d8576b\"],[0.6666666666666666,\"#ed7953\"],[0.7777777777777778,\"#fb9f3a\"],[0.8888888888888888,\"#fdca26\"],[1.0,\"#f0f921\"]]}],\"mesh3d\":[{\"type\":\"mesh3d\",\"colorbar\":{\"outlinewidth\":0,\"ticks\":\"\"}}],\"scatter\":[{\"fillpattern\":{\"fillmode\":\"overlay\",\"size\":10,\"solidity\":0.2},\"type\":\"scatter\"}],\"parcoords\":[{\"type\":\"parcoords\",\"line\":{\"colorbar\":{\"outlinewidth\":0,\"ticks\":\"\"}}}],\"scatterpolargl\":[{\"type\":\"scatterpolargl\",\"marker\":{\"colorbar\":{\"outlinewidth\":0,\"ticks\":\"\"}}}],\"bar\":[{\"error_x\":{\"color\":\"#2a3f5f\"},\"error_y\":{\"color\":\"#2a3f5f\"},\"marker\":{\"line\":{\"color\":\"#E5ECF6\",\"width\":0.5},\"pattern\":{\"fillmode\":\"overlay\",\"size\":10,\"solidity\":0.2}},\"type\":\"bar\"}],\"scattergeo\":[{\"type\":\"scattergeo\",\"marker\":{\"colorbar\":{\"outlinewidth\":0,\"ticks\":\"\"}}}],\"scatterpolar\":[{\"type\":\"scatterpolar\",\"marker\":{\"colorbar\":{\"outlinewidth\":0,\"ticks\":\"\"}}}],\"histogram\":[{\"marker\":{\"pattern\":{\"fillmode\":\"overlay\",\"size\":10,\"solidity\":0.2}},\"type\":\"histogram\"}],\"scattergl\":[{\"type\":\"scattergl\",\"marker\":{\"colorbar\":{\"outlinewidth\":0,\"ticks\":\"\"}}}],\"scatter3d\":[{\"type\":\"scatter3d\",\"line\":{\"colorbar\":{\"outlinewidth\":0,\"ticks\":\"\"}},\"marker\":{\"colorbar\":{\"outlinewidth\":0,\"ticks\":\"\"}}}],\"scattermapbox\":[{\"type\":\"scattermapbox\",\"marker\":{\"colorbar\":{\"outlinewidth\":0,\"ticks\":\"\"}}}],\"scatterternary\":[{\"type\":\"scatterternary\",\"marker\":{\"colorbar\":{\"outlinewidth\":0,\"ticks\":\"\"}}}],\"scattercarpet\":[{\"type\":\"scattercarpet\",\"marker\":{\"colorbar\":{\"outlinewidth\":0,\"ticks\":\"\"}}}],\"carpet\":[{\"aaxis\":{\"endlinecolor\":\"#2a3f5f\",\"gridcolor\":\"white\",\"linecolor\":\"white\",\"minorgridcolor\":\"white\",\"startlinecolor\":\"#2a3f5f\"},\"baxis\":{\"endlinecolor\":\"#2a3f5f\",\"gridcolor\":\"white\",\"linecolor\":\"white\",\"minorgridcolor\":\"white\",\"startlinecolor\":\"#2a3f5f\"},\"type\":\"carpet\"}],\"table\":[{\"cells\":{\"fill\":{\"color\":\"#EBF0F8\"},\"line\":{\"color\":\"white\"}},\"header\":{\"fill\":{\"color\":\"#C8D4E3\"},\"line\":{\"color\":\"white\"}},\"type\":\"table\"}],\"barpolar\":[{\"marker\":{\"line\":{\"color\":\"#E5ECF6\",\"width\":0.5},\"pattern\":{\"fillmode\":\"overlay\",\"size\":10,\"solidity\":0.2}},\"type\":\"barpolar\"}],\"pie\":[{\"automargin\":true,\"type\":\"pie\"}]},\"layout\":{\"autotypenumbers\":\"strict\",\"colorway\":[\"#636efa\",\"#EF553B\",\"#00cc96\",\"#ab63fa\",\"#FFA15A\",\"#19d3f3\",\"#FF6692\",\"#B6E880\",\"#FF97FF\",\"#FECB52\"],\"font\":{\"color\":\"#2a3f5f\"},\"hovermode\":\"closest\",\"hoverlabel\":{\"align\":\"left\"},\"paper_bgcolor\":\"white\",\"plot_bgcolor\":\"#E5ECF6\",\"polar\":{\"bgcolor\":\"#E5ECF6\",\"angularaxis\":{\"gridcolor\":\"white\",\"linecolor\":\"white\",\"ticks\":\"\"},\"radialaxis\":{\"gridcolor\":\"white\",\"linecolor\":\"white\",\"ticks\":\"\"}},\"ternary\":{\"bgcolor\":\"#E5ECF6\",\"aaxis\":{\"gridcolor\":\"white\",\"linecolor\":\"white\",\"ticks\":\"\"},\"baxis\":{\"gridcolor\":\"white\",\"linecolor\":\"white\",\"ticks\":\"\"},\"caxis\":{\"gridcolor\":\"white\",\"linecolor\":\"white\",\"ticks\":\"\"}},\"coloraxis\":{\"colorbar\":{\"outlinewidth\":0,\"ticks\":\"\"}},\"colorscale\":{\"sequential\":[[0.0,\"#0d0887\"],[0.1111111111111111,\"#46039f\"],[0.2222222222222222,\"#7201a8\"],[0.3333333333333333,\"#9c179e\"],[0.4444444444444444,\"#bd3786\"],[0.5555555555555556,\"#d8576b\"],[0.6666666666666666,\"#ed7953\"],[0.7777777777777778,\"#fb9f3a\"],[0.8888888888888888,\"#fdca26\"],[1.0,\"#f0f921\"]],\"sequentialminus\":[[0.0,\"#0d0887\"],[0.1111111111111111,\"#46039f\"],[0.2222222222222222,\"#7201a8\"],[0.3333333333333333,\"#9c179e\"],[0.4444444444444444,\"#bd3786\"],[0.5555555555555556,\"#d8576b\"],[0.6666666666666666,\"#ed7953\"],[0.7777777777777778,\"#fb9f3a\"],[0.8888888888888888,\"#fdca26\"],[1.0,\"#f0f921\"]],\"diverging\":[[0,\"#8e0152\"],[0.1,\"#c51b7d\"],[0.2,\"#de77ae\"],[0.3,\"#f1b6da\"],[0.4,\"#fde0ef\"],[0.5,\"#f7f7f7\"],[0.6,\"#e6f5d0\"],[0.7,\"#b8e186\"],[0.8,\"#7fbc41\"],[0.9,\"#4d9221\"],[1,\"#276419\"]]},\"xaxis\":{\"gridcolor\":\"white\",\"linecolor\":\"white\",\"ticks\":\"\",\"title\":{\"standoff\":15},\"zerolinecolor\":\"white\",\"automargin\":true,\"zerolinewidth\":2},\"yaxis\":{\"gridcolor\":\"white\",\"linecolor\":\"white\",\"ticks\":\"\",\"title\":{\"standoff\":15},\"zerolinecolor\":\"white\",\"automargin\":true,\"zerolinewidth\":2},\"scene\":{\"xaxis\":{\"backgroundcolor\":\"#E5ECF6\",\"gridcolor\":\"white\",\"linecolor\":\"white\",\"showbackground\":true,\"ticks\":\"\",\"zerolinecolor\":\"white\",\"gridwidth\":2},\"yaxis\":{\"backgroundcolor\":\"#E5ECF6\",\"gridcolor\":\"white\",\"linecolor\":\"white\",\"showbackground\":true,\"ticks\":\"\",\"zerolinecolor\":\"white\",\"gridwidth\":2},\"zaxis\":{\"backgroundcolor\":\"#E5ECF6\",\"gridcolor\":\"white\",\"linecolor\":\"white\",\"showbackground\":true,\"ticks\":\"\",\"zerolinecolor\":\"white\",\"gridwidth\":2}},\"shapedefaults\":{\"line\":{\"color\":\"#2a3f5f\"}},\"annotationdefaults\":{\"arrowcolor\":\"#2a3f5f\",\"arrowhead\":0,\"arrowwidth\":1},\"geo\":{\"bgcolor\":\"white\",\"landcolor\":\"#E5ECF6\",\"subunitcolor\":\"white\",\"showland\":true,\"showlakes\":true,\"lakecolor\":\"white\"},\"title\":{\"x\":0.05},\"mapbox\":{\"style\":\"light\"}}},\"xaxis\":{\"anchor\":\"y\",\"domain\":[0.0,1.0],\"title\":{\"text\":\"Rating\"},\"categoryorder\":\"array\",\"categoryarray\":[\"5.4\",\"5.5\",\"5.5\",\"5.5\",\"5.6\",\"5.6\",\"5.6\",\"5.6\",\"5.7\",\"5.7\",\"5.7\",\"5.7\",\"5.7\",\"5.7\",\"5.7\",\"5.7\",\"5.7\",\"5.7\",\"5.7\",\"5.7\",\"5.7+\",\"5.7+\",\"5.7+\",\"5.8-\",\"5.8-\",\"5.8\",\"5.8\",\"5.8\",\"5.8\",\"5.8\",\"5.8\",\"5.8\",\"5.8\",\"5.8\",\"5.8+\",\"5.8+\",\"5.8+\",\"5.8+\",\"5.9-\",\"5.9-\",\"5.9\",\"5.9\",\"5.9\",\"5.9\",\"5.9\",\"5.9\",\"5.9\",\"5.9\",\"5.9\",\"5.9\",\"5.9\",\"5.9\",\"5.9\",\"5.9\",\"5.9\",\"5.9+\",\"5.9+\",\"5.9+\",\"5.9+\",\"5.9+\",\"5.9+\",\"5.9+\",\"5.9+\",\"5.9+\",\"5.9+\",\"5.10a\",\"5.10a\",\"5.10a\",\"5.10a\",\"5.10a\",\"5.10a\",\"5.10a\",\"5.10a\",\"5.10a\",\"5.10a\",\"5.10a\",\"5.10a\",\"5.10a\",\"5.10a\",\"5.10a\",\"5.10a\",\"5.10a\",\"5.10a/b\",\"5.10a/b\",\"5.10b\",\"5.10b\",\"5.10b\",\"5.10b\",\"5.10b\",\"5.10b\",\"5.10b\",\"5.10b\",\"5.10b\",\"5.10b\",\"5.10b\",\"5.10b\",\"5.10b\",\"5.10b\",\"5.10b\",\"5.10b\",\"5.10b\",\"5.10b\",\"5.10b\",\"5.10b\",\"5.10\",\"5.10\",\"5.10\",\"5.10\",\"5.10b/c\",\"5.10c\",\"5.10c\",\"5.10c\",\"5.10c\",\"5.10c\",\"5.10c\",\"5.10c\",\"5.10c\",\"5.10c\",\"5.10c\",\"5.10c\",\"5.10c\",\"5.10c\",\"5.10c\",\"5.10c\",\"5.10+\",\"5.10c/d\",\"5.10d\",\"5.10d\",\"5.10d\",\"5.10d\",\"5.10d\",\"5.10d\",\"5.10d\",\"5.10d\",\"5.11a\",\"5.11a\",\"5.11a\",\"5.11a\",\"5.11a\",\"5.11a\",\"5.11a\",\"5.11a\",\"5.11a\",\"5.11a\",\"5.11-\",\"5.11a/b\",\"5.11a/b\",\"5.11b\",\"5.11b\",\"5.11b\",\"5.11b\",\"5.11b\",\"5.11b\",\"5.11b\",\"5.11b\",\"5.11b\",\"5.11b\",\"5.11b/c\",\"5.11c\",\"5.11c\",\"5.11c\",\"5.11c\",\"5.11c\",\"5.11c\",\"5.11c\",\"5.11c\",\"5.11c\",\"5.11c\",\"5.11c/d\",\"5.11d\",\"5.11d\",\"5.11d\",\"5.11d\",\"5.11d\",\"5.11d\",\"5.11d\",\"5.11d\",\"5.11d\",\"5.11d\",\"5.12a\",\"5.12a\",\"5.12a\",\"5.12a\",\"5.12a\",\"5.12a\",\"5.12a\",\"5.12a\",\"5.12a\",\"5.12a\",\"5.12a\",\"5.12a\",\"5.12a\",\"5.12a\",\"5.12-\",\"5.12-\",\"5.12a/b\",\"5.12a/b\",\"5.12a/b\",\"5.12b\",\"5.12b\",\"5.12b\",\"5.12b\",\"5.12b/c\",\"5.12c\",\"5.12c\",\"5.12c\",\"5.12c\",\"5.12c\",\"5.12c\",\"5.12c\",\"5.12c\",\"5.12d\",\"5.12d\",\"5.13a\",\"5.13a\",\"5.13b\"]},\"yaxis\":{\"anchor\":\"x\",\"domain\":[0.0,1.0],\"title\":{\"text\":\"count\"}},\"coloraxis\":{\"colorbar\":{\"title\":{\"text\":\"Months Ago\"}},\"colorscale\":[[0.0,\"#0d0887\"],[0.1111111111111111,\"#46039f\"],[0.2222222222222222,\"#7201a8\"],[0.3333333333333333,\"#9c179e\"],[0.4444444444444444,\"#bd3786\"],[0.5555555555555556,\"#d8576b\"],[0.6666666666666666,\"#ed7953\"],[0.7777777777777778,\"#fb9f3a\"],[0.8888888888888888,\"#fdca26\"],[1.0,\"#f0f921\"]]},\"legend\":{\"tracegroupgap\":0},\"title\":{\"text\":\"Route by Rating, Stacked by Age\"},\"barmode\":\"stack\"},                        {\"responsive\": true}                    ).then(function(){\n",
       "                            \n",
       "var gd = document.getElementById('c56cb144-25b0-4b12-ba07-8d129a9faf31');\n",
       "var x = new MutationObserver(function (mutations, observer) {{\n",
       "        var display = window.getComputedStyle(gd).display;\n",
       "        if (!display || display === 'none') {{\n",
       "            console.log([gd, 'removed!']);\n",
       "            Plotly.purge(gd);\n",
       "            observer.disconnect();\n",
       "        }}\n",
       "}});\n",
       "\n",
       "// Listen for the removal of the full notebook cells\n",
       "var notebookContainer = gd.closest('#notebook-container');\n",
       "if (notebookContainer) {{\n",
       "    x.observe(notebookContainer, {childList: true});\n",
       "}}\n",
       "\n",
       "// Listen for the clearing of the current output cell\n",
       "var outputEl = gd.closest('.output');\n",
       "if (outputEl) {{\n",
       "    x.observe(outputEl, {childList: true});\n",
       "}}\n",
       "\n",
       "                        })                };                });            </script>        </div>"
      ]
     },
     "metadata": {},
     "output_type": "display_data"
    }
   ],
   "source": [
    "plot(sportdf)"
   ]
  },
  {
   "cell_type": "code",
   "execution_count": 205,
   "id": "23409a99",
   "metadata": {
    "scrolled": true
   },
   "outputs": [
    {
     "data": {
      "application/vnd.plotly.v1+json": {
       "config": {
        "plotlyServerURL": "https://plot.ly"
       },
       "data": [
        {
         "alignmentgroup": "True",
         "customdata": [
          [
           "Pangea",
           423,
           "amazing movement. I recommend for anybody whom thi\ns is below redpoint grade to try to keep moving ju\nst hand over hand without resting the whole climb \nfor a joy ride. I fell af the top doing that after\n reading the finish wrong but still worth"
          ],
          [
           "Rodeo Drive",
           233,
           ""
          ],
          [
           "Zuma Dog",
           39,
           "Aaaaah hard! and fun. ate my skin for breakfast"
          ],
          [
           "El Sendero Luminoso",
           34,
           "siick"
          ],
          [
           "El Sendero Luminoso",
           53,
           "sweet climbing. just the first six!"
          ],
          [
           "Abduccion Anunnaki",
           43,
           "felt hard. what do I know I've never done 13.c but\n dang that finish sequence..."
          ],
          [
           "Camino del Diablo",
           39,
           "Really sick climb with permas. movement is amazing\n, was super engaging. didn't make it to the top"
          ]
         ],
         "hovertemplate": "Rating=%{x}<br>count=%{y}<br>Route=%{customdata[0]}<br>Days Ago=%{customdata[1]}<br>Note=%{customdata[2]}<br>Months Ago=%{marker.color}<extra></extra>",
         "legendgroup": "",
         "marker": {
          "color": [
           14.120307519399306,
           7.786974186065972,
           1.3203075193993055,
           1.153640852732639,
           1.7869741860659722,
           1.453640852732639,
           1.3203075193993055
          ],
          "coloraxis": "coloraxis",
          "pattern": {
           "shape": ""
          }
         },
         "name": "",
         "offsetgroup": "",
         "orientation": "v",
         "showlegend": false,
         "textposition": "auto",
         "type": "bar",
         "x": [
          "5.11+",
          "5.11d",
          "5.12a/b",
          "5.12+",
          "5.12+",
          "5.13c",
          "5.13+"
         ],
         "xaxis": "x",
         "y": [
          1,
          1,
          1,
          1,
          1,
          1,
          1
         ],
         "yaxis": "y"
        }
       ],
       "layout": {
        "barmode": "stack",
        "coloraxis": {
         "colorbar": {
          "title": {
           "text": "Months Ago"
          }
         },
         "colorscale": [
          [
           0,
           "#0d0887"
          ],
          [
           0.1111111111111111,
           "#46039f"
          ],
          [
           0.2222222222222222,
           "#7201a8"
          ],
          [
           0.3333333333333333,
           "#9c179e"
          ],
          [
           0.4444444444444444,
           "#bd3786"
          ],
          [
           0.5555555555555556,
           "#d8576b"
          ],
          [
           0.6666666666666666,
           "#ed7953"
          ],
          [
           0.7777777777777778,
           "#fb9f3a"
          ],
          [
           0.8888888888888888,
           "#fdca26"
          ],
          [
           1,
           "#f0f921"
          ]
         ]
        },
        "legend": {
         "tracegroupgap": 0
        },
        "template": {
         "data": {
          "bar": [
           {
            "error_x": {
             "color": "#2a3f5f"
            },
            "error_y": {
             "color": "#2a3f5f"
            },
            "marker": {
             "line": {
              "color": "#E5ECF6",
              "width": 0.5
             },
             "pattern": {
              "fillmode": "overlay",
              "size": 10,
              "solidity": 0.2
             }
            },
            "type": "bar"
           }
          ],
          "barpolar": [
           {
            "marker": {
             "line": {
              "color": "#E5ECF6",
              "width": 0.5
             },
             "pattern": {
              "fillmode": "overlay",
              "size": 10,
              "solidity": 0.2
             }
            },
            "type": "barpolar"
           }
          ],
          "carpet": [
           {
            "aaxis": {
             "endlinecolor": "#2a3f5f",
             "gridcolor": "white",
             "linecolor": "white",
             "minorgridcolor": "white",
             "startlinecolor": "#2a3f5f"
            },
            "baxis": {
             "endlinecolor": "#2a3f5f",
             "gridcolor": "white",
             "linecolor": "white",
             "minorgridcolor": "white",
             "startlinecolor": "#2a3f5f"
            },
            "type": "carpet"
           }
          ],
          "choropleth": [
           {
            "colorbar": {
             "outlinewidth": 0,
             "ticks": ""
            },
            "type": "choropleth"
           }
          ],
          "contour": [
           {
            "colorbar": {
             "outlinewidth": 0,
             "ticks": ""
            },
            "colorscale": [
             [
              0,
              "#0d0887"
             ],
             [
              0.1111111111111111,
              "#46039f"
             ],
             [
              0.2222222222222222,
              "#7201a8"
             ],
             [
              0.3333333333333333,
              "#9c179e"
             ],
             [
              0.4444444444444444,
              "#bd3786"
             ],
             [
              0.5555555555555556,
              "#d8576b"
             ],
             [
              0.6666666666666666,
              "#ed7953"
             ],
             [
              0.7777777777777778,
              "#fb9f3a"
             ],
             [
              0.8888888888888888,
              "#fdca26"
             ],
             [
              1,
              "#f0f921"
             ]
            ],
            "type": "contour"
           }
          ],
          "contourcarpet": [
           {
            "colorbar": {
             "outlinewidth": 0,
             "ticks": ""
            },
            "type": "contourcarpet"
           }
          ],
          "heatmap": [
           {
            "colorbar": {
             "outlinewidth": 0,
             "ticks": ""
            },
            "colorscale": [
             [
              0,
              "#0d0887"
             ],
             [
              0.1111111111111111,
              "#46039f"
             ],
             [
              0.2222222222222222,
              "#7201a8"
             ],
             [
              0.3333333333333333,
              "#9c179e"
             ],
             [
              0.4444444444444444,
              "#bd3786"
             ],
             [
              0.5555555555555556,
              "#d8576b"
             ],
             [
              0.6666666666666666,
              "#ed7953"
             ],
             [
              0.7777777777777778,
              "#fb9f3a"
             ],
             [
              0.8888888888888888,
              "#fdca26"
             ],
             [
              1,
              "#f0f921"
             ]
            ],
            "type": "heatmap"
           }
          ],
          "heatmapgl": [
           {
            "colorbar": {
             "outlinewidth": 0,
             "ticks": ""
            },
            "colorscale": [
             [
              0,
              "#0d0887"
             ],
             [
              0.1111111111111111,
              "#46039f"
             ],
             [
              0.2222222222222222,
              "#7201a8"
             ],
             [
              0.3333333333333333,
              "#9c179e"
             ],
             [
              0.4444444444444444,
              "#bd3786"
             ],
             [
              0.5555555555555556,
              "#d8576b"
             ],
             [
              0.6666666666666666,
              "#ed7953"
             ],
             [
              0.7777777777777778,
              "#fb9f3a"
             ],
             [
              0.8888888888888888,
              "#fdca26"
             ],
             [
              1,
              "#f0f921"
             ]
            ],
            "type": "heatmapgl"
           }
          ],
          "histogram": [
           {
            "marker": {
             "pattern": {
              "fillmode": "overlay",
              "size": 10,
              "solidity": 0.2
             }
            },
            "type": "histogram"
           }
          ],
          "histogram2d": [
           {
            "colorbar": {
             "outlinewidth": 0,
             "ticks": ""
            },
            "colorscale": [
             [
              0,
              "#0d0887"
             ],
             [
              0.1111111111111111,
              "#46039f"
             ],
             [
              0.2222222222222222,
              "#7201a8"
             ],
             [
              0.3333333333333333,
              "#9c179e"
             ],
             [
              0.4444444444444444,
              "#bd3786"
             ],
             [
              0.5555555555555556,
              "#d8576b"
             ],
             [
              0.6666666666666666,
              "#ed7953"
             ],
             [
              0.7777777777777778,
              "#fb9f3a"
             ],
             [
              0.8888888888888888,
              "#fdca26"
             ],
             [
              1,
              "#f0f921"
             ]
            ],
            "type": "histogram2d"
           }
          ],
          "histogram2dcontour": [
           {
            "colorbar": {
             "outlinewidth": 0,
             "ticks": ""
            },
            "colorscale": [
             [
              0,
              "#0d0887"
             ],
             [
              0.1111111111111111,
              "#46039f"
             ],
             [
              0.2222222222222222,
              "#7201a8"
             ],
             [
              0.3333333333333333,
              "#9c179e"
             ],
             [
              0.4444444444444444,
              "#bd3786"
             ],
             [
              0.5555555555555556,
              "#d8576b"
             ],
             [
              0.6666666666666666,
              "#ed7953"
             ],
             [
              0.7777777777777778,
              "#fb9f3a"
             ],
             [
              0.8888888888888888,
              "#fdca26"
             ],
             [
              1,
              "#f0f921"
             ]
            ],
            "type": "histogram2dcontour"
           }
          ],
          "mesh3d": [
           {
            "colorbar": {
             "outlinewidth": 0,
             "ticks": ""
            },
            "type": "mesh3d"
           }
          ],
          "parcoords": [
           {
            "line": {
             "colorbar": {
              "outlinewidth": 0,
              "ticks": ""
             }
            },
            "type": "parcoords"
           }
          ],
          "pie": [
           {
            "automargin": true,
            "type": "pie"
           }
          ],
          "scatter": [
           {
            "fillpattern": {
             "fillmode": "overlay",
             "size": 10,
             "solidity": 0.2
            },
            "type": "scatter"
           }
          ],
          "scatter3d": [
           {
            "line": {
             "colorbar": {
              "outlinewidth": 0,
              "ticks": ""
             }
            },
            "marker": {
             "colorbar": {
              "outlinewidth": 0,
              "ticks": ""
             }
            },
            "type": "scatter3d"
           }
          ],
          "scattercarpet": [
           {
            "marker": {
             "colorbar": {
              "outlinewidth": 0,
              "ticks": ""
             }
            },
            "type": "scattercarpet"
           }
          ],
          "scattergeo": [
           {
            "marker": {
             "colorbar": {
              "outlinewidth": 0,
              "ticks": ""
             }
            },
            "type": "scattergeo"
           }
          ],
          "scattergl": [
           {
            "marker": {
             "colorbar": {
              "outlinewidth": 0,
              "ticks": ""
             }
            },
            "type": "scattergl"
           }
          ],
          "scattermapbox": [
           {
            "marker": {
             "colorbar": {
              "outlinewidth": 0,
              "ticks": ""
             }
            },
            "type": "scattermapbox"
           }
          ],
          "scatterpolar": [
           {
            "marker": {
             "colorbar": {
              "outlinewidth": 0,
              "ticks": ""
             }
            },
            "type": "scatterpolar"
           }
          ],
          "scatterpolargl": [
           {
            "marker": {
             "colorbar": {
              "outlinewidth": 0,
              "ticks": ""
             }
            },
            "type": "scatterpolargl"
           }
          ],
          "scatterternary": [
           {
            "marker": {
             "colorbar": {
              "outlinewidth": 0,
              "ticks": ""
             }
            },
            "type": "scatterternary"
           }
          ],
          "surface": [
           {
            "colorbar": {
             "outlinewidth": 0,
             "ticks": ""
            },
            "colorscale": [
             [
              0,
              "#0d0887"
             ],
             [
              0.1111111111111111,
              "#46039f"
             ],
             [
              0.2222222222222222,
              "#7201a8"
             ],
             [
              0.3333333333333333,
              "#9c179e"
             ],
             [
              0.4444444444444444,
              "#bd3786"
             ],
             [
              0.5555555555555556,
              "#d8576b"
             ],
             [
              0.6666666666666666,
              "#ed7953"
             ],
             [
              0.7777777777777778,
              "#fb9f3a"
             ],
             [
              0.8888888888888888,
              "#fdca26"
             ],
             [
              1,
              "#f0f921"
             ]
            ],
            "type": "surface"
           }
          ],
          "table": [
           {
            "cells": {
             "fill": {
              "color": "#EBF0F8"
             },
             "line": {
              "color": "white"
             }
            },
            "header": {
             "fill": {
              "color": "#C8D4E3"
             },
             "line": {
              "color": "white"
             }
            },
            "type": "table"
           }
          ]
         },
         "layout": {
          "annotationdefaults": {
           "arrowcolor": "#2a3f5f",
           "arrowhead": 0,
           "arrowwidth": 1
          },
          "autotypenumbers": "strict",
          "coloraxis": {
           "colorbar": {
            "outlinewidth": 0,
            "ticks": ""
           }
          },
          "colorscale": {
           "diverging": [
            [
             0,
             "#8e0152"
            ],
            [
             0.1,
             "#c51b7d"
            ],
            [
             0.2,
             "#de77ae"
            ],
            [
             0.3,
             "#f1b6da"
            ],
            [
             0.4,
             "#fde0ef"
            ],
            [
             0.5,
             "#f7f7f7"
            ],
            [
             0.6,
             "#e6f5d0"
            ],
            [
             0.7,
             "#b8e186"
            ],
            [
             0.8,
             "#7fbc41"
            ],
            [
             0.9,
             "#4d9221"
            ],
            [
             1,
             "#276419"
            ]
           ],
           "sequential": [
            [
             0,
             "#0d0887"
            ],
            [
             0.1111111111111111,
             "#46039f"
            ],
            [
             0.2222222222222222,
             "#7201a8"
            ],
            [
             0.3333333333333333,
             "#9c179e"
            ],
            [
             0.4444444444444444,
             "#bd3786"
            ],
            [
             0.5555555555555556,
             "#d8576b"
            ],
            [
             0.6666666666666666,
             "#ed7953"
            ],
            [
             0.7777777777777778,
             "#fb9f3a"
            ],
            [
             0.8888888888888888,
             "#fdca26"
            ],
            [
             1,
             "#f0f921"
            ]
           ],
           "sequentialminus": [
            [
             0,
             "#0d0887"
            ],
            [
             0.1111111111111111,
             "#46039f"
            ],
            [
             0.2222222222222222,
             "#7201a8"
            ],
            [
             0.3333333333333333,
             "#9c179e"
            ],
            [
             0.4444444444444444,
             "#bd3786"
            ],
            [
             0.5555555555555556,
             "#d8576b"
            ],
            [
             0.6666666666666666,
             "#ed7953"
            ],
            [
             0.7777777777777778,
             "#fb9f3a"
            ],
            [
             0.8888888888888888,
             "#fdca26"
            ],
            [
             1,
             "#f0f921"
            ]
           ]
          },
          "colorway": [
           "#636efa",
           "#EF553B",
           "#00cc96",
           "#ab63fa",
           "#FFA15A",
           "#19d3f3",
           "#FF6692",
           "#B6E880",
           "#FF97FF",
           "#FECB52"
          ],
          "font": {
           "color": "#2a3f5f"
          },
          "geo": {
           "bgcolor": "white",
           "lakecolor": "white",
           "landcolor": "#E5ECF6",
           "showlakes": true,
           "showland": true,
           "subunitcolor": "white"
          },
          "hoverlabel": {
           "align": "left"
          },
          "hovermode": "closest",
          "mapbox": {
           "style": "light"
          },
          "paper_bgcolor": "white",
          "plot_bgcolor": "#E5ECF6",
          "polar": {
           "angularaxis": {
            "gridcolor": "white",
            "linecolor": "white",
            "ticks": ""
           },
           "bgcolor": "#E5ECF6",
           "radialaxis": {
            "gridcolor": "white",
            "linecolor": "white",
            "ticks": ""
           }
          },
          "scene": {
           "xaxis": {
            "backgroundcolor": "#E5ECF6",
            "gridcolor": "white",
            "gridwidth": 2,
            "linecolor": "white",
            "showbackground": true,
            "ticks": "",
            "zerolinecolor": "white"
           },
           "yaxis": {
            "backgroundcolor": "#E5ECF6",
            "gridcolor": "white",
            "gridwidth": 2,
            "linecolor": "white",
            "showbackground": true,
            "ticks": "",
            "zerolinecolor": "white"
           },
           "zaxis": {
            "backgroundcolor": "#E5ECF6",
            "gridcolor": "white",
            "gridwidth": 2,
            "linecolor": "white",
            "showbackground": true,
            "ticks": "",
            "zerolinecolor": "white"
           }
          },
          "shapedefaults": {
           "line": {
            "color": "#2a3f5f"
           }
          },
          "ternary": {
           "aaxis": {
            "gridcolor": "white",
            "linecolor": "white",
            "ticks": ""
           },
           "baxis": {
            "gridcolor": "white",
            "linecolor": "white",
            "ticks": ""
           },
           "bgcolor": "#E5ECF6",
           "caxis": {
            "gridcolor": "white",
            "linecolor": "white",
            "ticks": ""
           }
          },
          "title": {
           "x": 0.05
          },
          "xaxis": {
           "automargin": true,
           "gridcolor": "white",
           "linecolor": "white",
           "ticks": "",
           "title": {
            "standoff": 15
           },
           "zerolinecolor": "white",
           "zerolinewidth": 2
          },
          "yaxis": {
           "automargin": true,
           "gridcolor": "white",
           "linecolor": "white",
           "ticks": "",
           "title": {
            "standoff": 15
           },
           "zerolinecolor": "white",
           "zerolinewidth": 2
          }
         }
        },
        "title": {
         "text": "Route by Rating, Stacked by Age"
        },
        "xaxis": {
         "anchor": "y",
         "categoryarray": [
          "5.11+",
          "5.11d",
          "5.12a/b",
          "5.12+",
          "5.12+",
          "5.13c",
          "5.13+"
         ],
         "categoryorder": "array",
         "domain": [
          0,
          1
         ],
         "title": {
          "text": "Rating"
         }
        },
        "yaxis": {
         "anchor": "x",
         "domain": [
          0,
          1
         ],
         "title": {
          "text": "count"
         }
        }
       }
      },
      "text/html": [
       "<div>                            <div id=\"3887756e-7864-4eaa-8c3c-542d8b1e49db\" class=\"plotly-graph-div\" style=\"height:525px; width:100%;\"></div>            <script type=\"text/javascript\">                require([\"plotly\"], function(Plotly) {                    window.PLOTLYENV=window.PLOTLYENV || {};                                    if (document.getElementById(\"3887756e-7864-4eaa-8c3c-542d8b1e49db\")) {                    Plotly.newPlot(                        \"3887756e-7864-4eaa-8c3c-542d8b1e49db\",                        [{\"alignmentgroup\":\"True\",\"customdata\":[[\"Pangea\",423,\"amazing movement. I recommend for anybody whom thi\\ns is below redpoint grade to try to keep moving ju\\nst hand over hand without resting the whole climb \\nfor a joy ride. I fell af the top doing that after\\n reading the finish wrong but still worth\"],[\"Rodeo Drive\",233,\"\"],[\"Zuma Dog\",39,\"Aaaaah hard! and fun. ate my skin for breakfast\"],[\"El Sendero Luminoso\",34,\"siick\"],[\"El Sendero Luminoso\",53,\"sweet climbing. just the first six!\"],[\"Abduccion Anunnaki\",43,\"felt hard. what do I know I've never done 13.c but\\n dang that finish sequence...\"],[\"Camino del Diablo\",39,\"Really sick climb with permas. movement is amazing\\n, was super engaging. didn't make it to the top\"]],\"hovertemplate\":\"Rating=%{x}<br>count=%{y}<br>Route=%{customdata[0]}<br>Days Ago=%{customdata[1]}<br>Note=%{customdata[2]}<br>Months Ago=%{marker.color}<extra></extra>\",\"legendgroup\":\"\",\"marker\":{\"color\":[14.120307519399306,7.786974186065972,1.3203075193993055,1.153640852732639,1.7869741860659722,1.453640852732639,1.3203075193993055],\"coloraxis\":\"coloraxis\",\"pattern\":{\"shape\":\"\"}},\"name\":\"\",\"offsetgroup\":\"\",\"orientation\":\"v\",\"showlegend\":false,\"textposition\":\"auto\",\"x\":[\"5.11+\",\"5.11d\",\"5.12a/b\",\"5.12+\",\"5.12+\",\"5.13c\",\"5.13+\"],\"xaxis\":\"x\",\"y\":[1,1,1,1,1,1,1],\"yaxis\":\"y\",\"type\":\"bar\"}],                        {\"template\":{\"data\":{\"histogram2dcontour\":[{\"type\":\"histogram2dcontour\",\"colorbar\":{\"outlinewidth\":0,\"ticks\":\"\"},\"colorscale\":[[0.0,\"#0d0887\"],[0.1111111111111111,\"#46039f\"],[0.2222222222222222,\"#7201a8\"],[0.3333333333333333,\"#9c179e\"],[0.4444444444444444,\"#bd3786\"],[0.5555555555555556,\"#d8576b\"],[0.6666666666666666,\"#ed7953\"],[0.7777777777777778,\"#fb9f3a\"],[0.8888888888888888,\"#fdca26\"],[1.0,\"#f0f921\"]]}],\"choropleth\":[{\"type\":\"choropleth\",\"colorbar\":{\"outlinewidth\":0,\"ticks\":\"\"}}],\"histogram2d\":[{\"type\":\"histogram2d\",\"colorbar\":{\"outlinewidth\":0,\"ticks\":\"\"},\"colorscale\":[[0.0,\"#0d0887\"],[0.1111111111111111,\"#46039f\"],[0.2222222222222222,\"#7201a8\"],[0.3333333333333333,\"#9c179e\"],[0.4444444444444444,\"#bd3786\"],[0.5555555555555556,\"#d8576b\"],[0.6666666666666666,\"#ed7953\"],[0.7777777777777778,\"#fb9f3a\"],[0.8888888888888888,\"#fdca26\"],[1.0,\"#f0f921\"]]}],\"heatmap\":[{\"type\":\"heatmap\",\"colorbar\":{\"outlinewidth\":0,\"ticks\":\"\"},\"colorscale\":[[0.0,\"#0d0887\"],[0.1111111111111111,\"#46039f\"],[0.2222222222222222,\"#7201a8\"],[0.3333333333333333,\"#9c179e\"],[0.4444444444444444,\"#bd3786\"],[0.5555555555555556,\"#d8576b\"],[0.6666666666666666,\"#ed7953\"],[0.7777777777777778,\"#fb9f3a\"],[0.8888888888888888,\"#fdca26\"],[1.0,\"#f0f921\"]]}],\"heatmapgl\":[{\"type\":\"heatmapgl\",\"colorbar\":{\"outlinewidth\":0,\"ticks\":\"\"},\"colorscale\":[[0.0,\"#0d0887\"],[0.1111111111111111,\"#46039f\"],[0.2222222222222222,\"#7201a8\"],[0.3333333333333333,\"#9c179e\"],[0.4444444444444444,\"#bd3786\"],[0.5555555555555556,\"#d8576b\"],[0.6666666666666666,\"#ed7953\"],[0.7777777777777778,\"#fb9f3a\"],[0.8888888888888888,\"#fdca26\"],[1.0,\"#f0f921\"]]}],\"contourcarpet\":[{\"type\":\"contourcarpet\",\"colorbar\":{\"outlinewidth\":0,\"ticks\":\"\"}}],\"contour\":[{\"type\":\"contour\",\"colorbar\":{\"outlinewidth\":0,\"ticks\":\"\"},\"colorscale\":[[0.0,\"#0d0887\"],[0.1111111111111111,\"#46039f\"],[0.2222222222222222,\"#7201a8\"],[0.3333333333333333,\"#9c179e\"],[0.4444444444444444,\"#bd3786\"],[0.5555555555555556,\"#d8576b\"],[0.6666666666666666,\"#ed7953\"],[0.7777777777777778,\"#fb9f3a\"],[0.8888888888888888,\"#fdca26\"],[1.0,\"#f0f921\"]]}],\"surface\":[{\"type\":\"surface\",\"colorbar\":{\"outlinewidth\":0,\"ticks\":\"\"},\"colorscale\":[[0.0,\"#0d0887\"],[0.1111111111111111,\"#46039f\"],[0.2222222222222222,\"#7201a8\"],[0.3333333333333333,\"#9c179e\"],[0.4444444444444444,\"#bd3786\"],[0.5555555555555556,\"#d8576b\"],[0.6666666666666666,\"#ed7953\"],[0.7777777777777778,\"#fb9f3a\"],[0.8888888888888888,\"#fdca26\"],[1.0,\"#f0f921\"]]}],\"mesh3d\":[{\"type\":\"mesh3d\",\"colorbar\":{\"outlinewidth\":0,\"ticks\":\"\"}}],\"scatter\":[{\"fillpattern\":{\"fillmode\":\"overlay\",\"size\":10,\"solidity\":0.2},\"type\":\"scatter\"}],\"parcoords\":[{\"type\":\"parcoords\",\"line\":{\"colorbar\":{\"outlinewidth\":0,\"ticks\":\"\"}}}],\"scatterpolargl\":[{\"type\":\"scatterpolargl\",\"marker\":{\"colorbar\":{\"outlinewidth\":0,\"ticks\":\"\"}}}],\"bar\":[{\"error_x\":{\"color\":\"#2a3f5f\"},\"error_y\":{\"color\":\"#2a3f5f\"},\"marker\":{\"line\":{\"color\":\"#E5ECF6\",\"width\":0.5},\"pattern\":{\"fillmode\":\"overlay\",\"size\":10,\"solidity\":0.2}},\"type\":\"bar\"}],\"scattergeo\":[{\"type\":\"scattergeo\",\"marker\":{\"colorbar\":{\"outlinewidth\":0,\"ticks\":\"\"}}}],\"scatterpolar\":[{\"type\":\"scatterpolar\",\"marker\":{\"colorbar\":{\"outlinewidth\":0,\"ticks\":\"\"}}}],\"histogram\":[{\"marker\":{\"pattern\":{\"fillmode\":\"overlay\",\"size\":10,\"solidity\":0.2}},\"type\":\"histogram\"}],\"scattergl\":[{\"type\":\"scattergl\",\"marker\":{\"colorbar\":{\"outlinewidth\":0,\"ticks\":\"\"}}}],\"scatter3d\":[{\"type\":\"scatter3d\",\"line\":{\"colorbar\":{\"outlinewidth\":0,\"ticks\":\"\"}},\"marker\":{\"colorbar\":{\"outlinewidth\":0,\"ticks\":\"\"}}}],\"scattermapbox\":[{\"type\":\"scattermapbox\",\"marker\":{\"colorbar\":{\"outlinewidth\":0,\"ticks\":\"\"}}}],\"scatterternary\":[{\"type\":\"scatterternary\",\"marker\":{\"colorbar\":{\"outlinewidth\":0,\"ticks\":\"\"}}}],\"scattercarpet\":[{\"type\":\"scattercarpet\",\"marker\":{\"colorbar\":{\"outlinewidth\":0,\"ticks\":\"\"}}}],\"carpet\":[{\"aaxis\":{\"endlinecolor\":\"#2a3f5f\",\"gridcolor\":\"white\",\"linecolor\":\"white\",\"minorgridcolor\":\"white\",\"startlinecolor\":\"#2a3f5f\"},\"baxis\":{\"endlinecolor\":\"#2a3f5f\",\"gridcolor\":\"white\",\"linecolor\":\"white\",\"minorgridcolor\":\"white\",\"startlinecolor\":\"#2a3f5f\"},\"type\":\"carpet\"}],\"table\":[{\"cells\":{\"fill\":{\"color\":\"#EBF0F8\"},\"line\":{\"color\":\"white\"}},\"header\":{\"fill\":{\"color\":\"#C8D4E3\"},\"line\":{\"color\":\"white\"}},\"type\":\"table\"}],\"barpolar\":[{\"marker\":{\"line\":{\"color\":\"#E5ECF6\",\"width\":0.5},\"pattern\":{\"fillmode\":\"overlay\",\"size\":10,\"solidity\":0.2}},\"type\":\"barpolar\"}],\"pie\":[{\"automargin\":true,\"type\":\"pie\"}]},\"layout\":{\"autotypenumbers\":\"strict\",\"colorway\":[\"#636efa\",\"#EF553B\",\"#00cc96\",\"#ab63fa\",\"#FFA15A\",\"#19d3f3\",\"#FF6692\",\"#B6E880\",\"#FF97FF\",\"#FECB52\"],\"font\":{\"color\":\"#2a3f5f\"},\"hovermode\":\"closest\",\"hoverlabel\":{\"align\":\"left\"},\"paper_bgcolor\":\"white\",\"plot_bgcolor\":\"#E5ECF6\",\"polar\":{\"bgcolor\":\"#E5ECF6\",\"angularaxis\":{\"gridcolor\":\"white\",\"linecolor\":\"white\",\"ticks\":\"\"},\"radialaxis\":{\"gridcolor\":\"white\",\"linecolor\":\"white\",\"ticks\":\"\"}},\"ternary\":{\"bgcolor\":\"#E5ECF6\",\"aaxis\":{\"gridcolor\":\"white\",\"linecolor\":\"white\",\"ticks\":\"\"},\"baxis\":{\"gridcolor\":\"white\",\"linecolor\":\"white\",\"ticks\":\"\"},\"caxis\":{\"gridcolor\":\"white\",\"linecolor\":\"white\",\"ticks\":\"\"}},\"coloraxis\":{\"colorbar\":{\"outlinewidth\":0,\"ticks\":\"\"}},\"colorscale\":{\"sequential\":[[0.0,\"#0d0887\"],[0.1111111111111111,\"#46039f\"],[0.2222222222222222,\"#7201a8\"],[0.3333333333333333,\"#9c179e\"],[0.4444444444444444,\"#bd3786\"],[0.5555555555555556,\"#d8576b\"],[0.6666666666666666,\"#ed7953\"],[0.7777777777777778,\"#fb9f3a\"],[0.8888888888888888,\"#fdca26\"],[1.0,\"#f0f921\"]],\"sequentialminus\":[[0.0,\"#0d0887\"],[0.1111111111111111,\"#46039f\"],[0.2222222222222222,\"#7201a8\"],[0.3333333333333333,\"#9c179e\"],[0.4444444444444444,\"#bd3786\"],[0.5555555555555556,\"#d8576b\"],[0.6666666666666666,\"#ed7953\"],[0.7777777777777778,\"#fb9f3a\"],[0.8888888888888888,\"#fdca26\"],[1.0,\"#f0f921\"]],\"diverging\":[[0,\"#8e0152\"],[0.1,\"#c51b7d\"],[0.2,\"#de77ae\"],[0.3,\"#f1b6da\"],[0.4,\"#fde0ef\"],[0.5,\"#f7f7f7\"],[0.6,\"#e6f5d0\"],[0.7,\"#b8e186\"],[0.8,\"#7fbc41\"],[0.9,\"#4d9221\"],[1,\"#276419\"]]},\"xaxis\":{\"gridcolor\":\"white\",\"linecolor\":\"white\",\"ticks\":\"\",\"title\":{\"standoff\":15},\"zerolinecolor\":\"white\",\"automargin\":true,\"zerolinewidth\":2},\"yaxis\":{\"gridcolor\":\"white\",\"linecolor\":\"white\",\"ticks\":\"\",\"title\":{\"standoff\":15},\"zerolinecolor\":\"white\",\"automargin\":true,\"zerolinewidth\":2},\"scene\":{\"xaxis\":{\"backgroundcolor\":\"#E5ECF6\",\"gridcolor\":\"white\",\"linecolor\":\"white\",\"showbackground\":true,\"ticks\":\"\",\"zerolinecolor\":\"white\",\"gridwidth\":2},\"yaxis\":{\"backgroundcolor\":\"#E5ECF6\",\"gridcolor\":\"white\",\"linecolor\":\"white\",\"showbackground\":true,\"ticks\":\"\",\"zerolinecolor\":\"white\",\"gridwidth\":2},\"zaxis\":{\"backgroundcolor\":\"#E5ECF6\",\"gridcolor\":\"white\",\"linecolor\":\"white\",\"showbackground\":true,\"ticks\":\"\",\"zerolinecolor\":\"white\",\"gridwidth\":2}},\"shapedefaults\":{\"line\":{\"color\":\"#2a3f5f\"}},\"annotationdefaults\":{\"arrowcolor\":\"#2a3f5f\",\"arrowhead\":0,\"arrowwidth\":1},\"geo\":{\"bgcolor\":\"white\",\"landcolor\":\"#E5ECF6\",\"subunitcolor\":\"white\",\"showland\":true,\"showlakes\":true,\"lakecolor\":\"white\"},\"title\":{\"x\":0.05},\"mapbox\":{\"style\":\"light\"}}},\"xaxis\":{\"anchor\":\"y\",\"domain\":[0.0,1.0],\"title\":{\"text\":\"Rating\"},\"categoryorder\":\"array\",\"categoryarray\":[\"5.11+\",\"5.11d\",\"5.12a/b\",\"5.12+\",\"5.12+\",\"5.13c\",\"5.13+\"]},\"yaxis\":{\"anchor\":\"x\",\"domain\":[0.0,1.0],\"title\":{\"text\":\"count\"}},\"coloraxis\":{\"colorbar\":{\"title\":{\"text\":\"Months Ago\"}},\"colorscale\":[[0.0,\"#0d0887\"],[0.1111111111111111,\"#46039f\"],[0.2222222222222222,\"#7201a8\"],[0.3333333333333333,\"#9c179e\"],[0.4444444444444444,\"#bd3786\"],[0.5555555555555556,\"#d8576b\"],[0.6666666666666666,\"#ed7953\"],[0.7777777777777778,\"#fb9f3a\"],[0.8888888888888888,\"#fdca26\"],[1.0,\"#f0f921\"]]},\"legend\":{\"tracegroupgap\":0},\"title\":{\"text\":\"Route by Rating, Stacked by Age\"},\"barmode\":\"stack\"},                        {\"responsive\": true}                    ).then(function(){\n",
       "                            \n",
       "var gd = document.getElementById('3887756e-7864-4eaa-8c3c-542d8b1e49db');\n",
       "var x = new MutationObserver(function (mutations, observer) {{\n",
       "        var display = window.getComputedStyle(gd).display;\n",
       "        if (!display || display === 'none') {{\n",
       "            console.log([gd, 'removed!']);\n",
       "            Plotly.purge(gd);\n",
       "            observer.disconnect();\n",
       "        }}\n",
       "}});\n",
       "\n",
       "// Listen for the removal of the full notebook cells\n",
       "var notebookContainer = gd.closest('#notebook-container');\n",
       "if (notebookContainer) {{\n",
       "    x.observe(notebookContainer, {childList: true});\n",
       "}}\n",
       "\n",
       "// Listen for the clearing of the current output cell\n",
       "var outputEl = gd.closest('.output');\n",
       "if (outputEl) {{\n",
       "    x.observe(outputEl, {childList: true});\n",
       "}}\n",
       "\n",
       "                        })                };                });            </script>        </div>"
      ]
     },
     "metadata": {},
     "output_type": "display_data"
    }
   ],
   "source": [
    "plot(hungdf)"
   ]
  },
  {
   "cell_type": "code",
   "execution_count": 206,
   "id": "f247ca9b",
   "metadata": {},
   "outputs": [
    {
     "data": {
      "application/vnd.plotly.v1+json": {
       "config": {
        "plotlyServerURL": "https://plot.ly"
       },
       "data": [
        {
         "alignmentgroup": "True",
         "customdata": [
          [
           "Bachar Cracker",
           97,
           ""
          ],
          [
           "Pig Dog",
           366,
           ""
          ],
          [
           "Cloud Shadow Low",
           368,
           ""
          ],
          [
           "The Infinite",
           366,
           "the beta was to look at the final hold before you \ngo to it. contemplate life and your decisions. the\nn go. I also left my feet low and turned my right \nhip in to gain the crimp. works for me at 6ft but \nalso worked for 5'9\" climber"
          ]
         ],
         "hovertemplate": "Rating=%{x}<br>count=%{y}<br>Route=%{customdata[0]}<br>Days Ago=%{customdata[1]}<br>Note=%{customdata[2]}<br>Months Ago=%{marker.color}<extra></extra>",
         "legendgroup": "",
         "marker": {
          "color": [
           3.253678344234182,
           12.220345010900848,
           12.287011677567515,
           12.220345010900848
          ],
          "coloraxis": "coloraxis",
          "pattern": {
           "shape": ""
          }
         },
         "name": "",
         "offsetgroup": "",
         "orientation": "v",
         "showlegend": false,
         "textposition": "auto",
         "type": "bar",
         "x": [
          "V4",
          "V6",
          "V7",
          "V9"
         ],
         "xaxis": "x",
         "y": [
          1,
          1,
          1,
          1
         ],
         "yaxis": "y"
        }
       ],
       "layout": {
        "barmode": "stack",
        "coloraxis": {
         "colorbar": {
          "title": {
           "text": "Months Ago"
          }
         },
         "colorscale": [
          [
           0,
           "#0d0887"
          ],
          [
           0.1111111111111111,
           "#46039f"
          ],
          [
           0.2222222222222222,
           "#7201a8"
          ],
          [
           0.3333333333333333,
           "#9c179e"
          ],
          [
           0.4444444444444444,
           "#bd3786"
          ],
          [
           0.5555555555555556,
           "#d8576b"
          ],
          [
           0.6666666666666666,
           "#ed7953"
          ],
          [
           0.7777777777777778,
           "#fb9f3a"
          ],
          [
           0.8888888888888888,
           "#fdca26"
          ],
          [
           1,
           "#f0f921"
          ]
         ]
        },
        "legend": {
         "tracegroupgap": 0
        },
        "template": {
         "data": {
          "bar": [
           {
            "error_x": {
             "color": "#2a3f5f"
            },
            "error_y": {
             "color": "#2a3f5f"
            },
            "marker": {
             "line": {
              "color": "#E5ECF6",
              "width": 0.5
             },
             "pattern": {
              "fillmode": "overlay",
              "size": 10,
              "solidity": 0.2
             }
            },
            "type": "bar"
           }
          ],
          "barpolar": [
           {
            "marker": {
             "line": {
              "color": "#E5ECF6",
              "width": 0.5
             },
             "pattern": {
              "fillmode": "overlay",
              "size": 10,
              "solidity": 0.2
             }
            },
            "type": "barpolar"
           }
          ],
          "carpet": [
           {
            "aaxis": {
             "endlinecolor": "#2a3f5f",
             "gridcolor": "white",
             "linecolor": "white",
             "minorgridcolor": "white",
             "startlinecolor": "#2a3f5f"
            },
            "baxis": {
             "endlinecolor": "#2a3f5f",
             "gridcolor": "white",
             "linecolor": "white",
             "minorgridcolor": "white",
             "startlinecolor": "#2a3f5f"
            },
            "type": "carpet"
           }
          ],
          "choropleth": [
           {
            "colorbar": {
             "outlinewidth": 0,
             "ticks": ""
            },
            "type": "choropleth"
           }
          ],
          "contour": [
           {
            "colorbar": {
             "outlinewidth": 0,
             "ticks": ""
            },
            "colorscale": [
             [
              0,
              "#0d0887"
             ],
             [
              0.1111111111111111,
              "#46039f"
             ],
             [
              0.2222222222222222,
              "#7201a8"
             ],
             [
              0.3333333333333333,
              "#9c179e"
             ],
             [
              0.4444444444444444,
              "#bd3786"
             ],
             [
              0.5555555555555556,
              "#d8576b"
             ],
             [
              0.6666666666666666,
              "#ed7953"
             ],
             [
              0.7777777777777778,
              "#fb9f3a"
             ],
             [
              0.8888888888888888,
              "#fdca26"
             ],
             [
              1,
              "#f0f921"
             ]
            ],
            "type": "contour"
           }
          ],
          "contourcarpet": [
           {
            "colorbar": {
             "outlinewidth": 0,
             "ticks": ""
            },
            "type": "contourcarpet"
           }
          ],
          "heatmap": [
           {
            "colorbar": {
             "outlinewidth": 0,
             "ticks": ""
            },
            "colorscale": [
             [
              0,
              "#0d0887"
             ],
             [
              0.1111111111111111,
              "#46039f"
             ],
             [
              0.2222222222222222,
              "#7201a8"
             ],
             [
              0.3333333333333333,
              "#9c179e"
             ],
             [
              0.4444444444444444,
              "#bd3786"
             ],
             [
              0.5555555555555556,
              "#d8576b"
             ],
             [
              0.6666666666666666,
              "#ed7953"
             ],
             [
              0.7777777777777778,
              "#fb9f3a"
             ],
             [
              0.8888888888888888,
              "#fdca26"
             ],
             [
              1,
              "#f0f921"
             ]
            ],
            "type": "heatmap"
           }
          ],
          "heatmapgl": [
           {
            "colorbar": {
             "outlinewidth": 0,
             "ticks": ""
            },
            "colorscale": [
             [
              0,
              "#0d0887"
             ],
             [
              0.1111111111111111,
              "#46039f"
             ],
             [
              0.2222222222222222,
              "#7201a8"
             ],
             [
              0.3333333333333333,
              "#9c179e"
             ],
             [
              0.4444444444444444,
              "#bd3786"
             ],
             [
              0.5555555555555556,
              "#d8576b"
             ],
             [
              0.6666666666666666,
              "#ed7953"
             ],
             [
              0.7777777777777778,
              "#fb9f3a"
             ],
             [
              0.8888888888888888,
              "#fdca26"
             ],
             [
              1,
              "#f0f921"
             ]
            ],
            "type": "heatmapgl"
           }
          ],
          "histogram": [
           {
            "marker": {
             "pattern": {
              "fillmode": "overlay",
              "size": 10,
              "solidity": 0.2
             }
            },
            "type": "histogram"
           }
          ],
          "histogram2d": [
           {
            "colorbar": {
             "outlinewidth": 0,
             "ticks": ""
            },
            "colorscale": [
             [
              0,
              "#0d0887"
             ],
             [
              0.1111111111111111,
              "#46039f"
             ],
             [
              0.2222222222222222,
              "#7201a8"
             ],
             [
              0.3333333333333333,
              "#9c179e"
             ],
             [
              0.4444444444444444,
              "#bd3786"
             ],
             [
              0.5555555555555556,
              "#d8576b"
             ],
             [
              0.6666666666666666,
              "#ed7953"
             ],
             [
              0.7777777777777778,
              "#fb9f3a"
             ],
             [
              0.8888888888888888,
              "#fdca26"
             ],
             [
              1,
              "#f0f921"
             ]
            ],
            "type": "histogram2d"
           }
          ],
          "histogram2dcontour": [
           {
            "colorbar": {
             "outlinewidth": 0,
             "ticks": ""
            },
            "colorscale": [
             [
              0,
              "#0d0887"
             ],
             [
              0.1111111111111111,
              "#46039f"
             ],
             [
              0.2222222222222222,
              "#7201a8"
             ],
             [
              0.3333333333333333,
              "#9c179e"
             ],
             [
              0.4444444444444444,
              "#bd3786"
             ],
             [
              0.5555555555555556,
              "#d8576b"
             ],
             [
              0.6666666666666666,
              "#ed7953"
             ],
             [
              0.7777777777777778,
              "#fb9f3a"
             ],
             [
              0.8888888888888888,
              "#fdca26"
             ],
             [
              1,
              "#f0f921"
             ]
            ],
            "type": "histogram2dcontour"
           }
          ],
          "mesh3d": [
           {
            "colorbar": {
             "outlinewidth": 0,
             "ticks": ""
            },
            "type": "mesh3d"
           }
          ],
          "parcoords": [
           {
            "line": {
             "colorbar": {
              "outlinewidth": 0,
              "ticks": ""
             }
            },
            "type": "parcoords"
           }
          ],
          "pie": [
           {
            "automargin": true,
            "type": "pie"
           }
          ],
          "scatter": [
           {
            "fillpattern": {
             "fillmode": "overlay",
             "size": 10,
             "solidity": 0.2
            },
            "type": "scatter"
           }
          ],
          "scatter3d": [
           {
            "line": {
             "colorbar": {
              "outlinewidth": 0,
              "ticks": ""
             }
            },
            "marker": {
             "colorbar": {
              "outlinewidth": 0,
              "ticks": ""
             }
            },
            "type": "scatter3d"
           }
          ],
          "scattercarpet": [
           {
            "marker": {
             "colorbar": {
              "outlinewidth": 0,
              "ticks": ""
             }
            },
            "type": "scattercarpet"
           }
          ],
          "scattergeo": [
           {
            "marker": {
             "colorbar": {
              "outlinewidth": 0,
              "ticks": ""
             }
            },
            "type": "scattergeo"
           }
          ],
          "scattergl": [
           {
            "marker": {
             "colorbar": {
              "outlinewidth": 0,
              "ticks": ""
             }
            },
            "type": "scattergl"
           }
          ],
          "scattermapbox": [
           {
            "marker": {
             "colorbar": {
              "outlinewidth": 0,
              "ticks": ""
             }
            },
            "type": "scattermapbox"
           }
          ],
          "scatterpolar": [
           {
            "marker": {
             "colorbar": {
              "outlinewidth": 0,
              "ticks": ""
             }
            },
            "type": "scatterpolar"
           }
          ],
          "scatterpolargl": [
           {
            "marker": {
             "colorbar": {
              "outlinewidth": 0,
              "ticks": ""
             }
            },
            "type": "scatterpolargl"
           }
          ],
          "scatterternary": [
           {
            "marker": {
             "colorbar": {
              "outlinewidth": 0,
              "ticks": ""
             }
            },
            "type": "scatterternary"
           }
          ],
          "surface": [
           {
            "colorbar": {
             "outlinewidth": 0,
             "ticks": ""
            },
            "colorscale": [
             [
              0,
              "#0d0887"
             ],
             [
              0.1111111111111111,
              "#46039f"
             ],
             [
              0.2222222222222222,
              "#7201a8"
             ],
             [
              0.3333333333333333,
              "#9c179e"
             ],
             [
              0.4444444444444444,
              "#bd3786"
             ],
             [
              0.5555555555555556,
              "#d8576b"
             ],
             [
              0.6666666666666666,
              "#ed7953"
             ],
             [
              0.7777777777777778,
              "#fb9f3a"
             ],
             [
              0.8888888888888888,
              "#fdca26"
             ],
             [
              1,
              "#f0f921"
             ]
            ],
            "type": "surface"
           }
          ],
          "table": [
           {
            "cells": {
             "fill": {
              "color": "#EBF0F8"
             },
             "line": {
              "color": "white"
             }
            },
            "header": {
             "fill": {
              "color": "#C8D4E3"
             },
             "line": {
              "color": "white"
             }
            },
            "type": "table"
           }
          ]
         },
         "layout": {
          "annotationdefaults": {
           "arrowcolor": "#2a3f5f",
           "arrowhead": 0,
           "arrowwidth": 1
          },
          "autotypenumbers": "strict",
          "coloraxis": {
           "colorbar": {
            "outlinewidth": 0,
            "ticks": ""
           }
          },
          "colorscale": {
           "diverging": [
            [
             0,
             "#8e0152"
            ],
            [
             0.1,
             "#c51b7d"
            ],
            [
             0.2,
             "#de77ae"
            ],
            [
             0.3,
             "#f1b6da"
            ],
            [
             0.4,
             "#fde0ef"
            ],
            [
             0.5,
             "#f7f7f7"
            ],
            [
             0.6,
             "#e6f5d0"
            ],
            [
             0.7,
             "#b8e186"
            ],
            [
             0.8,
             "#7fbc41"
            ],
            [
             0.9,
             "#4d9221"
            ],
            [
             1,
             "#276419"
            ]
           ],
           "sequential": [
            [
             0,
             "#0d0887"
            ],
            [
             0.1111111111111111,
             "#46039f"
            ],
            [
             0.2222222222222222,
             "#7201a8"
            ],
            [
             0.3333333333333333,
             "#9c179e"
            ],
            [
             0.4444444444444444,
             "#bd3786"
            ],
            [
             0.5555555555555556,
             "#d8576b"
            ],
            [
             0.6666666666666666,
             "#ed7953"
            ],
            [
             0.7777777777777778,
             "#fb9f3a"
            ],
            [
             0.8888888888888888,
             "#fdca26"
            ],
            [
             1,
             "#f0f921"
            ]
           ],
           "sequentialminus": [
            [
             0,
             "#0d0887"
            ],
            [
             0.1111111111111111,
             "#46039f"
            ],
            [
             0.2222222222222222,
             "#7201a8"
            ],
            [
             0.3333333333333333,
             "#9c179e"
            ],
            [
             0.4444444444444444,
             "#bd3786"
            ],
            [
             0.5555555555555556,
             "#d8576b"
            ],
            [
             0.6666666666666666,
             "#ed7953"
            ],
            [
             0.7777777777777778,
             "#fb9f3a"
            ],
            [
             0.8888888888888888,
             "#fdca26"
            ],
            [
             1,
             "#f0f921"
            ]
           ]
          },
          "colorway": [
           "#636efa",
           "#EF553B",
           "#00cc96",
           "#ab63fa",
           "#FFA15A",
           "#19d3f3",
           "#FF6692",
           "#B6E880",
           "#FF97FF",
           "#FECB52"
          ],
          "font": {
           "color": "#2a3f5f"
          },
          "geo": {
           "bgcolor": "white",
           "lakecolor": "white",
           "landcolor": "#E5ECF6",
           "showlakes": true,
           "showland": true,
           "subunitcolor": "white"
          },
          "hoverlabel": {
           "align": "left"
          },
          "hovermode": "closest",
          "mapbox": {
           "style": "light"
          },
          "paper_bgcolor": "white",
          "plot_bgcolor": "#E5ECF6",
          "polar": {
           "angularaxis": {
            "gridcolor": "white",
            "linecolor": "white",
            "ticks": ""
           },
           "bgcolor": "#E5ECF6",
           "radialaxis": {
            "gridcolor": "white",
            "linecolor": "white",
            "ticks": ""
           }
          },
          "scene": {
           "xaxis": {
            "backgroundcolor": "#E5ECF6",
            "gridcolor": "white",
            "gridwidth": 2,
            "linecolor": "white",
            "showbackground": true,
            "ticks": "",
            "zerolinecolor": "white"
           },
           "yaxis": {
            "backgroundcolor": "#E5ECF6",
            "gridcolor": "white",
            "gridwidth": 2,
            "linecolor": "white",
            "showbackground": true,
            "ticks": "",
            "zerolinecolor": "white"
           },
           "zaxis": {
            "backgroundcolor": "#E5ECF6",
            "gridcolor": "white",
            "gridwidth": 2,
            "linecolor": "white",
            "showbackground": true,
            "ticks": "",
            "zerolinecolor": "white"
           }
          },
          "shapedefaults": {
           "line": {
            "color": "#2a3f5f"
           }
          },
          "ternary": {
           "aaxis": {
            "gridcolor": "white",
            "linecolor": "white",
            "ticks": ""
           },
           "baxis": {
            "gridcolor": "white",
            "linecolor": "white",
            "ticks": ""
           },
           "bgcolor": "#E5ECF6",
           "caxis": {
            "gridcolor": "white",
            "linecolor": "white",
            "ticks": ""
           }
          },
          "title": {
           "x": 0.05
          },
          "xaxis": {
           "automargin": true,
           "gridcolor": "white",
           "linecolor": "white",
           "ticks": "",
           "title": {
            "standoff": 15
           },
           "zerolinecolor": "white",
           "zerolinewidth": 2
          },
          "yaxis": {
           "automargin": true,
           "gridcolor": "white",
           "linecolor": "white",
           "ticks": "",
           "title": {
            "standoff": 15
           },
           "zerolinecolor": "white",
           "zerolinewidth": 2
          }
         }
        },
        "title": {
         "text": "Route by Rating, Stacked by Age"
        },
        "xaxis": {
         "anchor": "y",
         "categoryarray": [
          "V4",
          "V6",
          "V7",
          "V9"
         ],
         "categoryorder": "array",
         "domain": [
          0,
          1
         ],
         "title": {
          "text": "Rating"
         }
        },
        "yaxis": {
         "anchor": "x",
         "domain": [
          0,
          1
         ],
         "title": {
          "text": "count"
         }
        }
       }
      },
      "text/html": [
       "<div>                            <div id=\"43a645b3-58d3-4bc2-8ed7-dd6438cb096e\" class=\"plotly-graph-div\" style=\"height:525px; width:100%;\"></div>            <script type=\"text/javascript\">                require([\"plotly\"], function(Plotly) {                    window.PLOTLYENV=window.PLOTLYENV || {};                                    if (document.getElementById(\"43a645b3-58d3-4bc2-8ed7-dd6438cb096e\")) {                    Plotly.newPlot(                        \"43a645b3-58d3-4bc2-8ed7-dd6438cb096e\",                        [{\"alignmentgroup\":\"True\",\"customdata\":[[\"Bachar Cracker\",97,\"\"],[\"Pig Dog\",366,\"\"],[\"Cloud Shadow Low\",368,\"\"],[\"The Infinite\",366,\"the beta was to look at the final hold before you \\ngo to it. contemplate life and your decisions. the\\nn go. I also left my feet low and turned my right \\nhip in to gain the crimp. works for me at 6ft but \\nalso worked for 5'9\\\" climber\"]],\"hovertemplate\":\"Rating=%{x}<br>count=%{y}<br>Route=%{customdata[0]}<br>Days Ago=%{customdata[1]}<br>Note=%{customdata[2]}<br>Months Ago=%{marker.color}<extra></extra>\",\"legendgroup\":\"\",\"marker\":{\"color\":[3.253678344234182,12.220345010900848,12.287011677567515,12.220345010900848],\"coloraxis\":\"coloraxis\",\"pattern\":{\"shape\":\"\"}},\"name\":\"\",\"offsetgroup\":\"\",\"orientation\":\"v\",\"showlegend\":false,\"textposition\":\"auto\",\"x\":[\"V4\",\"V6\",\"V7\",\"V9\"],\"xaxis\":\"x\",\"y\":[1,1,1,1],\"yaxis\":\"y\",\"type\":\"bar\"}],                        {\"template\":{\"data\":{\"histogram2dcontour\":[{\"type\":\"histogram2dcontour\",\"colorbar\":{\"outlinewidth\":0,\"ticks\":\"\"},\"colorscale\":[[0.0,\"#0d0887\"],[0.1111111111111111,\"#46039f\"],[0.2222222222222222,\"#7201a8\"],[0.3333333333333333,\"#9c179e\"],[0.4444444444444444,\"#bd3786\"],[0.5555555555555556,\"#d8576b\"],[0.6666666666666666,\"#ed7953\"],[0.7777777777777778,\"#fb9f3a\"],[0.8888888888888888,\"#fdca26\"],[1.0,\"#f0f921\"]]}],\"choropleth\":[{\"type\":\"choropleth\",\"colorbar\":{\"outlinewidth\":0,\"ticks\":\"\"}}],\"histogram2d\":[{\"type\":\"histogram2d\",\"colorbar\":{\"outlinewidth\":0,\"ticks\":\"\"},\"colorscale\":[[0.0,\"#0d0887\"],[0.1111111111111111,\"#46039f\"],[0.2222222222222222,\"#7201a8\"],[0.3333333333333333,\"#9c179e\"],[0.4444444444444444,\"#bd3786\"],[0.5555555555555556,\"#d8576b\"],[0.6666666666666666,\"#ed7953\"],[0.7777777777777778,\"#fb9f3a\"],[0.8888888888888888,\"#fdca26\"],[1.0,\"#f0f921\"]]}],\"heatmap\":[{\"type\":\"heatmap\",\"colorbar\":{\"outlinewidth\":0,\"ticks\":\"\"},\"colorscale\":[[0.0,\"#0d0887\"],[0.1111111111111111,\"#46039f\"],[0.2222222222222222,\"#7201a8\"],[0.3333333333333333,\"#9c179e\"],[0.4444444444444444,\"#bd3786\"],[0.5555555555555556,\"#d8576b\"],[0.6666666666666666,\"#ed7953\"],[0.7777777777777778,\"#fb9f3a\"],[0.8888888888888888,\"#fdca26\"],[1.0,\"#f0f921\"]]}],\"heatmapgl\":[{\"type\":\"heatmapgl\",\"colorbar\":{\"outlinewidth\":0,\"ticks\":\"\"},\"colorscale\":[[0.0,\"#0d0887\"],[0.1111111111111111,\"#46039f\"],[0.2222222222222222,\"#7201a8\"],[0.3333333333333333,\"#9c179e\"],[0.4444444444444444,\"#bd3786\"],[0.5555555555555556,\"#d8576b\"],[0.6666666666666666,\"#ed7953\"],[0.7777777777777778,\"#fb9f3a\"],[0.8888888888888888,\"#fdca26\"],[1.0,\"#f0f921\"]]}],\"contourcarpet\":[{\"type\":\"contourcarpet\",\"colorbar\":{\"outlinewidth\":0,\"ticks\":\"\"}}],\"contour\":[{\"type\":\"contour\",\"colorbar\":{\"outlinewidth\":0,\"ticks\":\"\"},\"colorscale\":[[0.0,\"#0d0887\"],[0.1111111111111111,\"#46039f\"],[0.2222222222222222,\"#7201a8\"],[0.3333333333333333,\"#9c179e\"],[0.4444444444444444,\"#bd3786\"],[0.5555555555555556,\"#d8576b\"],[0.6666666666666666,\"#ed7953\"],[0.7777777777777778,\"#fb9f3a\"],[0.8888888888888888,\"#fdca26\"],[1.0,\"#f0f921\"]]}],\"surface\":[{\"type\":\"surface\",\"colorbar\":{\"outlinewidth\":0,\"ticks\":\"\"},\"colorscale\":[[0.0,\"#0d0887\"],[0.1111111111111111,\"#46039f\"],[0.2222222222222222,\"#7201a8\"],[0.3333333333333333,\"#9c179e\"],[0.4444444444444444,\"#bd3786\"],[0.5555555555555556,\"#d8576b\"],[0.6666666666666666,\"#ed7953\"],[0.7777777777777778,\"#fb9f3a\"],[0.8888888888888888,\"#fdca26\"],[1.0,\"#f0f921\"]]}],\"mesh3d\":[{\"type\":\"mesh3d\",\"colorbar\":{\"outlinewidth\":0,\"ticks\":\"\"}}],\"scatter\":[{\"fillpattern\":{\"fillmode\":\"overlay\",\"size\":10,\"solidity\":0.2},\"type\":\"scatter\"}],\"parcoords\":[{\"type\":\"parcoords\",\"line\":{\"colorbar\":{\"outlinewidth\":0,\"ticks\":\"\"}}}],\"scatterpolargl\":[{\"type\":\"scatterpolargl\",\"marker\":{\"colorbar\":{\"outlinewidth\":0,\"ticks\":\"\"}}}],\"bar\":[{\"error_x\":{\"color\":\"#2a3f5f\"},\"error_y\":{\"color\":\"#2a3f5f\"},\"marker\":{\"line\":{\"color\":\"#E5ECF6\",\"width\":0.5},\"pattern\":{\"fillmode\":\"overlay\",\"size\":10,\"solidity\":0.2}},\"type\":\"bar\"}],\"scattergeo\":[{\"type\":\"scattergeo\",\"marker\":{\"colorbar\":{\"outlinewidth\":0,\"ticks\":\"\"}}}],\"scatterpolar\":[{\"type\":\"scatterpolar\",\"marker\":{\"colorbar\":{\"outlinewidth\":0,\"ticks\":\"\"}}}],\"histogram\":[{\"marker\":{\"pattern\":{\"fillmode\":\"overlay\",\"size\":10,\"solidity\":0.2}},\"type\":\"histogram\"}],\"scattergl\":[{\"type\":\"scattergl\",\"marker\":{\"colorbar\":{\"outlinewidth\":0,\"ticks\":\"\"}}}],\"scatter3d\":[{\"type\":\"scatter3d\",\"line\":{\"colorbar\":{\"outlinewidth\":0,\"ticks\":\"\"}},\"marker\":{\"colorbar\":{\"outlinewidth\":0,\"ticks\":\"\"}}}],\"scattermapbox\":[{\"type\":\"scattermapbox\",\"marker\":{\"colorbar\":{\"outlinewidth\":0,\"ticks\":\"\"}}}],\"scatterternary\":[{\"type\":\"scatterternary\",\"marker\":{\"colorbar\":{\"outlinewidth\":0,\"ticks\":\"\"}}}],\"scattercarpet\":[{\"type\":\"scattercarpet\",\"marker\":{\"colorbar\":{\"outlinewidth\":0,\"ticks\":\"\"}}}],\"carpet\":[{\"aaxis\":{\"endlinecolor\":\"#2a3f5f\",\"gridcolor\":\"white\",\"linecolor\":\"white\",\"minorgridcolor\":\"white\",\"startlinecolor\":\"#2a3f5f\"},\"baxis\":{\"endlinecolor\":\"#2a3f5f\",\"gridcolor\":\"white\",\"linecolor\":\"white\",\"minorgridcolor\":\"white\",\"startlinecolor\":\"#2a3f5f\"},\"type\":\"carpet\"}],\"table\":[{\"cells\":{\"fill\":{\"color\":\"#EBF0F8\"},\"line\":{\"color\":\"white\"}},\"header\":{\"fill\":{\"color\":\"#C8D4E3\"},\"line\":{\"color\":\"white\"}},\"type\":\"table\"}],\"barpolar\":[{\"marker\":{\"line\":{\"color\":\"#E5ECF6\",\"width\":0.5},\"pattern\":{\"fillmode\":\"overlay\",\"size\":10,\"solidity\":0.2}},\"type\":\"barpolar\"}],\"pie\":[{\"automargin\":true,\"type\":\"pie\"}]},\"layout\":{\"autotypenumbers\":\"strict\",\"colorway\":[\"#636efa\",\"#EF553B\",\"#00cc96\",\"#ab63fa\",\"#FFA15A\",\"#19d3f3\",\"#FF6692\",\"#B6E880\",\"#FF97FF\",\"#FECB52\"],\"font\":{\"color\":\"#2a3f5f\"},\"hovermode\":\"closest\",\"hoverlabel\":{\"align\":\"left\"},\"paper_bgcolor\":\"white\",\"plot_bgcolor\":\"#E5ECF6\",\"polar\":{\"bgcolor\":\"#E5ECF6\",\"angularaxis\":{\"gridcolor\":\"white\",\"linecolor\":\"white\",\"ticks\":\"\"},\"radialaxis\":{\"gridcolor\":\"white\",\"linecolor\":\"white\",\"ticks\":\"\"}},\"ternary\":{\"bgcolor\":\"#E5ECF6\",\"aaxis\":{\"gridcolor\":\"white\",\"linecolor\":\"white\",\"ticks\":\"\"},\"baxis\":{\"gridcolor\":\"white\",\"linecolor\":\"white\",\"ticks\":\"\"},\"caxis\":{\"gridcolor\":\"white\",\"linecolor\":\"white\",\"ticks\":\"\"}},\"coloraxis\":{\"colorbar\":{\"outlinewidth\":0,\"ticks\":\"\"}},\"colorscale\":{\"sequential\":[[0.0,\"#0d0887\"],[0.1111111111111111,\"#46039f\"],[0.2222222222222222,\"#7201a8\"],[0.3333333333333333,\"#9c179e\"],[0.4444444444444444,\"#bd3786\"],[0.5555555555555556,\"#d8576b\"],[0.6666666666666666,\"#ed7953\"],[0.7777777777777778,\"#fb9f3a\"],[0.8888888888888888,\"#fdca26\"],[1.0,\"#f0f921\"]],\"sequentialminus\":[[0.0,\"#0d0887\"],[0.1111111111111111,\"#46039f\"],[0.2222222222222222,\"#7201a8\"],[0.3333333333333333,\"#9c179e\"],[0.4444444444444444,\"#bd3786\"],[0.5555555555555556,\"#d8576b\"],[0.6666666666666666,\"#ed7953\"],[0.7777777777777778,\"#fb9f3a\"],[0.8888888888888888,\"#fdca26\"],[1.0,\"#f0f921\"]],\"diverging\":[[0,\"#8e0152\"],[0.1,\"#c51b7d\"],[0.2,\"#de77ae\"],[0.3,\"#f1b6da\"],[0.4,\"#fde0ef\"],[0.5,\"#f7f7f7\"],[0.6,\"#e6f5d0\"],[0.7,\"#b8e186\"],[0.8,\"#7fbc41\"],[0.9,\"#4d9221\"],[1,\"#276419\"]]},\"xaxis\":{\"gridcolor\":\"white\",\"linecolor\":\"white\",\"ticks\":\"\",\"title\":{\"standoff\":15},\"zerolinecolor\":\"white\",\"automargin\":true,\"zerolinewidth\":2},\"yaxis\":{\"gridcolor\":\"white\",\"linecolor\":\"white\",\"ticks\":\"\",\"title\":{\"standoff\":15},\"zerolinecolor\":\"white\",\"automargin\":true,\"zerolinewidth\":2},\"scene\":{\"xaxis\":{\"backgroundcolor\":\"#E5ECF6\",\"gridcolor\":\"white\",\"linecolor\":\"white\",\"showbackground\":true,\"ticks\":\"\",\"zerolinecolor\":\"white\",\"gridwidth\":2},\"yaxis\":{\"backgroundcolor\":\"#E5ECF6\",\"gridcolor\":\"white\",\"linecolor\":\"white\",\"showbackground\":true,\"ticks\":\"\",\"zerolinecolor\":\"white\",\"gridwidth\":2},\"zaxis\":{\"backgroundcolor\":\"#E5ECF6\",\"gridcolor\":\"white\",\"linecolor\":\"white\",\"showbackground\":true,\"ticks\":\"\",\"zerolinecolor\":\"white\",\"gridwidth\":2}},\"shapedefaults\":{\"line\":{\"color\":\"#2a3f5f\"}},\"annotationdefaults\":{\"arrowcolor\":\"#2a3f5f\",\"arrowhead\":0,\"arrowwidth\":1},\"geo\":{\"bgcolor\":\"white\",\"landcolor\":\"#E5ECF6\",\"subunitcolor\":\"white\",\"showland\":true,\"showlakes\":true,\"lakecolor\":\"white\"},\"title\":{\"x\":0.05},\"mapbox\":{\"style\":\"light\"}}},\"xaxis\":{\"anchor\":\"y\",\"domain\":[0.0,1.0],\"title\":{\"text\":\"Rating\"},\"categoryorder\":\"array\",\"categoryarray\":[\"V4\",\"V6\",\"V7\",\"V9\"]},\"yaxis\":{\"anchor\":\"x\",\"domain\":[0.0,1.0],\"title\":{\"text\":\"count\"}},\"coloraxis\":{\"colorbar\":{\"title\":{\"text\":\"Months Ago\"}},\"colorscale\":[[0.0,\"#0d0887\"],[0.1111111111111111,\"#46039f\"],[0.2222222222222222,\"#7201a8\"],[0.3333333333333333,\"#9c179e\"],[0.4444444444444444,\"#bd3786\"],[0.5555555555555556,\"#d8576b\"],[0.6666666666666666,\"#ed7953\"],[0.7777777777777778,\"#fb9f3a\"],[0.8888888888888888,\"#fdca26\"],[1.0,\"#f0f921\"]]},\"legend\":{\"tracegroupgap\":0},\"title\":{\"text\":\"Route by Rating, Stacked by Age\"},\"barmode\":\"stack\"},                        {\"responsive\": true}                    ).then(function(){\n",
       "                            \n",
       "var gd = document.getElementById('43a645b3-58d3-4bc2-8ed7-dd6438cb096e');\n",
       "var x = new MutationObserver(function (mutations, observer) {{\n",
       "        var display = window.getComputedStyle(gd).display;\n",
       "        if (!display || display === 'none') {{\n",
       "            console.log([gd, 'removed!']);\n",
       "            Plotly.purge(gd);\n",
       "            observer.disconnect();\n",
       "        }}\n",
       "}});\n",
       "\n",
       "// Listen for the removal of the full notebook cells\n",
       "var notebookContainer = gd.closest('#notebook-container');\n",
       "if (notebookContainer) {{\n",
       "    x.observe(notebookContainer, {childList: true});\n",
       "}}\n",
       "\n",
       "// Listen for the clearing of the current output cell\n",
       "var outputEl = gd.closest('.output');\n",
       "if (outputEl) {{\n",
       "    x.observe(outputEl, {childList: true});\n",
       "}}\n",
       "\n",
       "                        })                };                });            </script>        </div>"
      ]
     },
     "metadata": {},
     "output_type": "display_data"
    }
   ],
   "source": [
    "plot(boulderingdf)"
   ]
  },
  {
   "cell_type": "markdown",
   "id": "7961cc3b",
   "metadata": {},
   "source": [
    "# Reference"
   ]
  },
  {
   "cell_type": "code",
   "execution_count": 27,
   "id": "db6e6dda",
   "metadata": {},
   "outputs": [],
   "source": [
    "## Scraping javascript dynamic search data"
   ]
  },
  {
   "cell_type": "code",
   "execution_count": 28,
   "id": "ca7067be",
   "metadata": {
    "collapsed": true
   },
   "outputs": [
    {
     "ename": "KeyboardInterrupt",
     "evalue": "",
     "output_type": "error",
     "traceback": [
      "\u001b[0;31m---------------------------------------------------------------------------\u001b[0m",
      "\u001b[0;31mKeyboardInterrupt\u001b[0m                         Traceback (most recent call last)",
      "Cell \u001b[0;32mIn[28], line 7\u001b[0m\n\u001b[1;32m      4\u001b[0m \u001b[38;5;28;01mfrom\u001b[39;00m \u001b[38;5;21;01mselenium\u001b[39;00m\u001b[38;5;21;01m.\u001b[39;00m\u001b[38;5;21;01mwebdriver\u001b[39;00m\u001b[38;5;21;01m.\u001b[39;00m\u001b[38;5;21;01msupport\u001b[39;00m \u001b[38;5;28;01mimport\u001b[39;00m expected_conditions \u001b[38;5;28;01mas\u001b[39;00m EC\n\u001b[1;32m      6\u001b[0m \u001b[38;5;66;03m# Set up the browser\u001b[39;00m\n\u001b[0;32m----> 7\u001b[0m browser \u001b[38;5;241m=\u001b[39m \u001b[43mwebdriver\u001b[49m\u001b[38;5;241;43m.\u001b[39;49m\u001b[43mChrome\u001b[49m\u001b[43m(\u001b[49m\u001b[43m)\u001b[49m\n\u001b[1;32m      8\u001b[0m browser\u001b[38;5;241m.\u001b[39mget(\u001b[38;5;124m\"\u001b[39m\u001b[38;5;124mhttps://www.mountainproject.com/search?q=seth-drew&type=users\u001b[39m\u001b[38;5;124m\"\u001b[39m)\n\u001b[1;32m     10\u001b[0m \u001b[38;5;66;03m# Wait for the data to load\u001b[39;00m\n",
      "File \u001b[0;32m~/Documents/climb/venv/lib/python3.10/site-packages/selenium/webdriver/chrome/webdriver.py:80\u001b[0m, in \u001b[0;36mWebDriver.__init__\u001b[0;34m(self, executable_path, port, options, service_args, desired_capabilities, service_log_path, chrome_options, service, keep_alive)\u001b[0m\n\u001b[1;32m     77\u001b[0m \u001b[38;5;28;01mif\u001b[39;00m \u001b[38;5;129;01mnot\u001b[39;00m service:\n\u001b[1;32m     78\u001b[0m     service \u001b[38;5;241m=\u001b[39m Service(executable_path, port, service_args, service_log_path)\n\u001b[0;32m---> 80\u001b[0m \u001b[38;5;28;43msuper\u001b[39;49m\u001b[43m(\u001b[49m\u001b[43m)\u001b[49m\u001b[38;5;241;43m.\u001b[39;49m\u001b[38;5;21;43m__init__\u001b[39;49m\u001b[43m(\u001b[49m\n\u001b[1;32m     81\u001b[0m \u001b[43m    \u001b[49m\u001b[43mDesiredCapabilities\u001b[49m\u001b[38;5;241;43m.\u001b[39;49m\u001b[43mCHROME\u001b[49m\u001b[43m[\u001b[49m\u001b[38;5;124;43m\"\u001b[39;49m\u001b[38;5;124;43mbrowserName\u001b[39;49m\u001b[38;5;124;43m\"\u001b[39;49m\u001b[43m]\u001b[49m\u001b[43m,\u001b[49m\n\u001b[1;32m     82\u001b[0m \u001b[43m    \u001b[49m\u001b[38;5;124;43m\"\u001b[39;49m\u001b[38;5;124;43mgoog\u001b[39;49m\u001b[38;5;124;43m\"\u001b[39;49m\u001b[43m,\u001b[49m\n\u001b[1;32m     83\u001b[0m \u001b[43m    \u001b[49m\u001b[43mport\u001b[49m\u001b[43m,\u001b[49m\n\u001b[1;32m     84\u001b[0m \u001b[43m    \u001b[49m\u001b[43moptions\u001b[49m\u001b[43m,\u001b[49m\n\u001b[1;32m     85\u001b[0m \u001b[43m    \u001b[49m\u001b[43mservice_args\u001b[49m\u001b[43m,\u001b[49m\n\u001b[1;32m     86\u001b[0m \u001b[43m    \u001b[49m\u001b[43mdesired_capabilities\u001b[49m\u001b[43m,\u001b[49m\n\u001b[1;32m     87\u001b[0m \u001b[43m    \u001b[49m\u001b[43mservice_log_path\u001b[49m\u001b[43m,\u001b[49m\n\u001b[1;32m     88\u001b[0m \u001b[43m    \u001b[49m\u001b[43mservice\u001b[49m\u001b[43m,\u001b[49m\n\u001b[1;32m     89\u001b[0m \u001b[43m    \u001b[49m\u001b[43mkeep_alive\u001b[49m\u001b[43m,\u001b[49m\n\u001b[1;32m     90\u001b[0m \u001b[43m\u001b[49m\u001b[43m)\u001b[49m\n",
      "File \u001b[0;32m~/Documents/climb/venv/lib/python3.10/site-packages/selenium/webdriver/chromium/webdriver.py:104\u001b[0m, in \u001b[0;36mChromiumDriver.__init__\u001b[0;34m(self, browser_name, vendor_prefix, port, options, service_args, desired_capabilities, service_log_path, service, keep_alive)\u001b[0m\n\u001b[1;32m    101\u001b[0m \u001b[38;5;28mself\u001b[39m\u001b[38;5;241m.\u001b[39mservice\u001b[38;5;241m.\u001b[39mstart()\n\u001b[1;32m    103\u001b[0m \u001b[38;5;28;01mtry\u001b[39;00m:\n\u001b[0;32m--> 104\u001b[0m     \u001b[38;5;28;43msuper\u001b[39;49m\u001b[43m(\u001b[49m\u001b[43m)\u001b[49m\u001b[38;5;241;43m.\u001b[39;49m\u001b[38;5;21;43m__init__\u001b[39;49m\u001b[43m(\u001b[49m\n\u001b[1;32m    105\u001b[0m \u001b[43m        \u001b[49m\u001b[43mcommand_executor\u001b[49m\u001b[38;5;241;43m=\u001b[39;49m\u001b[43mChromiumRemoteConnection\u001b[49m\u001b[43m(\u001b[49m\n\u001b[1;32m    106\u001b[0m \u001b[43m            \u001b[49m\u001b[43mremote_server_addr\u001b[49m\u001b[38;5;241;43m=\u001b[39;49m\u001b[38;5;28;43mself\u001b[39;49m\u001b[38;5;241;43m.\u001b[39;49m\u001b[43mservice\u001b[49m\u001b[38;5;241;43m.\u001b[39;49m\u001b[43mservice_url\u001b[49m\u001b[43m,\u001b[49m\n\u001b[1;32m    107\u001b[0m \u001b[43m            \u001b[49m\u001b[43mbrowser_name\u001b[49m\u001b[38;5;241;43m=\u001b[39;49m\u001b[43mbrowser_name\u001b[49m\u001b[43m,\u001b[49m\n\u001b[1;32m    108\u001b[0m \u001b[43m            \u001b[49m\u001b[43mvendor_prefix\u001b[49m\u001b[38;5;241;43m=\u001b[39;49m\u001b[43mvendor_prefix\u001b[49m\u001b[43m,\u001b[49m\n\u001b[1;32m    109\u001b[0m \u001b[43m            \u001b[49m\u001b[43mkeep_alive\u001b[49m\u001b[38;5;241;43m=\u001b[39;49m\u001b[43mkeep_alive\u001b[49m\u001b[43m,\u001b[49m\n\u001b[1;32m    110\u001b[0m \u001b[43m            \u001b[49m\u001b[43mignore_proxy\u001b[49m\u001b[38;5;241;43m=\u001b[39;49m\u001b[43m_ignore_proxy\u001b[49m\u001b[43m,\u001b[49m\n\u001b[1;32m    111\u001b[0m \u001b[43m        \u001b[49m\u001b[43m)\u001b[49m\u001b[43m,\u001b[49m\n\u001b[1;32m    112\u001b[0m \u001b[43m        \u001b[49m\u001b[43moptions\u001b[49m\u001b[38;5;241;43m=\u001b[39;49m\u001b[43moptions\u001b[49m\u001b[43m,\u001b[49m\n\u001b[1;32m    113\u001b[0m \u001b[43m    \u001b[49m\u001b[43m)\u001b[49m\n\u001b[1;32m    114\u001b[0m \u001b[38;5;28;01mexcept\u001b[39;00m \u001b[38;5;167;01mException\u001b[39;00m:\n\u001b[1;32m    115\u001b[0m     \u001b[38;5;28mself\u001b[39m\u001b[38;5;241m.\u001b[39mquit()\n",
      "File \u001b[0;32m~/Documents/climb/venv/lib/python3.10/site-packages/selenium/webdriver/remote/webdriver.py:286\u001b[0m, in \u001b[0;36mWebDriver.__init__\u001b[0;34m(self, command_executor, desired_capabilities, browser_profile, proxy, keep_alive, file_detector, options)\u001b[0m\n\u001b[1;32m    284\u001b[0m \u001b[38;5;28mself\u001b[39m\u001b[38;5;241m.\u001b[39m_authenticator_id \u001b[38;5;241m=\u001b[39m \u001b[38;5;28;01mNone\u001b[39;00m\n\u001b[1;32m    285\u001b[0m \u001b[38;5;28mself\u001b[39m\u001b[38;5;241m.\u001b[39mstart_client()\n\u001b[0;32m--> 286\u001b[0m \u001b[38;5;28;43mself\u001b[39;49m\u001b[38;5;241;43m.\u001b[39;49m\u001b[43mstart_session\u001b[49m\u001b[43m(\u001b[49m\u001b[43mcapabilities\u001b[49m\u001b[43m,\u001b[49m\u001b[43m \u001b[49m\u001b[43mbrowser_profile\u001b[49m\u001b[43m)\u001b[49m\n",
      "File \u001b[0;32m~/Documents/climb/venv/lib/python3.10/site-packages/selenium/webdriver/remote/webdriver.py:378\u001b[0m, in \u001b[0;36mWebDriver.start_session\u001b[0;34m(self, capabilities, browser_profile)\u001b[0m\n\u001b[1;32m    376\u001b[0m w3c_caps \u001b[38;5;241m=\u001b[39m _make_w3c_caps(capabilities)\n\u001b[1;32m    377\u001b[0m parameters \u001b[38;5;241m=\u001b[39m {\u001b[38;5;124m\"\u001b[39m\u001b[38;5;124mcapabilities\u001b[39m\u001b[38;5;124m\"\u001b[39m: w3c_caps}\n\u001b[0;32m--> 378\u001b[0m response \u001b[38;5;241m=\u001b[39m \u001b[38;5;28;43mself\u001b[39;49m\u001b[38;5;241;43m.\u001b[39;49m\u001b[43mexecute\u001b[49m\u001b[43m(\u001b[49m\u001b[43mCommand\u001b[49m\u001b[38;5;241;43m.\u001b[39;49m\u001b[43mNEW_SESSION\u001b[49m\u001b[43m,\u001b[49m\u001b[43m \u001b[49m\u001b[43mparameters\u001b[49m\u001b[43m)\u001b[49m\n\u001b[1;32m    379\u001b[0m \u001b[38;5;28;01mif\u001b[39;00m \u001b[38;5;124m\"\u001b[39m\u001b[38;5;124msessionId\u001b[39m\u001b[38;5;124m\"\u001b[39m \u001b[38;5;129;01mnot\u001b[39;00m \u001b[38;5;129;01min\u001b[39;00m response:\n\u001b[1;32m    380\u001b[0m     response \u001b[38;5;241m=\u001b[39m response[\u001b[38;5;124m\"\u001b[39m\u001b[38;5;124mvalue\u001b[39m\u001b[38;5;124m\"\u001b[39m]\n",
      "File \u001b[0;32m~/Documents/climb/venv/lib/python3.10/site-packages/selenium/webdriver/remote/webdriver.py:438\u001b[0m, in \u001b[0;36mWebDriver.execute\u001b[0;34m(self, driver_command, params)\u001b[0m\n\u001b[1;32m    435\u001b[0m     \u001b[38;5;28;01melif\u001b[39;00m \u001b[38;5;124m\"\u001b[39m\u001b[38;5;124msessionId\u001b[39m\u001b[38;5;124m\"\u001b[39m \u001b[38;5;129;01mnot\u001b[39;00m \u001b[38;5;129;01min\u001b[39;00m params:\n\u001b[1;32m    436\u001b[0m         params[\u001b[38;5;124m\"\u001b[39m\u001b[38;5;124msessionId\u001b[39m\u001b[38;5;124m\"\u001b[39m] \u001b[38;5;241m=\u001b[39m \u001b[38;5;28mself\u001b[39m\u001b[38;5;241m.\u001b[39msession_id\n\u001b[0;32m--> 438\u001b[0m response \u001b[38;5;241m=\u001b[39m \u001b[38;5;28;43mself\u001b[39;49m\u001b[38;5;241;43m.\u001b[39;49m\u001b[43mcommand_executor\u001b[49m\u001b[38;5;241;43m.\u001b[39;49m\u001b[43mexecute\u001b[49m\u001b[43m(\u001b[49m\u001b[43mdriver_command\u001b[49m\u001b[43m,\u001b[49m\u001b[43m \u001b[49m\u001b[43mparams\u001b[49m\u001b[43m)\u001b[49m\n\u001b[1;32m    439\u001b[0m \u001b[38;5;28;01mif\u001b[39;00m response:\n\u001b[1;32m    440\u001b[0m     \u001b[38;5;28mself\u001b[39m\u001b[38;5;241m.\u001b[39merror_handler\u001b[38;5;241m.\u001b[39mcheck_response(response)\n",
      "File \u001b[0;32m~/Documents/climb/venv/lib/python3.10/site-packages/selenium/webdriver/remote/remote_connection.py:290\u001b[0m, in \u001b[0;36mRemoteConnection.execute\u001b[0;34m(self, command, params)\u001b[0m\n\u001b[1;32m    288\u001b[0m data \u001b[38;5;241m=\u001b[39m utils\u001b[38;5;241m.\u001b[39mdump_json(params)\n\u001b[1;32m    289\u001b[0m url \u001b[38;5;241m=\u001b[39m \u001b[38;5;124mf\u001b[39m\u001b[38;5;124m\"\u001b[39m\u001b[38;5;132;01m{\u001b[39;00m\u001b[38;5;28mself\u001b[39m\u001b[38;5;241m.\u001b[39m_url\u001b[38;5;132;01m}\u001b[39;00m\u001b[38;5;132;01m{\u001b[39;00mpath\u001b[38;5;132;01m}\u001b[39;00m\u001b[38;5;124m\"\u001b[39m\n\u001b[0;32m--> 290\u001b[0m \u001b[38;5;28;01mreturn\u001b[39;00m \u001b[38;5;28;43mself\u001b[39;49m\u001b[38;5;241;43m.\u001b[39;49m\u001b[43m_request\u001b[49m\u001b[43m(\u001b[49m\u001b[43mcommand_info\u001b[49m\u001b[43m[\u001b[49m\u001b[38;5;241;43m0\u001b[39;49m\u001b[43m]\u001b[49m\u001b[43m,\u001b[49m\u001b[43m \u001b[49m\u001b[43murl\u001b[49m\u001b[43m,\u001b[49m\u001b[43m \u001b[49m\u001b[43mbody\u001b[49m\u001b[38;5;241;43m=\u001b[39;49m\u001b[43mdata\u001b[49m\u001b[43m)\u001b[49m\n",
      "File \u001b[0;32m~/Documents/climb/venv/lib/python3.10/site-packages/selenium/webdriver/remote/remote_connection.py:311\u001b[0m, in \u001b[0;36mRemoteConnection._request\u001b[0;34m(self, method, url, body)\u001b[0m\n\u001b[1;32m    308\u001b[0m     body \u001b[38;5;241m=\u001b[39m \u001b[38;5;28;01mNone\u001b[39;00m\n\u001b[1;32m    310\u001b[0m \u001b[38;5;28;01mif\u001b[39;00m \u001b[38;5;28mself\u001b[39m\u001b[38;5;241m.\u001b[39mkeep_alive:\n\u001b[0;32m--> 311\u001b[0m     response \u001b[38;5;241m=\u001b[39m \u001b[38;5;28;43mself\u001b[39;49m\u001b[38;5;241;43m.\u001b[39;49m\u001b[43m_conn\u001b[49m\u001b[38;5;241;43m.\u001b[39;49m\u001b[43mrequest\u001b[49m\u001b[43m(\u001b[49m\u001b[43mmethod\u001b[49m\u001b[43m,\u001b[49m\u001b[43m \u001b[49m\u001b[43murl\u001b[49m\u001b[43m,\u001b[49m\u001b[43m \u001b[49m\u001b[43mbody\u001b[49m\u001b[38;5;241;43m=\u001b[39;49m\u001b[43mbody\u001b[49m\u001b[43m,\u001b[49m\u001b[43m \u001b[49m\u001b[43mheaders\u001b[49m\u001b[38;5;241;43m=\u001b[39;49m\u001b[43mheaders\u001b[49m\u001b[43m)\u001b[49m\n\u001b[1;32m    312\u001b[0m     statuscode \u001b[38;5;241m=\u001b[39m response\u001b[38;5;241m.\u001b[39mstatus\n\u001b[1;32m    313\u001b[0m \u001b[38;5;28;01melse\u001b[39;00m:\n",
      "File \u001b[0;32m~/Documents/climb/venv/lib/python3.10/site-packages/urllib3/request.py:78\u001b[0m, in \u001b[0;36mRequestMethods.request\u001b[0;34m(self, method, url, fields, headers, **urlopen_kw)\u001b[0m\n\u001b[1;32m     74\u001b[0m     \u001b[38;5;28;01mreturn\u001b[39;00m \u001b[38;5;28mself\u001b[39m\u001b[38;5;241m.\u001b[39mrequest_encode_url(\n\u001b[1;32m     75\u001b[0m         method, url, fields\u001b[38;5;241m=\u001b[39mfields, headers\u001b[38;5;241m=\u001b[39mheaders, \u001b[38;5;241m*\u001b[39m\u001b[38;5;241m*\u001b[39murlopen_kw\n\u001b[1;32m     76\u001b[0m     )\n\u001b[1;32m     77\u001b[0m \u001b[38;5;28;01melse\u001b[39;00m:\n\u001b[0;32m---> 78\u001b[0m     \u001b[38;5;28;01mreturn\u001b[39;00m \u001b[38;5;28;43mself\u001b[39;49m\u001b[38;5;241;43m.\u001b[39;49m\u001b[43mrequest_encode_body\u001b[49m\u001b[43m(\u001b[49m\n\u001b[1;32m     79\u001b[0m \u001b[43m        \u001b[49m\u001b[43mmethod\u001b[49m\u001b[43m,\u001b[49m\u001b[43m \u001b[49m\u001b[43murl\u001b[49m\u001b[43m,\u001b[49m\u001b[43m \u001b[49m\u001b[43mfields\u001b[49m\u001b[38;5;241;43m=\u001b[39;49m\u001b[43mfields\u001b[49m\u001b[43m,\u001b[49m\u001b[43m \u001b[49m\u001b[43mheaders\u001b[49m\u001b[38;5;241;43m=\u001b[39;49m\u001b[43mheaders\u001b[49m\u001b[43m,\u001b[49m\u001b[43m \u001b[49m\u001b[38;5;241;43m*\u001b[39;49m\u001b[38;5;241;43m*\u001b[39;49m\u001b[43murlopen_kw\u001b[49m\n\u001b[1;32m     80\u001b[0m \u001b[43m    \u001b[49m\u001b[43m)\u001b[49m\n",
      "File \u001b[0;32m~/Documents/climb/venv/lib/python3.10/site-packages/urllib3/request.py:170\u001b[0m, in \u001b[0;36mRequestMethods.request_encode_body\u001b[0;34m(self, method, url, fields, headers, encode_multipart, multipart_boundary, **urlopen_kw)\u001b[0m\n\u001b[1;32m    167\u001b[0m extra_kw[\u001b[38;5;124m\"\u001b[39m\u001b[38;5;124mheaders\u001b[39m\u001b[38;5;124m\"\u001b[39m]\u001b[38;5;241m.\u001b[39mupdate(headers)\n\u001b[1;32m    168\u001b[0m extra_kw\u001b[38;5;241m.\u001b[39mupdate(urlopen_kw)\n\u001b[0;32m--> 170\u001b[0m \u001b[38;5;28;01mreturn\u001b[39;00m \u001b[38;5;28;43mself\u001b[39;49m\u001b[38;5;241;43m.\u001b[39;49m\u001b[43murlopen\u001b[49m\u001b[43m(\u001b[49m\u001b[43mmethod\u001b[49m\u001b[43m,\u001b[49m\u001b[43m \u001b[49m\u001b[43murl\u001b[49m\u001b[43m,\u001b[49m\u001b[43m \u001b[49m\u001b[38;5;241;43m*\u001b[39;49m\u001b[38;5;241;43m*\u001b[39;49m\u001b[43mextra_kw\u001b[49m\u001b[43m)\u001b[49m\n",
      "File \u001b[0;32m~/Documents/climb/venv/lib/python3.10/site-packages/urllib3/poolmanager.py:376\u001b[0m, in \u001b[0;36mPoolManager.urlopen\u001b[0;34m(self, method, url, redirect, **kw)\u001b[0m\n\u001b[1;32m    374\u001b[0m     response \u001b[38;5;241m=\u001b[39m conn\u001b[38;5;241m.\u001b[39murlopen(method, url, \u001b[38;5;241m*\u001b[39m\u001b[38;5;241m*\u001b[39mkw)\n\u001b[1;32m    375\u001b[0m \u001b[38;5;28;01melse\u001b[39;00m:\n\u001b[0;32m--> 376\u001b[0m     response \u001b[38;5;241m=\u001b[39m \u001b[43mconn\u001b[49m\u001b[38;5;241;43m.\u001b[39;49m\u001b[43murlopen\u001b[49m\u001b[43m(\u001b[49m\u001b[43mmethod\u001b[49m\u001b[43m,\u001b[49m\u001b[43m \u001b[49m\u001b[43mu\u001b[49m\u001b[38;5;241;43m.\u001b[39;49m\u001b[43mrequest_uri\u001b[49m\u001b[43m,\u001b[49m\u001b[43m \u001b[49m\u001b[38;5;241;43m*\u001b[39;49m\u001b[38;5;241;43m*\u001b[39;49m\u001b[43mkw\u001b[49m\u001b[43m)\u001b[49m\n\u001b[1;32m    378\u001b[0m redirect_location \u001b[38;5;241m=\u001b[39m redirect \u001b[38;5;129;01mand\u001b[39;00m response\u001b[38;5;241m.\u001b[39mget_redirect_location()\n\u001b[1;32m    379\u001b[0m \u001b[38;5;28;01mif\u001b[39;00m \u001b[38;5;129;01mnot\u001b[39;00m redirect_location:\n",
      "File \u001b[0;32m~/Documents/climb/venv/lib/python3.10/site-packages/urllib3/connectionpool.py:703\u001b[0m, in \u001b[0;36mHTTPConnectionPool.urlopen\u001b[0;34m(self, method, url, body, headers, retries, redirect, assert_same_host, timeout, pool_timeout, release_conn, chunked, body_pos, **response_kw)\u001b[0m\n\u001b[1;32m    700\u001b[0m     \u001b[38;5;28mself\u001b[39m\u001b[38;5;241m.\u001b[39m_prepare_proxy(conn)\n\u001b[1;32m    702\u001b[0m \u001b[38;5;66;03m# Make the request on the httplib connection object.\u001b[39;00m\n\u001b[0;32m--> 703\u001b[0m httplib_response \u001b[38;5;241m=\u001b[39m \u001b[38;5;28;43mself\u001b[39;49m\u001b[38;5;241;43m.\u001b[39;49m\u001b[43m_make_request\u001b[49m\u001b[43m(\u001b[49m\n\u001b[1;32m    704\u001b[0m \u001b[43m    \u001b[49m\u001b[43mconn\u001b[49m\u001b[43m,\u001b[49m\n\u001b[1;32m    705\u001b[0m \u001b[43m    \u001b[49m\u001b[43mmethod\u001b[49m\u001b[43m,\u001b[49m\n\u001b[1;32m    706\u001b[0m \u001b[43m    \u001b[49m\u001b[43murl\u001b[49m\u001b[43m,\u001b[49m\n\u001b[1;32m    707\u001b[0m \u001b[43m    \u001b[49m\u001b[43mtimeout\u001b[49m\u001b[38;5;241;43m=\u001b[39;49m\u001b[43mtimeout_obj\u001b[49m\u001b[43m,\u001b[49m\n\u001b[1;32m    708\u001b[0m \u001b[43m    \u001b[49m\u001b[43mbody\u001b[49m\u001b[38;5;241;43m=\u001b[39;49m\u001b[43mbody\u001b[49m\u001b[43m,\u001b[49m\n\u001b[1;32m    709\u001b[0m \u001b[43m    \u001b[49m\u001b[43mheaders\u001b[49m\u001b[38;5;241;43m=\u001b[39;49m\u001b[43mheaders\u001b[49m\u001b[43m,\u001b[49m\n\u001b[1;32m    710\u001b[0m \u001b[43m    \u001b[49m\u001b[43mchunked\u001b[49m\u001b[38;5;241;43m=\u001b[39;49m\u001b[43mchunked\u001b[49m\u001b[43m,\u001b[49m\n\u001b[1;32m    711\u001b[0m \u001b[43m\u001b[49m\u001b[43m)\u001b[49m\n\u001b[1;32m    713\u001b[0m \u001b[38;5;66;03m# If we're going to release the connection in ``finally:``, then\u001b[39;00m\n\u001b[1;32m    714\u001b[0m \u001b[38;5;66;03m# the response doesn't need to know about the connection. Otherwise\u001b[39;00m\n\u001b[1;32m    715\u001b[0m \u001b[38;5;66;03m# it will also try to release it and we'll have a double-release\u001b[39;00m\n\u001b[1;32m    716\u001b[0m \u001b[38;5;66;03m# mess.\u001b[39;00m\n\u001b[1;32m    717\u001b[0m response_conn \u001b[38;5;241m=\u001b[39m conn \u001b[38;5;28;01mif\u001b[39;00m \u001b[38;5;129;01mnot\u001b[39;00m release_conn \u001b[38;5;28;01melse\u001b[39;00m \u001b[38;5;28;01mNone\u001b[39;00m\n",
      "File \u001b[0;32m~/Documents/climb/venv/lib/python3.10/site-packages/urllib3/connectionpool.py:449\u001b[0m, in \u001b[0;36mHTTPConnectionPool._make_request\u001b[0;34m(self, conn, method, url, timeout, chunked, **httplib_request_kw)\u001b[0m\n\u001b[1;32m    444\u001b[0m             httplib_response \u001b[38;5;241m=\u001b[39m conn\u001b[38;5;241m.\u001b[39mgetresponse()\n\u001b[1;32m    445\u001b[0m         \u001b[38;5;28;01mexcept\u001b[39;00m \u001b[38;5;167;01mBaseException\u001b[39;00m \u001b[38;5;28;01mas\u001b[39;00m e:\n\u001b[1;32m    446\u001b[0m             \u001b[38;5;66;03m# Remove the TypeError from the exception chain in\u001b[39;00m\n\u001b[1;32m    447\u001b[0m             \u001b[38;5;66;03m# Python 3 (including for exceptions like SystemExit).\u001b[39;00m\n\u001b[1;32m    448\u001b[0m             \u001b[38;5;66;03m# Otherwise it looks like a bug in the code.\u001b[39;00m\n\u001b[0;32m--> 449\u001b[0m             \u001b[43msix\u001b[49m\u001b[38;5;241;43m.\u001b[39;49m\u001b[43mraise_from\u001b[49m\u001b[43m(\u001b[49m\u001b[43me\u001b[49m\u001b[43m,\u001b[49m\u001b[43m \u001b[49m\u001b[38;5;28;43;01mNone\u001b[39;49;00m\u001b[43m)\u001b[49m\n\u001b[1;32m    450\u001b[0m \u001b[38;5;28;01mexcept\u001b[39;00m (SocketTimeout, BaseSSLError, SocketError) \u001b[38;5;28;01mas\u001b[39;00m e:\n\u001b[1;32m    451\u001b[0m     \u001b[38;5;28mself\u001b[39m\u001b[38;5;241m.\u001b[39m_raise_timeout(err\u001b[38;5;241m=\u001b[39me, url\u001b[38;5;241m=\u001b[39murl, timeout_value\u001b[38;5;241m=\u001b[39mread_timeout)\n",
      "File \u001b[0;32m<string>:3\u001b[0m, in \u001b[0;36mraise_from\u001b[0;34m(value, from_value)\u001b[0m\n",
      "File \u001b[0;32m~/Documents/climb/venv/lib/python3.10/site-packages/urllib3/connectionpool.py:444\u001b[0m, in \u001b[0;36mHTTPConnectionPool._make_request\u001b[0;34m(self, conn, method, url, timeout, chunked, **httplib_request_kw)\u001b[0m\n\u001b[1;32m    441\u001b[0m \u001b[38;5;28;01mexcept\u001b[39;00m \u001b[38;5;167;01mTypeError\u001b[39;00m:\n\u001b[1;32m    442\u001b[0m     \u001b[38;5;66;03m# Python 3\u001b[39;00m\n\u001b[1;32m    443\u001b[0m     \u001b[38;5;28;01mtry\u001b[39;00m:\n\u001b[0;32m--> 444\u001b[0m         httplib_response \u001b[38;5;241m=\u001b[39m \u001b[43mconn\u001b[49m\u001b[38;5;241;43m.\u001b[39;49m\u001b[43mgetresponse\u001b[49m\u001b[43m(\u001b[49m\u001b[43m)\u001b[49m\n\u001b[1;32m    445\u001b[0m     \u001b[38;5;28;01mexcept\u001b[39;00m \u001b[38;5;167;01mBaseException\u001b[39;00m \u001b[38;5;28;01mas\u001b[39;00m e:\n\u001b[1;32m    446\u001b[0m         \u001b[38;5;66;03m# Remove the TypeError from the exception chain in\u001b[39;00m\n\u001b[1;32m    447\u001b[0m         \u001b[38;5;66;03m# Python 3 (including for exceptions like SystemExit).\u001b[39;00m\n\u001b[1;32m    448\u001b[0m         \u001b[38;5;66;03m# Otherwise it looks like a bug in the code.\u001b[39;00m\n\u001b[1;32m    449\u001b[0m         six\u001b[38;5;241m.\u001b[39mraise_from(e, \u001b[38;5;28;01mNone\u001b[39;00m)\n",
      "File \u001b[0;32m/opt/homebrew/Cellar/python@3.10/3.10.9/Frameworks/Python.framework/Versions/3.10/lib/python3.10/http/client.py:1374\u001b[0m, in \u001b[0;36mHTTPConnection.getresponse\u001b[0;34m(self)\u001b[0m\n\u001b[1;32m   1372\u001b[0m \u001b[38;5;28;01mtry\u001b[39;00m:\n\u001b[1;32m   1373\u001b[0m     \u001b[38;5;28;01mtry\u001b[39;00m:\n\u001b[0;32m-> 1374\u001b[0m         \u001b[43mresponse\u001b[49m\u001b[38;5;241;43m.\u001b[39;49m\u001b[43mbegin\u001b[49m\u001b[43m(\u001b[49m\u001b[43m)\u001b[49m\n\u001b[1;32m   1375\u001b[0m     \u001b[38;5;28;01mexcept\u001b[39;00m \u001b[38;5;167;01mConnectionError\u001b[39;00m:\n\u001b[1;32m   1376\u001b[0m         \u001b[38;5;28mself\u001b[39m\u001b[38;5;241m.\u001b[39mclose()\n",
      "File \u001b[0;32m/opt/homebrew/Cellar/python@3.10/3.10.9/Frameworks/Python.framework/Versions/3.10/lib/python3.10/http/client.py:318\u001b[0m, in \u001b[0;36mHTTPResponse.begin\u001b[0;34m(self)\u001b[0m\n\u001b[1;32m    316\u001b[0m \u001b[38;5;66;03m# read until we get a non-100 response\u001b[39;00m\n\u001b[1;32m    317\u001b[0m \u001b[38;5;28;01mwhile\u001b[39;00m \u001b[38;5;28;01mTrue\u001b[39;00m:\n\u001b[0;32m--> 318\u001b[0m     version, status, reason \u001b[38;5;241m=\u001b[39m \u001b[38;5;28;43mself\u001b[39;49m\u001b[38;5;241;43m.\u001b[39;49m\u001b[43m_read_status\u001b[49m\u001b[43m(\u001b[49m\u001b[43m)\u001b[49m\n\u001b[1;32m    319\u001b[0m     \u001b[38;5;28;01mif\u001b[39;00m status \u001b[38;5;241m!=\u001b[39m CONTINUE:\n\u001b[1;32m    320\u001b[0m         \u001b[38;5;28;01mbreak\u001b[39;00m\n",
      "File \u001b[0;32m/opt/homebrew/Cellar/python@3.10/3.10.9/Frameworks/Python.framework/Versions/3.10/lib/python3.10/http/client.py:279\u001b[0m, in \u001b[0;36mHTTPResponse._read_status\u001b[0;34m(self)\u001b[0m\n\u001b[1;32m    278\u001b[0m \u001b[38;5;28;01mdef\u001b[39;00m \u001b[38;5;21m_read_status\u001b[39m(\u001b[38;5;28mself\u001b[39m):\n\u001b[0;32m--> 279\u001b[0m     line \u001b[38;5;241m=\u001b[39m \u001b[38;5;28mstr\u001b[39m(\u001b[38;5;28;43mself\u001b[39;49m\u001b[38;5;241;43m.\u001b[39;49m\u001b[43mfp\u001b[49m\u001b[38;5;241;43m.\u001b[39;49m\u001b[43mreadline\u001b[49m\u001b[43m(\u001b[49m\u001b[43m_MAXLINE\u001b[49m\u001b[43m \u001b[49m\u001b[38;5;241;43m+\u001b[39;49m\u001b[43m \u001b[49m\u001b[38;5;241;43m1\u001b[39;49m\u001b[43m)\u001b[49m, \u001b[38;5;124m\"\u001b[39m\u001b[38;5;124miso-8859-1\u001b[39m\u001b[38;5;124m\"\u001b[39m)\n\u001b[1;32m    280\u001b[0m     \u001b[38;5;28;01mif\u001b[39;00m \u001b[38;5;28mlen\u001b[39m(line) \u001b[38;5;241m>\u001b[39m _MAXLINE:\n\u001b[1;32m    281\u001b[0m         \u001b[38;5;28;01mraise\u001b[39;00m LineTooLong(\u001b[38;5;124m\"\u001b[39m\u001b[38;5;124mstatus line\u001b[39m\u001b[38;5;124m\"\u001b[39m)\n",
      "File \u001b[0;32m/opt/homebrew/Cellar/python@3.10/3.10.9/Frameworks/Python.framework/Versions/3.10/lib/python3.10/socket.py:705\u001b[0m, in \u001b[0;36mSocketIO.readinto\u001b[0;34m(self, b)\u001b[0m\n\u001b[1;32m    703\u001b[0m \u001b[38;5;28;01mwhile\u001b[39;00m \u001b[38;5;28;01mTrue\u001b[39;00m:\n\u001b[1;32m    704\u001b[0m     \u001b[38;5;28;01mtry\u001b[39;00m:\n\u001b[0;32m--> 705\u001b[0m         \u001b[38;5;28;01mreturn\u001b[39;00m \u001b[38;5;28;43mself\u001b[39;49m\u001b[38;5;241;43m.\u001b[39;49m\u001b[43m_sock\u001b[49m\u001b[38;5;241;43m.\u001b[39;49m\u001b[43mrecv_into\u001b[49m\u001b[43m(\u001b[49m\u001b[43mb\u001b[49m\u001b[43m)\u001b[49m\n\u001b[1;32m    706\u001b[0m     \u001b[38;5;28;01mexcept\u001b[39;00m timeout:\n\u001b[1;32m    707\u001b[0m         \u001b[38;5;28mself\u001b[39m\u001b[38;5;241m.\u001b[39m_timeout_occurred \u001b[38;5;241m=\u001b[39m \u001b[38;5;28;01mTrue\u001b[39;00m\n",
      "\u001b[0;31mKeyboardInterrupt\u001b[0m: "
     ]
    }
   ],
   "source": [
    "from selenium import webdriver\n",
    "from selenium.webdriver.common.by import By\n",
    "from selenium.webdriver.support.ui import WebDriverWait\n",
    "from selenium.webdriver.support import expected_conditions as EC\n",
    "\n",
    "# Set up the browser\n",
    "browser = webdriver.Chrome()\n",
    "browser.get(\"https://www.mountainproject.com/search?q=seth-drew&type=users\")\n",
    "\n",
    "# Wait for the data to load\n",
    "wait = WebDriverWait(browser, 10)\n",
    "wait.until(EC.presence_of_element_located((By.XPATH, \"//img[@class='user-img-avatar']\")))\n",
    "\n",
    "# Get the data\n",
    "data = browser.page_source\n",
    "\n",
    "# Clean up\n",
    "browser.quit()\n",
    "\n",
    "# Process the data as needed"
   ]
  },
  {
   "cell_type": "code",
   "execution_count": null,
   "id": "bc6516db",
   "metadata": {},
   "outputs": [],
   "source": [
    "url = 'https://www.mountainproject.com/user/200169225'\n",
    "\n",
    "# Make a GET request to the URL and retrieve the HTML content\n",
    "response = requests.get(url)\n",
    "html_content = response.content"
   ]
  }
 ],
 "metadata": {
  "kernelspec": {
   "display_name": "venv",
   "language": "python",
   "name": "venv"
  },
  "language_info": {
   "codemirror_mode": {
    "name": "ipython",
    "version": 3
   },
   "file_extension": ".py",
   "mimetype": "text/x-python",
   "name": "python",
   "nbconvert_exporter": "python",
   "pygments_lexer": "ipython3",
   "version": "3.10.12"
  }
 },
 "nbformat": 4,
 "nbformat_minor": 5
}
